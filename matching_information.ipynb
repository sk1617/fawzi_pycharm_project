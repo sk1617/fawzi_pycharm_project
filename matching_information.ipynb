{
 "cells": [
  {
   "cell_type": "code",
   "execution_count": 1,
   "metadata": {},
   "outputs": [
    {
     "name": "stdout",
     "output_type": "stream",
     "text": [
      "start\n"
     ]
    }
   ],
   "source": [
    "\n",
    "print('start')"
   ]
  },
  {
   "cell_type": "code",
   "execution_count": 2,
   "metadata": {},
   "outputs": [
    {
     "ename": "ModuleNotFoundError",
     "evalue": "No module named 'pandas'",
     "output_type": "error",
     "traceback": [
      "\u001B[0;31m---------------------------------------------------------------------------\u001B[0m",
      "\u001B[0;31mModuleNotFoundError\u001B[0m                       Traceback (most recent call last)",
      "\u001B[0;32m<ipython-input-2-c07cf2ea686a>\u001B[0m in \u001B[0;36m<module>\u001B[0;34m\u001B[0m\n\u001B[1;32m      1\u001B[0m \u001B[0;32mimport\u001B[0m \u001B[0mglob\u001B[0m\u001B[0;34m\u001B[0m\u001B[0;34m\u001B[0m\u001B[0m\n\u001B[0;32m----> 2\u001B[0;31m \u001B[0;32mimport\u001B[0m \u001B[0mpandas\u001B[0m \u001B[0;32mas\u001B[0m \u001B[0mpd\u001B[0m\u001B[0;34m\u001B[0m\u001B[0;34m\u001B[0m\u001B[0m\n\u001B[0m\u001B[1;32m      3\u001B[0m \u001B[0;32mimport\u001B[0m \u001B[0mnumpy\u001B[0m \u001B[0;32mas\u001B[0m \u001B[0mnp\u001B[0m\u001B[0;34m\u001B[0m\u001B[0;34m\u001B[0m\u001B[0m\n\u001B[1;32m      4\u001B[0m \u001B[0;32mimport\u001B[0m \u001B[0mstatistics\u001B[0m \u001B[0;32mas\u001B[0m \u001B[0mst\u001B[0m\u001B[0;34m\u001B[0m\u001B[0;34m\u001B[0m\u001B[0m\n\u001B[1;32m      5\u001B[0m \u001B[0;32mimport\u001B[0m \u001B[0mmatplotlib\u001B[0m\u001B[0;34m.\u001B[0m\u001B[0mpyplot\u001B[0m \u001B[0;32mas\u001B[0m \u001B[0mplt\u001B[0m\u001B[0;34m\u001B[0m\u001B[0;34m\u001B[0m\u001B[0m\n",
      "\u001B[0;31mModuleNotFoundError\u001B[0m: No module named 'pandas'"
     ]
    }
   ],
   "source": [
    "import glob\n",
    "import pandas as pd\n",
    "import numpy as np\n",
    "import statistics as st\n",
    "import matplotlib.pyplot as plt\n",
    "import re\n",
    "from DataProcessing import *\n",
    "from DataImporting import sequence_list\n",
    "peak_list, residue_list = main_data_processing()"
   ]
  },
  {
   "cell_type": "code",
   "execution_count": 14,
   "metadata": {},
   "outputs": [],
   "source": [
    "two_d_dict={}\n",
    "two_d_dict['HShift'] = [x.get_data('TROSYHShift') for x in peak_list]\n",
    "two_d_dict['NShift'] = [x.get_data('TROSYNShift') for x in peak_list]\n",
    "two_d_dict['CA'] = [x.get_data('CAShift') for x in peak_list]\n",
    "two_d_dict['CB'] = [x.get_data('CBShift') for x in peak_list]\n",
    "two_d_dict['CAPrime'] = [x.get_data('CAPrimeShift') for x in peak_list]\n",
    "two_d_dict['CBPrime'] = [x.get_data('CBPrimeShift') for x in peak_list]\n",
    "two_d_dataframe = pd.DataFrame(two_d_dict)\n",
    "\n",
    "closest_ca_list, closest_cb_list = [], []\n",
    "for row1 in range(len(two_d_dataframe)):\n",
    "    ca_shift = two_d_dataframe.loc[row1, \"CA\"]\n",
    "    cb_shift = two_d_dataframe.loc[row1, \"CB\"]\n",
    "    if np.isnan(ca_shift):\n",
    "        closest_ca_list.append(None)\n",
    "    else:\n",
    "        ls_ca = []\n",
    "        for row2 in range(len(two_d_dataframe)):\n",
    "            ca_prime_shift = two_d_dataframe.loc[row2, \"CAPrime\"]\n",
    "            if not np.isnan(ca_prime_shift):\n",
    "                ls_ca.append(round(abs(ca_shift - ca_prime_shift), 4))\n",
    "        ls_ca.sort()\n",
    "        closest_ca_list.append(ls_ca[0:5])\n",
    "\n",
    "    if np.isnan(cb_shift):\n",
    "        closest_cb_list.append(None)\n",
    "    else:\n",
    "        ls_cb = []\n",
    "        for row2 in range(len(two_d_dataframe)):\n",
    "            cb_prime_shift = two_d_dataframe.loc[row2, \"CBPrime\"]\n",
    "            if not np.isnan(cb_prime_shift):\n",
    "                ls_cb.append(round(abs(cb_shift - cb_prime_shift), 4))\n",
    "        ls_cb.sort()\n",
    "        closest_cb_list.append(ls_cb[0:5])\n",
    "\n",
    "two_d_dataframe['ClosestCAShift1D'] = closest_ca_list\n",
    "two_d_dataframe['ClosestCBShift1D'] = closest_cb_list\n",
    "\n",
    "closest_2d_list = []\n",
    "row_number = []\n",
    "ca_del_shift_list = []\n",
    "cb_del_shift_list = []\n",
    "for row1 in range(len(two_d_dataframe)):\n",
    "    ca_shift = two_d_dataframe.loc[row1, \"CA\"]\n",
    "    cb_shift = two_d_dataframe.loc[row1, \"CB\"]\n",
    "    if np.isnan(ca_shift):\n",
    "        closest_2d_list.append(None)\n",
    "        row_number.append(None)\n",
    "        ca_del_shift_list.append(None)\n",
    "        cb_del_shift_list.append(None)\n",
    "    elif np.isnan(cb_shift):\n",
    "        closest_2d_list.append(None)\n",
    "        row_number.append(None)\n",
    "        ca_del_shift_list.append(None)\n",
    "        cb_del_shift_list.append(None)\n",
    "    else:\n",
    "        ls = []\n",
    "        ls1 = []\n",
    "        ls_ca, ls_cb = [], []\n",
    "        for row2 in range(len(two_d_dataframe)):\n",
    "            ca_prime_shift = two_d_dataframe.loc[row2, \"CAPrime\"]\n",
    "            cb_prime_shift = two_d_dataframe.loc[row2, \"CBPrime\"]\n",
    "            if not np.isnan(ca_prime_shift) and not np.isnan(cb_prime_shift):\n",
    "                ca_delta_squared = (abs(ca_shift - ca_prime_shift)) ** 2\n",
    "                cb_delta_squared = (abs(cb_shift - cb_prime_shift)) ** 2\n",
    "                ls.append(((ca_delta_squared + cb_delta_squared)/2) ** .5)\n",
    "                ls1.append(row2)\n",
    "                ls_ca.append(abs(ca_shift - ca_prime_shift))\n",
    "                ls_cb.append(abs(cb_shift - cb_prime_shift))\n",
    "        ls, ls1, ls_ca, ls_cb = zip(*sorted(zip(ls, ls1, ls_ca, ls_cb)))\n",
    "        closest_2d_list.append([round(x, 5) for x in ls[0:5]])\n",
    "        row_number.append(ls1[0:5])\n",
    "        ca_del_shift_list.append([round(x, 5) for x in ls_ca[0:5]])\n",
    "        cb_del_shift_list.append([round(x, 5) for x in ls_cb[0:5]])\n",
    "        \n",
    "two_d_dataframe['Closest2DShift (ppm)'] = closest_2d_list\n",
    "two_d_dataframe['Corresponding peak'] = row_number\n",
    "two_d_dataframe['CADel'] = ca_del_shift_list\n",
    "two_d_dataframe['CBDel'] = cb_del_shift_list"
   ]
  },
  {
   "cell_type": "code",
   "execution_count": 15,
   "metadata": {},
   "outputs": [
    {
     "name": "stdout",
     "output_type": "stream",
     "text": [
      "   HShift   NShift      CA      CB  CAPrime  CBPrime  \\\n",
      "0   5.756  114.300  58.590  57.296   60.265      NaN   \n",
      "1   5.251  126.472  55.967     NaN      NaN      NaN   \n",
      "2   6.303  122.611  49.834  69.595   49.177   66.158   \n",
      "3   6.425  120.326  56.740  55.626   58.271   22.790   \n",
      "4   6.285  109.235  63.646  56.981   63.742   57.774   \n",
      "\n",
      "                      ClosestCAShift1D                     ClosestCBShift1D  \\\n",
      "0  [0.089, 0.134, 0.178, 0.229, 0.231]    [0.014, 0.022, 0.05, 0.058, 0.18]   \n",
      "1  [0.018, 0.053, 0.067, 0.081, 0.089]                                 None   \n",
      "2    [0.09, 0.105, 0.33, 0.657, 0.884]  [0.307, 0.557, 0.587, 0.614, 0.775]   \n",
      "3  [0.024, 0.041, 0.089, 0.164, 0.173]  [0.018, 0.021, 0.024, 0.087, 0.151]   \n",
      "4    [0.014, 0.035, 0.04, 0.07, 0.075]  [0.068, 0.073, 0.102, 0.122, 0.128]   \n",
      "\n",
      "                            Closest2DShift (ppm)        Corresponding peak  \\\n",
      "0   [0.14644, 0.17141, 0.29855, 0.52331, 0.5289]   (180, 101, 11, 80, 331)   \n",
      "1                                           None                      None   \n",
      "2  [0.72084, 1.68694, 1.90425, 1.97339, 2.02967]   (16, 88, 241, 332, 275)   \n",
      "3  [0.57374, 0.59421, 0.60949, 0.62499, 0.63297]  (248, 121, 181, 177, 62)   \n",
      "4   [0.49359, 0.52464, 0.56483, 0.7701, 0.77191]     (186, 5, 4, 205, 247)   \n",
      "\n",
      "                                 CADel                                CBDel  \n",
      "0  [0.089, 0.242, 0.293, 0.715, 0.726]   [0.187, 0.014, 0.304, 0.191, 0.18]  \n",
      "1                                 None                                 None  \n",
      "2    [0.105, 0.09, 2.02, 2.204, 2.003]  [1.014, 2.384, 1.781, 1.712, 2.056]  \n",
      "3   [0.312, 0.84, 0.785, 0.275, 0.608]   [0.749, 0.024, 0.356, 0.84, 0.657]  \n",
      "4  [0.075, 0.153, 0.096, 0.014, 1.084]  [0.694, 0.726, 0.793, 1.089, 0.129]  \n"
     ]
    }
   ],
   "source": [
    "print(two_d_dataframe.head())"
   ]
  },
  {
   "cell_type": "code",
   "execution_count": 23,
   "metadata": {},
   "outputs": [],
   "source": [
    "twod_delta_list_zero = [x[0] for x in two_d_dataframe['Closest2DShift (ppm)'] if x is not None and x[0] < 5]\n",
    "twod_delta_list_one = [x[1] for x in two_d_dataframe['Closest2DShift (ppm)'] if x is not None and x[1] < 5]\n",
    "plt.hist(twod_delta_list_zero, color='b', bins=20)\n",
    "plt.xticks(np.arange(0, 5, step=.5))\n",
    "plt.yticks(np.arange(0, 50, step=5))\n",
    "plt.show()\n",
    "plt.hist(twod_delta_list_one, color='r', bins=20)\n",
    "plt.xticks(np.arange(0, 5, step=.5))\n",
    "plt.yticks(np.arange(0, 50, step=5))\n",
    "plt.show()"
   ]
  },
  {
   "cell_type": "code",
   "execution_count": 5,
   "metadata": {},
   "outputs": [],
   "source": [
    "import plotly.express as px\n",
    "import plotly.graph_objects as go "
   ]
  },
  {
   "cell_type": "code",
   "execution_count": 52,
   "metadata": {
    "scrolled": false
   },
   "outputs": [
    {
     "data": {
      "application/vnd.plotly.v1+json": {
       "config": {
        "plotlyServerURL": "https://plot.ly"
       },
       "data": [
        {
         "name": "second closest",
         "opacity": 0.75,
         "type": "histogram",
         "x": [
          0.17141,
          1.68694,
          0.59421,
          0.52464,
          0.81421,
          1.48258,
          0.44711,
          0.52766,
          0.59652,
          3.22297,
          0.32611,
          0.49708,
          0.70482,
          0.9547,
          0.52454,
          0.83843,
          1.59115,
          0.35365,
          2.23892,
          0.5158,
          0.94915,
          0.42275,
          0.73311,
          0.80308,
          1.19477,
          4.20572,
          0.28494,
          1.05521,
          1.00285,
          1.03207,
          2.10134,
          3.82518,
          1.27562,
          1.07229,
          0.82738,
          2.34082,
          0.40681,
          0.47314,
          0.42451,
          0.60772,
          0.7361,
          1.68992,
          1.60357,
          0.65794,
          0.8728,
          1.27364,
          2.13612,
          0.48195,
          1.35579,
          0.60271,
          0.37521,
          0.67634,
          1.33741,
          0.73106,
          0.76979,
          0.49615,
          1.13089,
          0.158,
          0.27642,
          0.4719,
          0.91937,
          0.36274,
          1.28621,
          1.5298,
          0.28609,
          0.75032,
          0.42605,
          0.53971,
          0.79924,
          1.04255,
          0.15796,
          1.30408,
          0.53349,
          0.52285,
          0.52602,
          0.7613,
          0.89552,
          0.63221,
          0.98169,
          0.25525,
          1.57013,
          0.52498,
          0.40643,
          0.75614,
          1.58761,
          0.40598,
          0.58969,
          0.71038,
          0.53789,
          0.5476,
          0.42306,
          0.55012,
          2.70614,
          0.53861,
          0.59606,
          1.12922,
          1.59138,
          0.63071,
          3.19913,
          0.32029,
          0.82879,
          0.36489,
          0.34689,
          0.31961,
          0.3039,
          0.30094,
          0.32635,
          0.55213,
          0.46386,
          1.47499,
          0.46878,
          0.54646,
          0.78492,
          0.82356,
          0.6085,
          0.53411,
          0.62692,
          0.42273,
          1.78779,
          0.76713,
          2.36568,
          0.81708,
          1.46139,
          0.55121,
          0.39776,
          0.3913,
          0.53627,
          0.5853,
          0.78062,
          0.55699,
          0.54883,
          2.58643,
          0.2179,
          0.56788,
          0.7283,
          0.47663,
          0.67872,
          0.93708,
          0.45636,
          2.15615,
          0.57028,
          0.76029,
          0.64635,
          0.45087,
          0.50028,
          0.6673,
          0.56896,
          0.73638,
          0.65807,
          1.69086
         ]
        },
        {
         "name": "first closest",
         "opacity": 0.75,
         "type": "histogram",
         "x": [
          0.14644,
          0.72084,
          0.57374,
          0.49359,
          0.78808,
          1.10973,
          0.27438,
          0.17792,
          0.39594,
          2.24118,
          0.07441,
          0.48764,
          0.64691,
          0.66283,
          0.15984,
          0.7281,
          1.36161,
          0.24681,
          2.2318,
          0.421,
          0.70243,
          0.33109,
          0.63214,
          0.78143,
          1.12346,
          3.58585,
          0.195,
          0.66984,
          0.59694,
          0.78277,
          2.0338,
          3.78468,
          0.86922,
          0.82601,
          0.46804,
          2.18186,
          0.31468,
          0.36487,
          0.26821,
          0.17754,
          0.66352,
          0.55502,
          0.82433,
          0.52369,
          0.55942,
          0.6192,
          1.82403,
          0.43229,
          0.9258,
          0.56063,
          0.32171,
          0.4845,
          1.08002,
          0.21745,
          0.68929,
          0.2222,
          0.90048,
          0.13401,
          0.22881,
          0.26806,
          0.7778,
          0.28678,
          0.43447,
          1.12823,
          0.2377,
          0.74903,
          0.41797,
          0.20652,
          0.74368,
          0.81271,
          0.15312,
          1.18871,
          0.35511,
          0.42782,
          0.32007,
          0.65938,
          0.67802,
          0.11853,
          0.77747,
          0.22556,
          1.56416,
          0.2536,
          0.27084,
          0.44336,
          0.31351,
          0.09563,
          0.27721,
          0.25385,
          0.24902,
          0.51471,
          0.3552,
          0.3141,
          1.99328,
          0.52883,
          0.10846,
          0.74893,
          0.9347,
          0.49955,
          0.41991,
          0.05474,
          0.62442,
          0.15257,
          0.07555,
          0.07403,
          0.10533,
          0.08043,
          0.29677,
          0.36424,
          0.45779,
          0.3233,
          0.32354,
          0.44162,
          0.49326,
          0.56302,
          0.49458,
          0.35468,
          0.48965,
          0.32452,
          0.92378,
          0.51502,
          2.12974,
          0.60647,
          1.38991,
          0.1516,
          0.25489,
          0.23053,
          0.35374,
          0.39838,
          0.60008,
          0.37687,
          0.41777,
          1.72653,
          0.01235,
          0.56305,
          0.69475,
          0.36305,
          0.1047,
          0.60313,
          0.0779,
          1.68791,
          0.22111,
          0.61571,
          0.39201,
          0.33155,
          0.4457,
          0.56962,
          0.54958,
          0.33297,
          0.34582,
          0.58302
         ]
        }
       ],
       "layout": {
        "barmode": "overlay",
        "template": {
         "data": {
          "bar": [
           {
            "error_x": {
             "color": "#2a3f5f"
            },
            "error_y": {
             "color": "#2a3f5f"
            },
            "marker": {
             "line": {
              "color": "#E5ECF6",
              "width": 0.5
             }
            },
            "type": "bar"
           }
          ],
          "barpolar": [
           {
            "marker": {
             "line": {
              "color": "#E5ECF6",
              "width": 0.5
             }
            },
            "type": "barpolar"
           }
          ],
          "carpet": [
           {
            "aaxis": {
             "endlinecolor": "#2a3f5f",
             "gridcolor": "white",
             "linecolor": "white",
             "minorgridcolor": "white",
             "startlinecolor": "#2a3f5f"
            },
            "baxis": {
             "endlinecolor": "#2a3f5f",
             "gridcolor": "white",
             "linecolor": "white",
             "minorgridcolor": "white",
             "startlinecolor": "#2a3f5f"
            },
            "type": "carpet"
           }
          ],
          "choropleth": [
           {
            "colorbar": {
             "outlinewidth": 0,
             "ticks": ""
            },
            "type": "choropleth"
           }
          ],
          "contour": [
           {
            "colorbar": {
             "outlinewidth": 0,
             "ticks": ""
            },
            "colorscale": [
             [
              0,
              "#0d0887"
             ],
             [
              0.1111111111111111,
              "#46039f"
             ],
             [
              0.2222222222222222,
              "#7201a8"
             ],
             [
              0.3333333333333333,
              "#9c179e"
             ],
             [
              0.4444444444444444,
              "#bd3786"
             ],
             [
              0.5555555555555556,
              "#d8576b"
             ],
             [
              0.6666666666666666,
              "#ed7953"
             ],
             [
              0.7777777777777778,
              "#fb9f3a"
             ],
             [
              0.8888888888888888,
              "#fdca26"
             ],
             [
              1,
              "#f0f921"
             ]
            ],
            "type": "contour"
           }
          ],
          "contourcarpet": [
           {
            "colorbar": {
             "outlinewidth": 0,
             "ticks": ""
            },
            "type": "contourcarpet"
           }
          ],
          "heatmap": [
           {
            "colorbar": {
             "outlinewidth": 0,
             "ticks": ""
            },
            "colorscale": [
             [
              0,
              "#0d0887"
             ],
             [
              0.1111111111111111,
              "#46039f"
             ],
             [
              0.2222222222222222,
              "#7201a8"
             ],
             [
              0.3333333333333333,
              "#9c179e"
             ],
             [
              0.4444444444444444,
              "#bd3786"
             ],
             [
              0.5555555555555556,
              "#d8576b"
             ],
             [
              0.6666666666666666,
              "#ed7953"
             ],
             [
              0.7777777777777778,
              "#fb9f3a"
             ],
             [
              0.8888888888888888,
              "#fdca26"
             ],
             [
              1,
              "#f0f921"
             ]
            ],
            "type": "heatmap"
           }
          ],
          "heatmapgl": [
           {
            "colorbar": {
             "outlinewidth": 0,
             "ticks": ""
            },
            "colorscale": [
             [
              0,
              "#0d0887"
             ],
             [
              0.1111111111111111,
              "#46039f"
             ],
             [
              0.2222222222222222,
              "#7201a8"
             ],
             [
              0.3333333333333333,
              "#9c179e"
             ],
             [
              0.4444444444444444,
              "#bd3786"
             ],
             [
              0.5555555555555556,
              "#d8576b"
             ],
             [
              0.6666666666666666,
              "#ed7953"
             ],
             [
              0.7777777777777778,
              "#fb9f3a"
             ],
             [
              0.8888888888888888,
              "#fdca26"
             ],
             [
              1,
              "#f0f921"
             ]
            ],
            "type": "heatmapgl"
           }
          ],
          "histogram": [
           {
            "marker": {
             "colorbar": {
              "outlinewidth": 0,
              "ticks": ""
             }
            },
            "type": "histogram"
           }
          ],
          "histogram2d": [
           {
            "colorbar": {
             "outlinewidth": 0,
             "ticks": ""
            },
            "colorscale": [
             [
              0,
              "#0d0887"
             ],
             [
              0.1111111111111111,
              "#46039f"
             ],
             [
              0.2222222222222222,
              "#7201a8"
             ],
             [
              0.3333333333333333,
              "#9c179e"
             ],
             [
              0.4444444444444444,
              "#bd3786"
             ],
             [
              0.5555555555555556,
              "#d8576b"
             ],
             [
              0.6666666666666666,
              "#ed7953"
             ],
             [
              0.7777777777777778,
              "#fb9f3a"
             ],
             [
              0.8888888888888888,
              "#fdca26"
             ],
             [
              1,
              "#f0f921"
             ]
            ],
            "type": "histogram2d"
           }
          ],
          "histogram2dcontour": [
           {
            "colorbar": {
             "outlinewidth": 0,
             "ticks": ""
            },
            "colorscale": [
             [
              0,
              "#0d0887"
             ],
             [
              0.1111111111111111,
              "#46039f"
             ],
             [
              0.2222222222222222,
              "#7201a8"
             ],
             [
              0.3333333333333333,
              "#9c179e"
             ],
             [
              0.4444444444444444,
              "#bd3786"
             ],
             [
              0.5555555555555556,
              "#d8576b"
             ],
             [
              0.6666666666666666,
              "#ed7953"
             ],
             [
              0.7777777777777778,
              "#fb9f3a"
             ],
             [
              0.8888888888888888,
              "#fdca26"
             ],
             [
              1,
              "#f0f921"
             ]
            ],
            "type": "histogram2dcontour"
           }
          ],
          "mesh3d": [
           {
            "colorbar": {
             "outlinewidth": 0,
             "ticks": ""
            },
            "type": "mesh3d"
           }
          ],
          "parcoords": [
           {
            "line": {
             "colorbar": {
              "outlinewidth": 0,
              "ticks": ""
             }
            },
            "type": "parcoords"
           }
          ],
          "pie": [
           {
            "automargin": true,
            "type": "pie"
           }
          ],
          "scatter": [
           {
            "marker": {
             "colorbar": {
              "outlinewidth": 0,
              "ticks": ""
             }
            },
            "type": "scatter"
           }
          ],
          "scatter3d": [
           {
            "line": {
             "colorbar": {
              "outlinewidth": 0,
              "ticks": ""
             }
            },
            "marker": {
             "colorbar": {
              "outlinewidth": 0,
              "ticks": ""
             }
            },
            "type": "scatter3d"
           }
          ],
          "scattercarpet": [
           {
            "marker": {
             "colorbar": {
              "outlinewidth": 0,
              "ticks": ""
             }
            },
            "type": "scattercarpet"
           }
          ],
          "scattergeo": [
           {
            "marker": {
             "colorbar": {
              "outlinewidth": 0,
              "ticks": ""
             }
            },
            "type": "scattergeo"
           }
          ],
          "scattergl": [
           {
            "marker": {
             "colorbar": {
              "outlinewidth": 0,
              "ticks": ""
             }
            },
            "type": "scattergl"
           }
          ],
          "scattermapbox": [
           {
            "marker": {
             "colorbar": {
              "outlinewidth": 0,
              "ticks": ""
             }
            },
            "type": "scattermapbox"
           }
          ],
          "scatterpolar": [
           {
            "marker": {
             "colorbar": {
              "outlinewidth": 0,
              "ticks": ""
             }
            },
            "type": "scatterpolar"
           }
          ],
          "scatterpolargl": [
           {
            "marker": {
             "colorbar": {
              "outlinewidth": 0,
              "ticks": ""
             }
            },
            "type": "scatterpolargl"
           }
          ],
          "scatterternary": [
           {
            "marker": {
             "colorbar": {
              "outlinewidth": 0,
              "ticks": ""
             }
            },
            "type": "scatterternary"
           }
          ],
          "surface": [
           {
            "colorbar": {
             "outlinewidth": 0,
             "ticks": ""
            },
            "colorscale": [
             [
              0,
              "#0d0887"
             ],
             [
              0.1111111111111111,
              "#46039f"
             ],
             [
              0.2222222222222222,
              "#7201a8"
             ],
             [
              0.3333333333333333,
              "#9c179e"
             ],
             [
              0.4444444444444444,
              "#bd3786"
             ],
             [
              0.5555555555555556,
              "#d8576b"
             ],
             [
              0.6666666666666666,
              "#ed7953"
             ],
             [
              0.7777777777777778,
              "#fb9f3a"
             ],
             [
              0.8888888888888888,
              "#fdca26"
             ],
             [
              1,
              "#f0f921"
             ]
            ],
            "type": "surface"
           }
          ],
          "table": [
           {
            "cells": {
             "fill": {
              "color": "#EBF0F8"
             },
             "line": {
              "color": "white"
             }
            },
            "header": {
             "fill": {
              "color": "#C8D4E3"
             },
             "line": {
              "color": "white"
             }
            },
            "type": "table"
           }
          ]
         },
         "layout": {
          "annotationdefaults": {
           "arrowcolor": "#2a3f5f",
           "arrowhead": 0,
           "arrowwidth": 1
          },
          "coloraxis": {
           "colorbar": {
            "outlinewidth": 0,
            "ticks": ""
           }
          },
          "colorscale": {
           "diverging": [
            [
             0,
             "#8e0152"
            ],
            [
             0.1,
             "#c51b7d"
            ],
            [
             0.2,
             "#de77ae"
            ],
            [
             0.3,
             "#f1b6da"
            ],
            [
             0.4,
             "#fde0ef"
            ],
            [
             0.5,
             "#f7f7f7"
            ],
            [
             0.6,
             "#e6f5d0"
            ],
            [
             0.7,
             "#b8e186"
            ],
            [
             0.8,
             "#7fbc41"
            ],
            [
             0.9,
             "#4d9221"
            ],
            [
             1,
             "#276419"
            ]
           ],
           "sequential": [
            [
             0,
             "#0d0887"
            ],
            [
             0.1111111111111111,
             "#46039f"
            ],
            [
             0.2222222222222222,
             "#7201a8"
            ],
            [
             0.3333333333333333,
             "#9c179e"
            ],
            [
             0.4444444444444444,
             "#bd3786"
            ],
            [
             0.5555555555555556,
             "#d8576b"
            ],
            [
             0.6666666666666666,
             "#ed7953"
            ],
            [
             0.7777777777777778,
             "#fb9f3a"
            ],
            [
             0.8888888888888888,
             "#fdca26"
            ],
            [
             1,
             "#f0f921"
            ]
           ],
           "sequentialminus": [
            [
             0,
             "#0d0887"
            ],
            [
             0.1111111111111111,
             "#46039f"
            ],
            [
             0.2222222222222222,
             "#7201a8"
            ],
            [
             0.3333333333333333,
             "#9c179e"
            ],
            [
             0.4444444444444444,
             "#bd3786"
            ],
            [
             0.5555555555555556,
             "#d8576b"
            ],
            [
             0.6666666666666666,
             "#ed7953"
            ],
            [
             0.7777777777777778,
             "#fb9f3a"
            ],
            [
             0.8888888888888888,
             "#fdca26"
            ],
            [
             1,
             "#f0f921"
            ]
           ]
          },
          "colorway": [
           "#636efa",
           "#EF553B",
           "#00cc96",
           "#ab63fa",
           "#FFA15A",
           "#19d3f3",
           "#FF6692",
           "#B6E880",
           "#FF97FF",
           "#FECB52"
          ],
          "font": {
           "color": "#2a3f5f"
          },
          "geo": {
           "bgcolor": "white",
           "lakecolor": "white",
           "landcolor": "#E5ECF6",
           "showlakes": true,
           "showland": true,
           "subunitcolor": "white"
          },
          "hoverlabel": {
           "align": "left"
          },
          "hovermode": "closest",
          "mapbox": {
           "style": "light"
          },
          "paper_bgcolor": "white",
          "plot_bgcolor": "#E5ECF6",
          "polar": {
           "angularaxis": {
            "gridcolor": "white",
            "linecolor": "white",
            "ticks": ""
           },
           "bgcolor": "#E5ECF6",
           "radialaxis": {
            "gridcolor": "white",
            "linecolor": "white",
            "ticks": ""
           }
          },
          "scene": {
           "xaxis": {
            "backgroundcolor": "#E5ECF6",
            "gridcolor": "white",
            "gridwidth": 2,
            "linecolor": "white",
            "showbackground": true,
            "ticks": "",
            "zerolinecolor": "white"
           },
           "yaxis": {
            "backgroundcolor": "#E5ECF6",
            "gridcolor": "white",
            "gridwidth": 2,
            "linecolor": "white",
            "showbackground": true,
            "ticks": "",
            "zerolinecolor": "white"
           },
           "zaxis": {
            "backgroundcolor": "#E5ECF6",
            "gridcolor": "white",
            "gridwidth": 2,
            "linecolor": "white",
            "showbackground": true,
            "ticks": "",
            "zerolinecolor": "white"
           }
          },
          "shapedefaults": {
           "line": {
            "color": "#2a3f5f"
           }
          },
          "ternary": {
           "aaxis": {
            "gridcolor": "white",
            "linecolor": "white",
            "ticks": ""
           },
           "baxis": {
            "gridcolor": "white",
            "linecolor": "white",
            "ticks": ""
           },
           "bgcolor": "#E5ECF6",
           "caxis": {
            "gridcolor": "white",
            "linecolor": "white",
            "ticks": ""
           }
          },
          "title": {
           "x": 0.05
          },
          "xaxis": {
           "automargin": true,
           "gridcolor": "white",
           "linecolor": "white",
           "ticks": "",
           "title": {
            "standoff": 15
           },
           "zerolinecolor": "white",
           "zerolinewidth": 2
          },
          "yaxis": {
           "automargin": true,
           "gridcolor": "white",
           "linecolor": "white",
           "ticks": "",
           "title": {
            "standoff": 15
           },
           "zerolinecolor": "white",
           "zerolinewidth": 2
          }
         }
        },
        "title": {
         "text": "Closest 2D Shift Histogram"
        },
        "xaxis": {
         "title": {
          "text": "Root Mean Square Delta Shift (ppm)"
         }
        }
       }
      },
      "text/html": [
       "<div>\n",
       "        \n",
       "        \n",
       "            <div id=\"682cfd16-1e05-4ad8-bcb9-a53291820d37\" class=\"plotly-graph-div\" style=\"height:525px; width:100%;\"></div>\n",
       "            <script type=\"text/javascript\">\n",
       "                require([\"plotly\"], function(Plotly) {\n",
       "                    window.PLOTLYENV=window.PLOTLYENV || {};\n",
       "                    \n",
       "                if (document.getElementById(\"682cfd16-1e05-4ad8-bcb9-a53291820d37\")) {\n",
       "                    Plotly.newPlot(\n",
       "                        '682cfd16-1e05-4ad8-bcb9-a53291820d37',\n",
       "                        [{\"name\": \"second closest\", \"opacity\": 0.75, \"type\": \"histogram\", \"x\": [0.17141, 1.68694, 0.59421, 0.52464, 0.81421, 1.48258, 0.44711, 0.52766, 0.59652, 3.22297, 0.32611, 0.49708, 0.70482, 0.9547, 0.52454, 0.83843, 1.59115, 0.35365, 2.23892, 0.5158, 0.94915, 0.42275, 0.73311, 0.80308, 1.19477, 4.20572, 0.28494, 1.05521, 1.00285, 1.03207, 2.10134, 3.82518, 1.27562, 1.07229, 0.82738, 2.34082, 0.40681, 0.47314, 0.42451, 0.60772, 0.7361, 1.68992, 1.60357, 0.65794, 0.8728, 1.27364, 2.13612, 0.48195, 1.35579, 0.60271, 0.37521, 0.67634, 1.33741, 0.73106, 0.76979, 0.49615, 1.13089, 0.158, 0.27642, 0.4719, 0.91937, 0.36274, 1.28621, 1.5298, 0.28609, 0.75032, 0.42605, 0.53971, 0.79924, 1.04255, 0.15796, 1.30408, 0.53349, 0.52285, 0.52602, 0.7613, 0.89552, 0.63221, 0.98169, 0.25525, 1.57013, 0.52498, 0.40643, 0.75614, 1.58761, 0.40598, 0.58969, 0.71038, 0.53789, 0.5476, 0.42306, 0.55012, 2.70614, 0.53861, 0.59606, 1.12922, 1.59138, 0.63071, 3.19913, 0.32029, 0.82879, 0.36489, 0.34689, 0.31961, 0.3039, 0.30094, 0.32635, 0.55213, 0.46386, 1.47499, 0.46878, 0.54646, 0.78492, 0.82356, 0.6085, 0.53411, 0.62692, 0.42273, 1.78779, 0.76713, 2.36568, 0.81708, 1.46139, 0.55121, 0.39776, 0.3913, 0.53627, 0.5853, 0.78062, 0.55699, 0.54883, 2.58643, 0.2179, 0.56788, 0.7283, 0.47663, 0.67872, 0.93708, 0.45636, 2.15615, 0.57028, 0.76029, 0.64635, 0.45087, 0.50028, 0.6673, 0.56896, 0.73638, 0.65807, 1.69086]}, {\"name\": \"first closest\", \"opacity\": 0.75, \"type\": \"histogram\", \"x\": [0.14644, 0.72084, 0.57374, 0.49359, 0.78808, 1.10973, 0.27438, 0.17792, 0.39594, 2.24118, 0.07441, 0.48764, 0.64691, 0.66283, 0.15984, 0.7281, 1.36161, 0.24681, 2.2318, 0.421, 0.70243, 0.33109, 0.63214, 0.78143, 1.12346, 3.58585, 0.195, 0.66984, 0.59694, 0.78277, 2.0338, 3.78468, 0.86922, 0.82601, 0.46804, 2.18186, 0.31468, 0.36487, 0.26821, 0.17754, 0.66352, 0.55502, 0.82433, 0.52369, 0.55942, 0.6192, 1.82403, 0.43229, 0.9258, 0.56063, 0.32171, 0.4845, 1.08002, 0.21745, 0.68929, 0.2222, 0.90048, 0.13401, 0.22881, 0.26806, 0.7778, 0.28678, 0.43447, 1.12823, 0.2377, 0.74903, 0.41797, 0.20652, 0.74368, 0.81271, 0.15312, 1.18871, 0.35511, 0.42782, 0.32007, 0.65938, 0.67802, 0.11853, 0.77747, 0.22556, 1.56416, 0.2536, 0.27084, 0.44336, 0.31351, 0.09563, 0.27721, 0.25385, 0.24902, 0.51471, 0.3552, 0.3141, 1.99328, 0.52883, 0.10846, 0.74893, 0.9347, 0.49955, 0.41991, 0.05474, 0.62442, 0.15257, 0.07555, 0.07403, 0.10533, 0.08043, 0.29677, 0.36424, 0.45779, 0.3233, 0.32354, 0.44162, 0.49326, 0.56302, 0.49458, 0.35468, 0.48965, 0.32452, 0.92378, 0.51502, 2.12974, 0.60647, 1.38991, 0.1516, 0.25489, 0.23053, 0.35374, 0.39838, 0.60008, 0.37687, 0.41777, 1.72653, 0.01235, 0.56305, 0.69475, 0.36305, 0.1047, 0.60313, 0.0779, 1.68791, 0.22111, 0.61571, 0.39201, 0.33155, 0.4457, 0.56962, 0.54958, 0.33297, 0.34582, 0.58302]}],\n",
       "                        {\"barmode\": \"overlay\", \"template\": {\"data\": {\"bar\": [{\"error_x\": {\"color\": \"#2a3f5f\"}, \"error_y\": {\"color\": \"#2a3f5f\"}, \"marker\": {\"line\": {\"color\": \"#E5ECF6\", \"width\": 0.5}}, \"type\": \"bar\"}], \"barpolar\": [{\"marker\": {\"line\": {\"color\": \"#E5ECF6\", \"width\": 0.5}}, \"type\": \"barpolar\"}], \"carpet\": [{\"aaxis\": {\"endlinecolor\": \"#2a3f5f\", \"gridcolor\": \"white\", \"linecolor\": \"white\", \"minorgridcolor\": \"white\", \"startlinecolor\": \"#2a3f5f\"}, \"baxis\": {\"endlinecolor\": \"#2a3f5f\", \"gridcolor\": \"white\", \"linecolor\": \"white\", \"minorgridcolor\": \"white\", \"startlinecolor\": \"#2a3f5f\"}, \"type\": \"carpet\"}], \"choropleth\": [{\"colorbar\": {\"outlinewidth\": 0, \"ticks\": \"\"}, \"type\": \"choropleth\"}], \"contour\": [{\"colorbar\": {\"outlinewidth\": 0, \"ticks\": \"\"}, \"colorscale\": [[0.0, \"#0d0887\"], [0.1111111111111111, \"#46039f\"], [0.2222222222222222, \"#7201a8\"], [0.3333333333333333, \"#9c179e\"], [0.4444444444444444, \"#bd3786\"], [0.5555555555555556, \"#d8576b\"], [0.6666666666666666, \"#ed7953\"], [0.7777777777777778, \"#fb9f3a\"], [0.8888888888888888, \"#fdca26\"], [1.0, \"#f0f921\"]], \"type\": \"contour\"}], \"contourcarpet\": [{\"colorbar\": {\"outlinewidth\": 0, \"ticks\": \"\"}, \"type\": \"contourcarpet\"}], \"heatmap\": [{\"colorbar\": {\"outlinewidth\": 0, \"ticks\": \"\"}, \"colorscale\": [[0.0, \"#0d0887\"], [0.1111111111111111, \"#46039f\"], [0.2222222222222222, \"#7201a8\"], [0.3333333333333333, \"#9c179e\"], [0.4444444444444444, \"#bd3786\"], [0.5555555555555556, \"#d8576b\"], [0.6666666666666666, \"#ed7953\"], [0.7777777777777778, \"#fb9f3a\"], [0.8888888888888888, \"#fdca26\"], [1.0, \"#f0f921\"]], \"type\": \"heatmap\"}], \"heatmapgl\": [{\"colorbar\": {\"outlinewidth\": 0, \"ticks\": \"\"}, \"colorscale\": [[0.0, \"#0d0887\"], [0.1111111111111111, \"#46039f\"], [0.2222222222222222, \"#7201a8\"], [0.3333333333333333, \"#9c179e\"], [0.4444444444444444, \"#bd3786\"], [0.5555555555555556, \"#d8576b\"], [0.6666666666666666, \"#ed7953\"], [0.7777777777777778, \"#fb9f3a\"], [0.8888888888888888, \"#fdca26\"], [1.0, \"#f0f921\"]], \"type\": \"heatmapgl\"}], \"histogram\": [{\"marker\": {\"colorbar\": {\"outlinewidth\": 0, \"ticks\": \"\"}}, \"type\": \"histogram\"}], \"histogram2d\": [{\"colorbar\": {\"outlinewidth\": 0, \"ticks\": \"\"}, \"colorscale\": [[0.0, \"#0d0887\"], [0.1111111111111111, \"#46039f\"], [0.2222222222222222, \"#7201a8\"], [0.3333333333333333, \"#9c179e\"], [0.4444444444444444, \"#bd3786\"], [0.5555555555555556, \"#d8576b\"], [0.6666666666666666, \"#ed7953\"], [0.7777777777777778, \"#fb9f3a\"], [0.8888888888888888, \"#fdca26\"], [1.0, \"#f0f921\"]], \"type\": \"histogram2d\"}], \"histogram2dcontour\": [{\"colorbar\": {\"outlinewidth\": 0, \"ticks\": \"\"}, \"colorscale\": [[0.0, \"#0d0887\"], [0.1111111111111111, \"#46039f\"], [0.2222222222222222, \"#7201a8\"], [0.3333333333333333, \"#9c179e\"], [0.4444444444444444, \"#bd3786\"], [0.5555555555555556, \"#d8576b\"], [0.6666666666666666, \"#ed7953\"], [0.7777777777777778, \"#fb9f3a\"], [0.8888888888888888, \"#fdca26\"], [1.0, \"#f0f921\"]], \"type\": \"histogram2dcontour\"}], \"mesh3d\": [{\"colorbar\": {\"outlinewidth\": 0, \"ticks\": \"\"}, \"type\": \"mesh3d\"}], \"parcoords\": [{\"line\": {\"colorbar\": {\"outlinewidth\": 0, \"ticks\": \"\"}}, \"type\": \"parcoords\"}], \"pie\": [{\"automargin\": true, \"type\": \"pie\"}], \"scatter\": [{\"marker\": {\"colorbar\": {\"outlinewidth\": 0, \"ticks\": \"\"}}, \"type\": \"scatter\"}], \"scatter3d\": [{\"line\": {\"colorbar\": {\"outlinewidth\": 0, \"ticks\": \"\"}}, \"marker\": {\"colorbar\": {\"outlinewidth\": 0, \"ticks\": \"\"}}, \"type\": \"scatter3d\"}], \"scattercarpet\": [{\"marker\": {\"colorbar\": {\"outlinewidth\": 0, \"ticks\": \"\"}}, \"type\": \"scattercarpet\"}], \"scattergeo\": [{\"marker\": {\"colorbar\": {\"outlinewidth\": 0, \"ticks\": \"\"}}, \"type\": \"scattergeo\"}], \"scattergl\": [{\"marker\": {\"colorbar\": {\"outlinewidth\": 0, \"ticks\": \"\"}}, \"type\": \"scattergl\"}], \"scattermapbox\": [{\"marker\": {\"colorbar\": {\"outlinewidth\": 0, \"ticks\": \"\"}}, \"type\": \"scattermapbox\"}], \"scatterpolar\": [{\"marker\": {\"colorbar\": {\"outlinewidth\": 0, \"ticks\": \"\"}}, \"type\": \"scatterpolar\"}], \"scatterpolargl\": [{\"marker\": {\"colorbar\": {\"outlinewidth\": 0, \"ticks\": \"\"}}, \"type\": \"scatterpolargl\"}], \"scatterternary\": [{\"marker\": {\"colorbar\": {\"outlinewidth\": 0, \"ticks\": \"\"}}, \"type\": \"scatterternary\"}], \"surface\": [{\"colorbar\": {\"outlinewidth\": 0, \"ticks\": \"\"}, \"colorscale\": [[0.0, \"#0d0887\"], [0.1111111111111111, \"#46039f\"], [0.2222222222222222, \"#7201a8\"], [0.3333333333333333, \"#9c179e\"], [0.4444444444444444, \"#bd3786\"], [0.5555555555555556, \"#d8576b\"], [0.6666666666666666, \"#ed7953\"], [0.7777777777777778, \"#fb9f3a\"], [0.8888888888888888, \"#fdca26\"], [1.0, \"#f0f921\"]], \"type\": \"surface\"}], \"table\": [{\"cells\": {\"fill\": {\"color\": \"#EBF0F8\"}, \"line\": {\"color\": \"white\"}}, \"header\": {\"fill\": {\"color\": \"#C8D4E3\"}, \"line\": {\"color\": \"white\"}}, \"type\": \"table\"}]}, \"layout\": {\"annotationdefaults\": {\"arrowcolor\": \"#2a3f5f\", \"arrowhead\": 0, \"arrowwidth\": 1}, \"coloraxis\": {\"colorbar\": {\"outlinewidth\": 0, \"ticks\": \"\"}}, \"colorscale\": {\"diverging\": [[0, \"#8e0152\"], [0.1, \"#c51b7d\"], [0.2, \"#de77ae\"], [0.3, \"#f1b6da\"], [0.4, \"#fde0ef\"], [0.5, \"#f7f7f7\"], [0.6, \"#e6f5d0\"], [0.7, \"#b8e186\"], [0.8, \"#7fbc41\"], [0.9, \"#4d9221\"], [1, \"#276419\"]], \"sequential\": [[0.0, \"#0d0887\"], [0.1111111111111111, \"#46039f\"], [0.2222222222222222, \"#7201a8\"], [0.3333333333333333, \"#9c179e\"], [0.4444444444444444, \"#bd3786\"], [0.5555555555555556, \"#d8576b\"], [0.6666666666666666, \"#ed7953\"], [0.7777777777777778, \"#fb9f3a\"], [0.8888888888888888, \"#fdca26\"], [1.0, \"#f0f921\"]], \"sequentialminus\": [[0.0, \"#0d0887\"], [0.1111111111111111, \"#46039f\"], [0.2222222222222222, \"#7201a8\"], [0.3333333333333333, \"#9c179e\"], [0.4444444444444444, \"#bd3786\"], [0.5555555555555556, \"#d8576b\"], [0.6666666666666666, \"#ed7953\"], [0.7777777777777778, \"#fb9f3a\"], [0.8888888888888888, \"#fdca26\"], [1.0, \"#f0f921\"]]}, \"colorway\": [\"#636efa\", \"#EF553B\", \"#00cc96\", \"#ab63fa\", \"#FFA15A\", \"#19d3f3\", \"#FF6692\", \"#B6E880\", \"#FF97FF\", \"#FECB52\"], \"font\": {\"color\": \"#2a3f5f\"}, \"geo\": {\"bgcolor\": \"white\", \"lakecolor\": \"white\", \"landcolor\": \"#E5ECF6\", \"showlakes\": true, \"showland\": true, \"subunitcolor\": \"white\"}, \"hoverlabel\": {\"align\": \"left\"}, \"hovermode\": \"closest\", \"mapbox\": {\"style\": \"light\"}, \"paper_bgcolor\": \"white\", \"plot_bgcolor\": \"#E5ECF6\", \"polar\": {\"angularaxis\": {\"gridcolor\": \"white\", \"linecolor\": \"white\", \"ticks\": \"\"}, \"bgcolor\": \"#E5ECF6\", \"radialaxis\": {\"gridcolor\": \"white\", \"linecolor\": \"white\", \"ticks\": \"\"}}, \"scene\": {\"xaxis\": {\"backgroundcolor\": \"#E5ECF6\", \"gridcolor\": \"white\", \"gridwidth\": 2, \"linecolor\": \"white\", \"showbackground\": true, \"ticks\": \"\", \"zerolinecolor\": \"white\"}, \"yaxis\": {\"backgroundcolor\": \"#E5ECF6\", \"gridcolor\": \"white\", \"gridwidth\": 2, \"linecolor\": \"white\", \"showbackground\": true, \"ticks\": \"\", \"zerolinecolor\": \"white\"}, \"zaxis\": {\"backgroundcolor\": \"#E5ECF6\", \"gridcolor\": \"white\", \"gridwidth\": 2, \"linecolor\": \"white\", \"showbackground\": true, \"ticks\": \"\", \"zerolinecolor\": \"white\"}}, \"shapedefaults\": {\"line\": {\"color\": \"#2a3f5f\"}}, \"ternary\": {\"aaxis\": {\"gridcolor\": \"white\", \"linecolor\": \"white\", \"ticks\": \"\"}, \"baxis\": {\"gridcolor\": \"white\", \"linecolor\": \"white\", \"ticks\": \"\"}, \"bgcolor\": \"#E5ECF6\", \"caxis\": {\"gridcolor\": \"white\", \"linecolor\": \"white\", \"ticks\": \"\"}}, \"title\": {\"x\": 0.05}, \"xaxis\": {\"automargin\": true, \"gridcolor\": \"white\", \"linecolor\": \"white\", \"ticks\": \"\", \"title\": {\"standoff\": 15}, \"zerolinecolor\": \"white\", \"zerolinewidth\": 2}, \"yaxis\": {\"automargin\": true, \"gridcolor\": \"white\", \"linecolor\": \"white\", \"ticks\": \"\", \"title\": {\"standoff\": 15}, \"zerolinecolor\": \"white\", \"zerolinewidth\": 2}}}, \"title\": {\"text\": \"Closest 2D Shift Histogram\"}, \"xaxis\": {\"title\": {\"text\": \"Root Mean Square Delta Shift (ppm)\"}}},\n",
       "                        {\"responsive\": true}\n",
       "                    ).then(function(){\n",
       "                            \n",
       "var gd = document.getElementById('682cfd16-1e05-4ad8-bcb9-a53291820d37');\n",
       "var x = new MutationObserver(function (mutations, observer) {{\n",
       "        var display = window.getComputedStyle(gd).display;\n",
       "        if (!display || display === 'none') {{\n",
       "            console.log([gd, 'removed!']);\n",
       "            Plotly.purge(gd);\n",
       "            observer.disconnect();\n",
       "        }}\n",
       "}});\n",
       "\n",
       "// Listen for the removal of the full notebook cells\n",
       "var notebookContainer = gd.closest('#notebook-container');\n",
       "if (notebookContainer) {{\n",
       "    x.observe(notebookContainer, {childList: true});\n",
       "}}\n",
       "\n",
       "// Listen for the clearing of the current output cell\n",
       "var outputEl = gd.closest('.output');\n",
       "if (outputEl) {{\n",
       "    x.observe(outputEl, {childList: true});\n",
       "}}\n",
       "\n",
       "                        })\n",
       "                };\n",
       "                });\n",
       "            </script>\n",
       "        </div>"
      ]
     },
     "metadata": {},
     "output_type": "display_data"
    }
   ],
   "source": [
    "twod_delta_list_zero = [x[0] for x in two_d_dataframe['Closest2DShift (ppm)'] if x is not None and x[0] < 5]\n",
    "twod_delta_list_one = [x[1] for x in two_d_dataframe['Closest2DShift (ppm)'] if x is not None and x[1] < 5]\n",
    "fig0 = go.Figure()\n",
    "fig0.add_trace(go.Histogram(x = twod_delta_list_one, name='second closest', opacity = .75))\n",
    "fig0.add_trace(go.Histogram(x = twod_delta_list_zero, name='first closest', opacity = .75))\n",
    "\n",
    "fig0.update_layout(barmode = 'overlay', title_text='Closest 2D Shift Histogram', \n",
    "                  xaxis_title_text='Root Mean Square Delta Shift (ppm)')\n",
    "fig0.show()"
   ]
  },
  {
   "cell_type": "code",
   "execution_count": 55,
   "metadata": {
    "scrolled": false
   },
   "outputs": [
    {
     "data": {
      "application/vnd.plotly.v1+json": {
       "config": {
        "plotlyServerURL": "https://plot.ly"
       },
       "data": [
        {
         "mode": "markers",
         "name": "second closest",
         "opacity": 0.5,
         "type": "scatter",
         "x": [
          0.242,
          0.09,
          0.84,
          0.153,
          0.112,
          1.498,
          0.054,
          0.453,
          0.601,
          0.408,
          0.602,
          0.879,
          0.02,
          0.398,
          0.666,
          0.491,
          0.467,
          0.771,
          0.578,
          0.364,
          0.454,
          0.04,
          0.814,
          1.151,
          0.385,
          0.406,
          0.392,
          0.792,
          1.536,
          1.28,
          0.003,
          0.282,
          0.07,
          0.569,
          0.516,
          0.293,
          0.624,
          0.956,
          1.072,
          0.06,
          0.36,
          1.145,
          1.726,
          0.028,
          0.546,
          0.025,
          0.323,
          0.069,
          0.504,
          0.557,
          0.724,
          0.68,
          1.492,
          0.218,
          0.117,
          0.378,
          0.022,
          0.235,
          0.402,
          1.902,
          0.391,
          0.131,
          0.564,
          0.112,
          0.764,
          0.034,
          0.207,
          1.77,
          0.343,
          0.025,
          0.249,
          0.037,
          1.178,
          0.193,
          1.344,
          0.326,
          0.78,
          0.173,
          0.378,
          1.06,
          0.704,
          0.574,
          0.788,
          0.481,
          0.491,
          0.047,
          0.598,
          0.104,
          0.268,
          0.302,
          0.656,
          1.981,
          0.084,
          0.237,
          0.735,
          0.422,
          0.33,
          0.286,
          0.132,
          0.348,
          0.414,
          0.141,
          0.001,
          0.596,
          0.652,
          0.449,
          0.01,
          1.08,
          0.216,
          0.339,
          0.693,
          0.108,
          1.571,
          0.913,
          0.945,
          1.935,
          0.216,
          0.233,
          0.352,
          0.384,
          0.554,
          1.066,
          0.455,
          0.302,
          0.01,
          0.527,
          0.803,
          0.171,
          0.843,
          0.768,
          0.066,
          0.294,
          0.349,
          0.351,
          0.478,
          0.612,
          0.934,
          0.601,
          0.517,
          0.035,
          1.11
         ],
         "y": [
          0.014,
          0.024,
          0.726,
          1.146,
          1.467,
          0.63,
          0.593,
          0.592,
          0.19,
          0.215,
          0.363,
          0.47,
          1.35,
          0.626,
          0.981,
          0.179,
          0.445,
          1.292,
          0.389,
          1.036,
          0.792,
          1.237,
          0.119,
          1.436,
          1.363,
          1.226,
          1.804,
          1.49,
          1.168,
          0.698,
          0.085,
          0.426,
          0.524,
          0.591,
          0.412,
          0.858,
          0.461,
          0.515,
          1.725,
          0.681,
          1.838,
          0.852,
          0.421,
          0.954,
          1.823,
          0.871,
          0.813,
          0.173,
          0.576,
          0.049,
          0.373,
          0.55,
          1.3,
          0.456,
          1.774,
          1.031,
          0.104,
          1.053,
          0.212,
          0.755,
          0.833,
          1.474,
          0.084,
          0.518,
          0.672,
          0.739,
          0.701,
          1.076,
          0.465,
          0.873,
          0.348,
          0.155,
          0.722,
          0.433,
          0.141,
          0.013,
          0.273,
          0.882,
          0.581,
          0.773,
          0.019,
          0.771,
          0.09,
          0.713,
          0.787,
          1.456,
          1.068,
          0.888,
          0.386,
          0.913,
          0.297,
          0.363,
          0.35,
          0.409,
          0.245,
          0.204,
          0.768,
          0.656,
          1.999,
          0.12,
          0.629,
          1.11,
          0.436,
          0.833,
          0.675,
          0.553,
          0.588,
          1.981,
          0.586,
          0.062,
          0.665,
          0.726,
          0.749,
          0.512,
          0.427,
          0.654,
          0.615,
          0.287,
          0.643,
          0.715,
          0.36,
          0.308,
          0.606,
          0.645,
          0.652,
          0.459,
          1.08,
          0.642,
          0.141,
          0.751,
          1.017,
          0.844,
          0.422,
          0.355,
          0.135,
          0.535,
          0.904,
          0.93
         ]
        },
        {
         "mode": "markers",
         "name": "first closest",
         "type": "scatter",
         "x": [
          0.089,
          0.105,
          0.312,
          0.075,
          0.034,
          0.976,
          0.34,
          0.048,
          0.479,
          0.105,
          0.331,
          0.905,
          0.503,
          0.223,
          1.019,
          1.014,
          0.266,
          0.914,
          0.421,
          0.382,
          0.419,
          0.799,
          0.252,
          0.629,
          1.276,
          0.252,
          0.079,
          0.357,
          0.001,
          0.166,
          0.019,
          0.595,
          0.439,
          0.106,
          0.33,
          0.232,
          0.026,
          0.55,
          1.075,
          0.091,
          0.349,
          0.108,
          1.14,
          0.548,
          0.383,
          0.741,
          0.193,
          0.678,
          0.486,
          0.018,
          0.227,
          0.261,
          1.264,
          0.014,
          0.032,
          0.133,
          0.609,
          0.104,
          0.613,
          1.595,
          0.318,
          0.756,
          0.114,
          0.25,
          0.515,
          0.028,
          0.147,
          1.147,
          0.047,
          0.115,
          0.358,
          0.053,
          0.074,
          0.05,
          0.24,
          0.308,
          0.249,
          0.355,
          0.005,
          0.563,
          0.311,
          0.135,
          0.005,
          0.359,
          0.348,
          0.725,
          0.343,
          0.267,
          0.714,
          0.571,
          0.146,
          0.621,
          0.048,
          0.218,
          0.058,
          0.037,
          0.011,
          0.148,
          0.056,
          0.012,
          0.142,
          0.113,
          0.388,
          0.192,
          0.391,
          0.419,
          0.129,
          0.571,
          0.652,
          0.139,
          0.126,
          0.5,
          0.283,
          0.42,
          1.244,
          0.642,
          0.497,
          1.262,
          0.146,
          0.284,
          0.145,
          0.387,
          0.021,
          0.838,
          0.065,
          0.358,
          0.004,
          0.754,
          0.032,
          0.081,
          0.098,
          0.071,
          0.101,
          1.251,
          0.166,
          0.687,
          0.528,
          0.463,
          0.63,
          0.347,
          0.38,
          0.125,
          0.425,
          0.588
         ],
         "y": [
          0.187,
          1.014,
          0.749,
          0.694,
          1.114,
          1.229,
          0.187,
          0.247,
          0.29,
          1.194,
          0.007,
          0.605,
          0.134,
          0.791,
          0.037,
          0.148,
          1.637,
          0.226,
          0.421,
          0.917,
          0.209,
          0.401,
          1.076,
          1.459,
          0.112,
          0.944,
          0.765,
          1.107,
          1.836,
          1.218,
          1.168,
          0.29,
          1.691,
          0.073,
          0.505,
          0.187,
          0.096,
          0.938,
          0.56,
          0.451,
          0.735,
          0.71,
          0.869,
          0.271,
          1.252,
          0.282,
          0.412,
          0.099,
          1.448,
          0.307,
          0.948,
          0.175,
          0.155,
          0.189,
          0.322,
          0.355,
          0.916,
          0.392,
          0.042,
          0.042,
          0.109,
          0.742,
          0.58,
          0.151,
          0.917,
          1.149,
          0.159,
          1.229,
          0.5,
          0.594,
          0.277,
          0.931,
          0.956,
          0.16,
          1.073,
          0.083,
          0.051,
          0.383,
          0.276,
          0.316,
          0.008,
          0.392,
          0,
          0.054,
          0.065,
          0.367,
          0.355,
          0.483,
          0.047,
          0.858,
          1.321,
          0.672,
          0.591,
          0.068,
          0.883,
          0.157,
          0.091,
          0.104,
          0.045,
          0.013,
          0.16,
          0.478,
          0.516,
          0.183,
          0.439,
          0.253,
          0.248,
          0.784,
          0.688,
          0.04,
          0.632,
          0.185,
          0.399,
          0.344,
          1.079,
          0.699,
          1.507,
          0.157,
          0.222,
          0.292,
          0.317,
          0.563,
          0.134,
          0.529,
          0.47,
          0.974,
          0.017,
          0.256,
          0.982,
          0.507,
          0.111,
          0.85,
          0.044,
          0.265,
          0.535,
          0.169,
          0.074,
          0.02,
          0.727,
          0.678,
          0.454,
          0.242,
          0.578
         ]
        }
       ],
       "layout": {
        "height": 800,
        "template": {
         "data": {
          "bar": [
           {
            "error_x": {
             "color": "#2a3f5f"
            },
            "error_y": {
             "color": "#2a3f5f"
            },
            "marker": {
             "line": {
              "color": "#E5ECF6",
              "width": 0.5
             }
            },
            "type": "bar"
           }
          ],
          "barpolar": [
           {
            "marker": {
             "line": {
              "color": "#E5ECF6",
              "width": 0.5
             }
            },
            "type": "barpolar"
           }
          ],
          "carpet": [
           {
            "aaxis": {
             "endlinecolor": "#2a3f5f",
             "gridcolor": "white",
             "linecolor": "white",
             "minorgridcolor": "white",
             "startlinecolor": "#2a3f5f"
            },
            "baxis": {
             "endlinecolor": "#2a3f5f",
             "gridcolor": "white",
             "linecolor": "white",
             "minorgridcolor": "white",
             "startlinecolor": "#2a3f5f"
            },
            "type": "carpet"
           }
          ],
          "choropleth": [
           {
            "colorbar": {
             "outlinewidth": 0,
             "ticks": ""
            },
            "type": "choropleth"
           }
          ],
          "contour": [
           {
            "colorbar": {
             "outlinewidth": 0,
             "ticks": ""
            },
            "colorscale": [
             [
              0,
              "#0d0887"
             ],
             [
              0.1111111111111111,
              "#46039f"
             ],
             [
              0.2222222222222222,
              "#7201a8"
             ],
             [
              0.3333333333333333,
              "#9c179e"
             ],
             [
              0.4444444444444444,
              "#bd3786"
             ],
             [
              0.5555555555555556,
              "#d8576b"
             ],
             [
              0.6666666666666666,
              "#ed7953"
             ],
             [
              0.7777777777777778,
              "#fb9f3a"
             ],
             [
              0.8888888888888888,
              "#fdca26"
             ],
             [
              1,
              "#f0f921"
             ]
            ],
            "type": "contour"
           }
          ],
          "contourcarpet": [
           {
            "colorbar": {
             "outlinewidth": 0,
             "ticks": ""
            },
            "type": "contourcarpet"
           }
          ],
          "heatmap": [
           {
            "colorbar": {
             "outlinewidth": 0,
             "ticks": ""
            },
            "colorscale": [
             [
              0,
              "#0d0887"
             ],
             [
              0.1111111111111111,
              "#46039f"
             ],
             [
              0.2222222222222222,
              "#7201a8"
             ],
             [
              0.3333333333333333,
              "#9c179e"
             ],
             [
              0.4444444444444444,
              "#bd3786"
             ],
             [
              0.5555555555555556,
              "#d8576b"
             ],
             [
              0.6666666666666666,
              "#ed7953"
             ],
             [
              0.7777777777777778,
              "#fb9f3a"
             ],
             [
              0.8888888888888888,
              "#fdca26"
             ],
             [
              1,
              "#f0f921"
             ]
            ],
            "type": "heatmap"
           }
          ],
          "heatmapgl": [
           {
            "colorbar": {
             "outlinewidth": 0,
             "ticks": ""
            },
            "colorscale": [
             [
              0,
              "#0d0887"
             ],
             [
              0.1111111111111111,
              "#46039f"
             ],
             [
              0.2222222222222222,
              "#7201a8"
             ],
             [
              0.3333333333333333,
              "#9c179e"
             ],
             [
              0.4444444444444444,
              "#bd3786"
             ],
             [
              0.5555555555555556,
              "#d8576b"
             ],
             [
              0.6666666666666666,
              "#ed7953"
             ],
             [
              0.7777777777777778,
              "#fb9f3a"
             ],
             [
              0.8888888888888888,
              "#fdca26"
             ],
             [
              1,
              "#f0f921"
             ]
            ],
            "type": "heatmapgl"
           }
          ],
          "histogram": [
           {
            "marker": {
             "colorbar": {
              "outlinewidth": 0,
              "ticks": ""
             }
            },
            "type": "histogram"
           }
          ],
          "histogram2d": [
           {
            "colorbar": {
             "outlinewidth": 0,
             "ticks": ""
            },
            "colorscale": [
             [
              0,
              "#0d0887"
             ],
             [
              0.1111111111111111,
              "#46039f"
             ],
             [
              0.2222222222222222,
              "#7201a8"
             ],
             [
              0.3333333333333333,
              "#9c179e"
             ],
             [
              0.4444444444444444,
              "#bd3786"
             ],
             [
              0.5555555555555556,
              "#d8576b"
             ],
             [
              0.6666666666666666,
              "#ed7953"
             ],
             [
              0.7777777777777778,
              "#fb9f3a"
             ],
             [
              0.8888888888888888,
              "#fdca26"
             ],
             [
              1,
              "#f0f921"
             ]
            ],
            "type": "histogram2d"
           }
          ],
          "histogram2dcontour": [
           {
            "colorbar": {
             "outlinewidth": 0,
             "ticks": ""
            },
            "colorscale": [
             [
              0,
              "#0d0887"
             ],
             [
              0.1111111111111111,
              "#46039f"
             ],
             [
              0.2222222222222222,
              "#7201a8"
             ],
             [
              0.3333333333333333,
              "#9c179e"
             ],
             [
              0.4444444444444444,
              "#bd3786"
             ],
             [
              0.5555555555555556,
              "#d8576b"
             ],
             [
              0.6666666666666666,
              "#ed7953"
             ],
             [
              0.7777777777777778,
              "#fb9f3a"
             ],
             [
              0.8888888888888888,
              "#fdca26"
             ],
             [
              1,
              "#f0f921"
             ]
            ],
            "type": "histogram2dcontour"
           }
          ],
          "mesh3d": [
           {
            "colorbar": {
             "outlinewidth": 0,
             "ticks": ""
            },
            "type": "mesh3d"
           }
          ],
          "parcoords": [
           {
            "line": {
             "colorbar": {
              "outlinewidth": 0,
              "ticks": ""
             }
            },
            "type": "parcoords"
           }
          ],
          "pie": [
           {
            "automargin": true,
            "type": "pie"
           }
          ],
          "scatter": [
           {
            "marker": {
             "colorbar": {
              "outlinewidth": 0,
              "ticks": ""
             }
            },
            "type": "scatter"
           }
          ],
          "scatter3d": [
           {
            "line": {
             "colorbar": {
              "outlinewidth": 0,
              "ticks": ""
             }
            },
            "marker": {
             "colorbar": {
              "outlinewidth": 0,
              "ticks": ""
             }
            },
            "type": "scatter3d"
           }
          ],
          "scattercarpet": [
           {
            "marker": {
             "colorbar": {
              "outlinewidth": 0,
              "ticks": ""
             }
            },
            "type": "scattercarpet"
           }
          ],
          "scattergeo": [
           {
            "marker": {
             "colorbar": {
              "outlinewidth": 0,
              "ticks": ""
             }
            },
            "type": "scattergeo"
           }
          ],
          "scattergl": [
           {
            "marker": {
             "colorbar": {
              "outlinewidth": 0,
              "ticks": ""
             }
            },
            "type": "scattergl"
           }
          ],
          "scattermapbox": [
           {
            "marker": {
             "colorbar": {
              "outlinewidth": 0,
              "ticks": ""
             }
            },
            "type": "scattermapbox"
           }
          ],
          "scatterpolar": [
           {
            "marker": {
             "colorbar": {
              "outlinewidth": 0,
              "ticks": ""
             }
            },
            "type": "scatterpolar"
           }
          ],
          "scatterpolargl": [
           {
            "marker": {
             "colorbar": {
              "outlinewidth": 0,
              "ticks": ""
             }
            },
            "type": "scatterpolargl"
           }
          ],
          "scatterternary": [
           {
            "marker": {
             "colorbar": {
              "outlinewidth": 0,
              "ticks": ""
             }
            },
            "type": "scatterternary"
           }
          ],
          "surface": [
           {
            "colorbar": {
             "outlinewidth": 0,
             "ticks": ""
            },
            "colorscale": [
             [
              0,
              "#0d0887"
             ],
             [
              0.1111111111111111,
              "#46039f"
             ],
             [
              0.2222222222222222,
              "#7201a8"
             ],
             [
              0.3333333333333333,
              "#9c179e"
             ],
             [
              0.4444444444444444,
              "#bd3786"
             ],
             [
              0.5555555555555556,
              "#d8576b"
             ],
             [
              0.6666666666666666,
              "#ed7953"
             ],
             [
              0.7777777777777778,
              "#fb9f3a"
             ],
             [
              0.8888888888888888,
              "#fdca26"
             ],
             [
              1,
              "#f0f921"
             ]
            ],
            "type": "surface"
           }
          ],
          "table": [
           {
            "cells": {
             "fill": {
              "color": "#EBF0F8"
             },
             "line": {
              "color": "white"
             }
            },
            "header": {
             "fill": {
              "color": "#C8D4E3"
             },
             "line": {
              "color": "white"
             }
            },
            "type": "table"
           }
          ]
         },
         "layout": {
          "annotationdefaults": {
           "arrowcolor": "#2a3f5f",
           "arrowhead": 0,
           "arrowwidth": 1
          },
          "coloraxis": {
           "colorbar": {
            "outlinewidth": 0,
            "ticks": ""
           }
          },
          "colorscale": {
           "diverging": [
            [
             0,
             "#8e0152"
            ],
            [
             0.1,
             "#c51b7d"
            ],
            [
             0.2,
             "#de77ae"
            ],
            [
             0.3,
             "#f1b6da"
            ],
            [
             0.4,
             "#fde0ef"
            ],
            [
             0.5,
             "#f7f7f7"
            ],
            [
             0.6,
             "#e6f5d0"
            ],
            [
             0.7,
             "#b8e186"
            ],
            [
             0.8,
             "#7fbc41"
            ],
            [
             0.9,
             "#4d9221"
            ],
            [
             1,
             "#276419"
            ]
           ],
           "sequential": [
            [
             0,
             "#0d0887"
            ],
            [
             0.1111111111111111,
             "#46039f"
            ],
            [
             0.2222222222222222,
             "#7201a8"
            ],
            [
             0.3333333333333333,
             "#9c179e"
            ],
            [
             0.4444444444444444,
             "#bd3786"
            ],
            [
             0.5555555555555556,
             "#d8576b"
            ],
            [
             0.6666666666666666,
             "#ed7953"
            ],
            [
             0.7777777777777778,
             "#fb9f3a"
            ],
            [
             0.8888888888888888,
             "#fdca26"
            ],
            [
             1,
             "#f0f921"
            ]
           ],
           "sequentialminus": [
            [
             0,
             "#0d0887"
            ],
            [
             0.1111111111111111,
             "#46039f"
            ],
            [
             0.2222222222222222,
             "#7201a8"
            ],
            [
             0.3333333333333333,
             "#9c179e"
            ],
            [
             0.4444444444444444,
             "#bd3786"
            ],
            [
             0.5555555555555556,
             "#d8576b"
            ],
            [
             0.6666666666666666,
             "#ed7953"
            ],
            [
             0.7777777777777778,
             "#fb9f3a"
            ],
            [
             0.8888888888888888,
             "#fdca26"
            ],
            [
             1,
             "#f0f921"
            ]
           ]
          },
          "colorway": [
           "#636efa",
           "#EF553B",
           "#00cc96",
           "#ab63fa",
           "#FFA15A",
           "#19d3f3",
           "#FF6692",
           "#B6E880",
           "#FF97FF",
           "#FECB52"
          ],
          "font": {
           "color": "#2a3f5f"
          },
          "geo": {
           "bgcolor": "white",
           "lakecolor": "white",
           "landcolor": "#E5ECF6",
           "showlakes": true,
           "showland": true,
           "subunitcolor": "white"
          },
          "hoverlabel": {
           "align": "left"
          },
          "hovermode": "closest",
          "mapbox": {
           "style": "light"
          },
          "paper_bgcolor": "white",
          "plot_bgcolor": "#E5ECF6",
          "polar": {
           "angularaxis": {
            "gridcolor": "white",
            "linecolor": "white",
            "ticks": ""
           },
           "bgcolor": "#E5ECF6",
           "radialaxis": {
            "gridcolor": "white",
            "linecolor": "white",
            "ticks": ""
           }
          },
          "scene": {
           "xaxis": {
            "backgroundcolor": "#E5ECF6",
            "gridcolor": "white",
            "gridwidth": 2,
            "linecolor": "white",
            "showbackground": true,
            "ticks": "",
            "zerolinecolor": "white"
           },
           "yaxis": {
            "backgroundcolor": "#E5ECF6",
            "gridcolor": "white",
            "gridwidth": 2,
            "linecolor": "white",
            "showbackground": true,
            "ticks": "",
            "zerolinecolor": "white"
           },
           "zaxis": {
            "backgroundcolor": "#E5ECF6",
            "gridcolor": "white",
            "gridwidth": 2,
            "linecolor": "white",
            "showbackground": true,
            "ticks": "",
            "zerolinecolor": "white"
           }
          },
          "shapedefaults": {
           "line": {
            "color": "#2a3f5f"
           }
          },
          "ternary": {
           "aaxis": {
            "gridcolor": "white",
            "linecolor": "white",
            "ticks": ""
           },
           "baxis": {
            "gridcolor": "white",
            "linecolor": "white",
            "ticks": ""
           },
           "bgcolor": "#E5ECF6",
           "caxis": {
            "gridcolor": "white",
            "linecolor": "white",
            "ticks": ""
           }
          },
          "title": {
           "x": 0.05
          },
          "xaxis": {
           "automargin": true,
           "gridcolor": "white",
           "linecolor": "white",
           "ticks": "",
           "title": {
            "standoff": 15
           },
           "zerolinecolor": "white",
           "zerolinewidth": 2
          },
          "yaxis": {
           "automargin": true,
           "gridcolor": "white",
           "linecolor": "white",
           "ticks": "",
           "title": {
            "standoff": 15
           },
           "zerolinecolor": "white",
           "zerolinewidth": 2
          }
         }
        },
        "title": {
         "text": "Closest 2D Shift Scatterplot (2ppm truncated)"
        },
        "width": 800,
        "xaxis": {
         "title": {
          "text": "CADel"
         }
        },
        "yaxis": {
         "scaleanchor": "x",
         "scaleratio": 1,
         "title": {
          "text": "CBDel"
         }
        }
       }
      },
      "text/html": [
       "<div>\n",
       "        \n",
       "        \n",
       "            <div id=\"945e8467-2077-4fce-b8c0-a4caf81f3c6c\" class=\"plotly-graph-div\" style=\"height:800px; width:800px;\"></div>\n",
       "            <script type=\"text/javascript\">\n",
       "                require([\"plotly\"], function(Plotly) {\n",
       "                    window.PLOTLYENV=window.PLOTLYENV || {};\n",
       "                    \n",
       "                if (document.getElementById(\"945e8467-2077-4fce-b8c0-a4caf81f3c6c\")) {\n",
       "                    Plotly.newPlot(\n",
       "                        '945e8467-2077-4fce-b8c0-a4caf81f3c6c',\n",
       "                        [{\"mode\": \"markers\", \"name\": \"second closest\", \"opacity\": 0.5, \"type\": \"scatter\", \"x\": [0.242, 0.09, 0.84, 0.153, 0.112, 1.498, 0.054, 0.453, 0.601, 0.408, 0.602, 0.879, 0.02, 0.398, 0.666, 0.491, 0.467, 0.771, 0.578, 0.364, 0.454, 0.04, 0.814, 1.151, 0.385, 0.406, 0.392, 0.792, 1.536, 1.28, 0.003, 0.282, 0.07, 0.569, 0.516, 0.293, 0.624, 0.956, 1.072, 0.06, 0.36, 1.145, 1.726, 0.028, 0.546, 0.025, 0.323, 0.069, 0.504, 0.557, 0.724, 0.68, 1.492, 0.218, 0.117, 0.378, 0.022, 0.235, 0.402, 1.902, 0.391, 0.131, 0.564, 0.112, 0.764, 0.034, 0.207, 1.77, 0.343, 0.025, 0.249, 0.037, 1.178, 0.193, 1.344, 0.326, 0.78, 0.173, 0.378, 1.06, 0.704, 0.574, 0.788, 0.481, 0.491, 0.047, 0.598, 0.104, 0.268, 0.302, 0.656, 1.981, 0.084, 0.237, 0.735, 0.422, 0.33, 0.286, 0.132, 0.348, 0.414, 0.141, 0.001, 0.596, 0.652, 0.449, 0.01, 1.08, 0.216, 0.339, 0.693, 0.108, 1.571, 0.913, 0.945, 1.935, 0.216, 0.233, 0.352, 0.384, 0.554, 1.066, 0.455, 0.302, 0.01, 0.527, 0.803, 0.171, 0.843, 0.768, 0.066, 0.294, 0.349, 0.351, 0.478, 0.612, 0.934, 0.601, 0.517, 0.035, 1.11], \"y\": [0.014, 0.024, 0.726, 1.146, 1.467, 0.63, 0.593, 0.592, 0.19, 0.215, 0.363, 0.47, 1.35, 0.626, 0.981, 0.179, 0.445, 1.292, 0.389, 1.036, 0.792, 1.237, 0.119, 1.436, 1.363, 1.226, 1.804, 1.49, 1.168, 0.698, 0.085, 0.426, 0.524, 0.591, 0.412, 0.858, 0.461, 0.515, 1.725, 0.681, 1.838, 0.852, 0.421, 0.954, 1.823, 0.871, 0.813, 0.173, 0.576, 0.049, 0.373, 0.55, 1.3, 0.456, 1.774, 1.031, 0.104, 1.053, 0.212, 0.755, 0.833, 1.474, 0.084, 0.518, 0.672, 0.739, 0.701, 1.076, 0.465, 0.873, 0.348, 0.155, 0.722, 0.433, 0.141, 0.013, 0.273, 0.882, 0.581, 0.773, 0.019, 0.771, 0.09, 0.713, 0.787, 1.456, 1.068, 0.888, 0.386, 0.913, 0.297, 0.363, 0.35, 0.409, 0.245, 0.204, 0.768, 0.656, 1.999, 0.12, 0.629, 1.11, 0.436, 0.833, 0.675, 0.553, 0.588, 1.981, 0.586, 0.062, 0.665, 0.726, 0.749, 0.512, 0.427, 0.654, 0.615, 0.287, 0.643, 0.715, 0.36, 0.308, 0.606, 0.645, 0.652, 0.459, 1.08, 0.642, 0.141, 0.751, 1.017, 0.844, 0.422, 0.355, 0.135, 0.535, 0.904, 0.93]}, {\"mode\": \"markers\", \"name\": \"first closest\", \"type\": \"scatter\", \"x\": [0.089, 0.105, 0.312, 0.075, 0.034, 0.976, 0.34, 0.048, 0.479, 0.105, 0.331, 0.905, 0.503, 0.223, 1.019, 1.014, 0.266, 0.914, 0.421, 0.382, 0.419, 0.799, 0.252, 0.629, 1.276, 0.252, 0.079, 0.357, 0.001, 0.166, 0.019, 0.595, 0.439, 0.106, 0.33, 0.232, 0.026, 0.55, 1.075, 0.091, 0.349, 0.108, 1.14, 0.548, 0.383, 0.741, 0.193, 0.678, 0.486, 0.018, 0.227, 0.261, 1.264, 0.014, 0.032, 0.133, 0.609, 0.104, 0.613, 1.595, 0.318, 0.756, 0.114, 0.25, 0.515, 0.028, 0.147, 1.147, 0.047, 0.115, 0.358, 0.053, 0.074, 0.05, 0.24, 0.308, 0.249, 0.355, 0.005, 0.563, 0.311, 0.135, 0.005, 0.359, 0.348, 0.725, 0.343, 0.267, 0.714, 0.571, 0.146, 0.621, 0.048, 0.218, 0.058, 0.037, 0.011, 0.148, 0.056, 0.012, 0.142, 0.113, 0.388, 0.192, 0.391, 0.419, 0.129, 0.571, 0.652, 0.139, 0.126, 0.5, 0.283, 0.42, 1.244, 0.642, 0.497, 1.262, 0.146, 0.284, 0.145, 0.387, 0.021, 0.838, 0.065, 0.358, 0.004, 0.754, 0.032, 0.081, 0.098, 0.071, 0.101, 1.251, 0.166, 0.687, 0.528, 0.463, 0.63, 0.347, 0.38, 0.125, 0.425, 0.588], \"y\": [0.187, 1.014, 0.749, 0.694, 1.114, 1.229, 0.187, 0.247, 0.29, 1.194, 0.007, 0.605, 0.134, 0.791, 0.037, 0.148, 1.637, 0.226, 0.421, 0.917, 0.209, 0.401, 1.076, 1.459, 0.112, 0.944, 0.765, 1.107, 1.836, 1.218, 1.168, 0.29, 1.691, 0.073, 0.505, 0.187, 0.096, 0.938, 0.56, 0.451, 0.735, 0.71, 0.869, 0.271, 1.252, 0.282, 0.412, 0.099, 1.448, 0.307, 0.948, 0.175, 0.155, 0.189, 0.322, 0.355, 0.916, 0.392, 0.042, 0.042, 0.109, 0.742, 0.58, 0.151, 0.917, 1.149, 0.159, 1.229, 0.5, 0.594, 0.277, 0.931, 0.956, 0.16, 1.073, 0.083, 0.051, 0.383, 0.276, 0.316, 0.008, 0.392, 0.0, 0.054, 0.065, 0.367, 0.355, 0.483, 0.047, 0.858, 1.321, 0.672, 0.591, 0.068, 0.883, 0.157, 0.091, 0.104, 0.045, 0.013, 0.16, 0.478, 0.516, 0.183, 0.439, 0.253, 0.248, 0.784, 0.688, 0.04, 0.632, 0.185, 0.399, 0.344, 1.079, 0.699, 1.507, 0.157, 0.222, 0.292, 0.317, 0.563, 0.134, 0.529, 0.47, 0.974, 0.017, 0.256, 0.982, 0.507, 0.111, 0.85, 0.044, 0.265, 0.535, 0.169, 0.074, 0.02, 0.727, 0.678, 0.454, 0.242, 0.578]}],\n",
       "                        {\"height\": 800, \"template\": {\"data\": {\"bar\": [{\"error_x\": {\"color\": \"#2a3f5f\"}, \"error_y\": {\"color\": \"#2a3f5f\"}, \"marker\": {\"line\": {\"color\": \"#E5ECF6\", \"width\": 0.5}}, \"type\": \"bar\"}], \"barpolar\": [{\"marker\": {\"line\": {\"color\": \"#E5ECF6\", \"width\": 0.5}}, \"type\": \"barpolar\"}], \"carpet\": [{\"aaxis\": {\"endlinecolor\": \"#2a3f5f\", \"gridcolor\": \"white\", \"linecolor\": \"white\", \"minorgridcolor\": \"white\", \"startlinecolor\": \"#2a3f5f\"}, \"baxis\": {\"endlinecolor\": \"#2a3f5f\", \"gridcolor\": \"white\", \"linecolor\": \"white\", \"minorgridcolor\": \"white\", \"startlinecolor\": \"#2a3f5f\"}, \"type\": \"carpet\"}], \"choropleth\": [{\"colorbar\": {\"outlinewidth\": 0, \"ticks\": \"\"}, \"type\": \"choropleth\"}], \"contour\": [{\"colorbar\": {\"outlinewidth\": 0, \"ticks\": \"\"}, \"colorscale\": [[0.0, \"#0d0887\"], [0.1111111111111111, \"#46039f\"], [0.2222222222222222, \"#7201a8\"], [0.3333333333333333, \"#9c179e\"], [0.4444444444444444, \"#bd3786\"], [0.5555555555555556, \"#d8576b\"], [0.6666666666666666, \"#ed7953\"], [0.7777777777777778, \"#fb9f3a\"], [0.8888888888888888, \"#fdca26\"], [1.0, \"#f0f921\"]], \"type\": \"contour\"}], \"contourcarpet\": [{\"colorbar\": {\"outlinewidth\": 0, \"ticks\": \"\"}, \"type\": \"contourcarpet\"}], \"heatmap\": [{\"colorbar\": {\"outlinewidth\": 0, \"ticks\": \"\"}, \"colorscale\": [[0.0, \"#0d0887\"], [0.1111111111111111, \"#46039f\"], [0.2222222222222222, \"#7201a8\"], [0.3333333333333333, \"#9c179e\"], [0.4444444444444444, \"#bd3786\"], [0.5555555555555556, \"#d8576b\"], [0.6666666666666666, \"#ed7953\"], [0.7777777777777778, \"#fb9f3a\"], [0.8888888888888888, \"#fdca26\"], [1.0, \"#f0f921\"]], \"type\": \"heatmap\"}], \"heatmapgl\": [{\"colorbar\": {\"outlinewidth\": 0, \"ticks\": \"\"}, \"colorscale\": [[0.0, \"#0d0887\"], [0.1111111111111111, \"#46039f\"], [0.2222222222222222, \"#7201a8\"], [0.3333333333333333, \"#9c179e\"], [0.4444444444444444, \"#bd3786\"], [0.5555555555555556, \"#d8576b\"], [0.6666666666666666, \"#ed7953\"], [0.7777777777777778, \"#fb9f3a\"], [0.8888888888888888, \"#fdca26\"], [1.0, \"#f0f921\"]], \"type\": \"heatmapgl\"}], \"histogram\": [{\"marker\": {\"colorbar\": {\"outlinewidth\": 0, \"ticks\": \"\"}}, \"type\": \"histogram\"}], \"histogram2d\": [{\"colorbar\": {\"outlinewidth\": 0, \"ticks\": \"\"}, \"colorscale\": [[0.0, \"#0d0887\"], [0.1111111111111111, \"#46039f\"], [0.2222222222222222, \"#7201a8\"], [0.3333333333333333, \"#9c179e\"], [0.4444444444444444, \"#bd3786\"], [0.5555555555555556, \"#d8576b\"], [0.6666666666666666, \"#ed7953\"], [0.7777777777777778, \"#fb9f3a\"], [0.8888888888888888, \"#fdca26\"], [1.0, \"#f0f921\"]], \"type\": \"histogram2d\"}], \"histogram2dcontour\": [{\"colorbar\": {\"outlinewidth\": 0, \"ticks\": \"\"}, \"colorscale\": [[0.0, \"#0d0887\"], [0.1111111111111111, \"#46039f\"], [0.2222222222222222, \"#7201a8\"], [0.3333333333333333, \"#9c179e\"], [0.4444444444444444, \"#bd3786\"], [0.5555555555555556, \"#d8576b\"], [0.6666666666666666, \"#ed7953\"], [0.7777777777777778, \"#fb9f3a\"], [0.8888888888888888, \"#fdca26\"], [1.0, \"#f0f921\"]], \"type\": \"histogram2dcontour\"}], \"mesh3d\": [{\"colorbar\": {\"outlinewidth\": 0, \"ticks\": \"\"}, \"type\": \"mesh3d\"}], \"parcoords\": [{\"line\": {\"colorbar\": {\"outlinewidth\": 0, \"ticks\": \"\"}}, \"type\": \"parcoords\"}], \"pie\": [{\"automargin\": true, \"type\": \"pie\"}], \"scatter\": [{\"marker\": {\"colorbar\": {\"outlinewidth\": 0, \"ticks\": \"\"}}, \"type\": \"scatter\"}], \"scatter3d\": [{\"line\": {\"colorbar\": {\"outlinewidth\": 0, \"ticks\": \"\"}}, \"marker\": {\"colorbar\": {\"outlinewidth\": 0, \"ticks\": \"\"}}, \"type\": \"scatter3d\"}], \"scattercarpet\": [{\"marker\": {\"colorbar\": {\"outlinewidth\": 0, \"ticks\": \"\"}}, \"type\": \"scattercarpet\"}], \"scattergeo\": [{\"marker\": {\"colorbar\": {\"outlinewidth\": 0, \"ticks\": \"\"}}, \"type\": \"scattergeo\"}], \"scattergl\": [{\"marker\": {\"colorbar\": {\"outlinewidth\": 0, \"ticks\": \"\"}}, \"type\": \"scattergl\"}], \"scattermapbox\": [{\"marker\": {\"colorbar\": {\"outlinewidth\": 0, \"ticks\": \"\"}}, \"type\": \"scattermapbox\"}], \"scatterpolar\": [{\"marker\": {\"colorbar\": {\"outlinewidth\": 0, \"ticks\": \"\"}}, \"type\": \"scatterpolar\"}], \"scatterpolargl\": [{\"marker\": {\"colorbar\": {\"outlinewidth\": 0, \"ticks\": \"\"}}, \"type\": \"scatterpolargl\"}], \"scatterternary\": [{\"marker\": {\"colorbar\": {\"outlinewidth\": 0, \"ticks\": \"\"}}, \"type\": \"scatterternary\"}], \"surface\": [{\"colorbar\": {\"outlinewidth\": 0, \"ticks\": \"\"}, \"colorscale\": [[0.0, \"#0d0887\"], [0.1111111111111111, \"#46039f\"], [0.2222222222222222, \"#7201a8\"], [0.3333333333333333, \"#9c179e\"], [0.4444444444444444, \"#bd3786\"], [0.5555555555555556, \"#d8576b\"], [0.6666666666666666, \"#ed7953\"], [0.7777777777777778, \"#fb9f3a\"], [0.8888888888888888, \"#fdca26\"], [1.0, \"#f0f921\"]], \"type\": \"surface\"}], \"table\": [{\"cells\": {\"fill\": {\"color\": \"#EBF0F8\"}, \"line\": {\"color\": \"white\"}}, \"header\": {\"fill\": {\"color\": \"#C8D4E3\"}, \"line\": {\"color\": \"white\"}}, \"type\": \"table\"}]}, \"layout\": {\"annotationdefaults\": {\"arrowcolor\": \"#2a3f5f\", \"arrowhead\": 0, \"arrowwidth\": 1}, \"coloraxis\": {\"colorbar\": {\"outlinewidth\": 0, \"ticks\": \"\"}}, \"colorscale\": {\"diverging\": [[0, \"#8e0152\"], [0.1, \"#c51b7d\"], [0.2, \"#de77ae\"], [0.3, \"#f1b6da\"], [0.4, \"#fde0ef\"], [0.5, \"#f7f7f7\"], [0.6, \"#e6f5d0\"], [0.7, \"#b8e186\"], [0.8, \"#7fbc41\"], [0.9, \"#4d9221\"], [1, \"#276419\"]], \"sequential\": [[0.0, \"#0d0887\"], [0.1111111111111111, \"#46039f\"], [0.2222222222222222, \"#7201a8\"], [0.3333333333333333, \"#9c179e\"], [0.4444444444444444, \"#bd3786\"], [0.5555555555555556, \"#d8576b\"], [0.6666666666666666, \"#ed7953\"], [0.7777777777777778, \"#fb9f3a\"], [0.8888888888888888, \"#fdca26\"], [1.0, \"#f0f921\"]], \"sequentialminus\": [[0.0, \"#0d0887\"], [0.1111111111111111, \"#46039f\"], [0.2222222222222222, \"#7201a8\"], [0.3333333333333333, \"#9c179e\"], [0.4444444444444444, \"#bd3786\"], [0.5555555555555556, \"#d8576b\"], [0.6666666666666666, \"#ed7953\"], [0.7777777777777778, \"#fb9f3a\"], [0.8888888888888888, \"#fdca26\"], [1.0, \"#f0f921\"]]}, \"colorway\": [\"#636efa\", \"#EF553B\", \"#00cc96\", \"#ab63fa\", \"#FFA15A\", \"#19d3f3\", \"#FF6692\", \"#B6E880\", \"#FF97FF\", \"#FECB52\"], \"font\": {\"color\": \"#2a3f5f\"}, \"geo\": {\"bgcolor\": \"white\", \"lakecolor\": \"white\", \"landcolor\": \"#E5ECF6\", \"showlakes\": true, \"showland\": true, \"subunitcolor\": \"white\"}, \"hoverlabel\": {\"align\": \"left\"}, \"hovermode\": \"closest\", \"mapbox\": {\"style\": \"light\"}, \"paper_bgcolor\": \"white\", \"plot_bgcolor\": \"#E5ECF6\", \"polar\": {\"angularaxis\": {\"gridcolor\": \"white\", \"linecolor\": \"white\", \"ticks\": \"\"}, \"bgcolor\": \"#E5ECF6\", \"radialaxis\": {\"gridcolor\": \"white\", \"linecolor\": \"white\", \"ticks\": \"\"}}, \"scene\": {\"xaxis\": {\"backgroundcolor\": \"#E5ECF6\", \"gridcolor\": \"white\", \"gridwidth\": 2, \"linecolor\": \"white\", \"showbackground\": true, \"ticks\": \"\", \"zerolinecolor\": \"white\"}, \"yaxis\": {\"backgroundcolor\": \"#E5ECF6\", \"gridcolor\": \"white\", \"gridwidth\": 2, \"linecolor\": \"white\", \"showbackground\": true, \"ticks\": \"\", \"zerolinecolor\": \"white\"}, \"zaxis\": {\"backgroundcolor\": \"#E5ECF6\", \"gridcolor\": \"white\", \"gridwidth\": 2, \"linecolor\": \"white\", \"showbackground\": true, \"ticks\": \"\", \"zerolinecolor\": \"white\"}}, \"shapedefaults\": {\"line\": {\"color\": \"#2a3f5f\"}}, \"ternary\": {\"aaxis\": {\"gridcolor\": \"white\", \"linecolor\": \"white\", \"ticks\": \"\"}, \"baxis\": {\"gridcolor\": \"white\", \"linecolor\": \"white\", \"ticks\": \"\"}, \"bgcolor\": \"#E5ECF6\", \"caxis\": {\"gridcolor\": \"white\", \"linecolor\": \"white\", \"ticks\": \"\"}}, \"title\": {\"x\": 0.05}, \"xaxis\": {\"automargin\": true, \"gridcolor\": \"white\", \"linecolor\": \"white\", \"ticks\": \"\", \"title\": {\"standoff\": 15}, \"zerolinecolor\": \"white\", \"zerolinewidth\": 2}, \"yaxis\": {\"automargin\": true, \"gridcolor\": \"white\", \"linecolor\": \"white\", \"ticks\": \"\", \"title\": {\"standoff\": 15}, \"zerolinecolor\": \"white\", \"zerolinewidth\": 2}}}, \"title\": {\"text\": \"Closest 2D Shift Scatterplot (2ppm truncated)\"}, \"width\": 800, \"xaxis\": {\"title\": {\"text\": \"CADel\"}}, \"yaxis\": {\"scaleanchor\": \"x\", \"scaleratio\": 1, \"title\": {\"text\": \"CBDel\"}}},\n",
       "                        {\"responsive\": true}\n",
       "                    ).then(function(){\n",
       "                            \n",
       "var gd = document.getElementById('945e8467-2077-4fce-b8c0-a4caf81f3c6c');\n",
       "var x = new MutationObserver(function (mutations, observer) {{\n",
       "        var display = window.getComputedStyle(gd).display;\n",
       "        if (!display || display === 'none') {{\n",
       "            console.log([gd, 'removed!']);\n",
       "            Plotly.purge(gd);\n",
       "            observer.disconnect();\n",
       "        }}\n",
       "}});\n",
       "\n",
       "// Listen for the removal of the full notebook cells\n",
       "var notebookContainer = gd.closest('#notebook-container');\n",
       "if (notebookContainer) {{\n",
       "    x.observe(notebookContainer, {childList: true});\n",
       "}}\n",
       "\n",
       "// Listen for the clearing of the current output cell\n",
       "var outputEl = gd.closest('.output');\n",
       "if (outputEl) {{\n",
       "    x.observe(outputEl, {childList: true});\n",
       "}}\n",
       "\n",
       "                        })\n",
       "                };\n",
       "                });\n",
       "            </script>\n",
       "        </div>"
      ]
     },
     "metadata": {},
     "output_type": "display_data"
    }
   ],
   "source": [
    "x0 = [x[0] for x in two_d_dataframe['CADel'] if x is not None and x[0] < 2]\n",
    "y0 = [y[0] for y in two_d_dataframe['CBDel'] if y is not None and y[0] < 2]\n",
    "x1 = [x[1] for x in two_d_dataframe['CADel'] if x is not None and x[1] < 2]\n",
    "y1 = [y[1] for y in two_d_dataframe['CBDel'] if y is not None and y[1] < 2]\n",
    "\n",
    "fig1 = go.Figure()\n",
    "fig1.add_trace(go.Scatter(x=x1, y=y1, name='second closest', mode='markers', opacity = .5))\n",
    "fig1.add_trace(go.Scatter(x=x0, y=y0, name='first closest', mode='markers'))\n",
    "fig1.update_layout(yaxis_title_text='CBDel', yaxis=dict(scaleanchor = 'x', scaleratio=1), \n",
    "                  xaxis_title_text='CADel', title_text = 'Closest 2D Shift Scatterplot (2ppm truncated)',\n",
    "                  width=800, height=800)\n",
    "fig1.show()"
   ]
  },
  {
   "cell_type": "code",
   "execution_count": 53,
   "metadata": {},
   "outputs": [
    {
     "data": {
      "text/html": [
       "\n",
       "        <iframe\n",
       "            width=\"100%\"\n",
       "            height=\"525px\"\n",
       "            src=\"https://plot.ly/~sk1617/63.embed\"\n",
       "            frameborder=\"0\"\n",
       "            allowfullscreen\n",
       "        ></iframe>\n",
       "        "
      ],
      "text/plain": [
       "<IPython.lib.display.IFrame at 0x11862feb8>"
      ]
     },
     "execution_count": 53,
     "metadata": {},
     "output_type": "execute_result"
    }
   ],
   "source": [
    "import chart_studio.plotly as py\n",
    "chart_studio.tools.set_credentials_file(username='sk1617', api_key='htVpHm0fYKP0sT2H5vHu')\n",
    "\n",
    "py.iplot(fig0)\n"
   ]
  },
  {
   "cell_type": "code",
   "execution_count": 56,
   "metadata": {},
   "outputs": [
    {
     "data": {
      "text/html": [
       "\n",
       "        <iframe\n",
       "            width=\"800px\"\n",
       "            height=\"800px\"\n",
       "            src=\"https://plot.ly/~sk1617/65.embed\"\n",
       "            frameborder=\"0\"\n",
       "            allowfullscreen\n",
       "        ></iframe>\n",
       "        "
      ],
      "text/plain": [
       "<IPython.lib.display.IFrame at 0x119169e80>"
      ]
     },
     "execution_count": 56,
     "metadata": {},
     "output_type": "execute_result"
    }
   ],
   "source": [
    "py.iplot(fig1)"
   ]
  },
  {
   "cell_type": "code",
   "execution_count": null,
   "metadata": {},
   "outputs": [],
   "source": []
  }
 ],
 "metadata": {
  "kernelspec": {
   "display_name": "Python 3",
   "language": "python",
   "name": "python3"
  },
  "language_info": {
   "codemirror_mode": {
    "name": "ipython",
    "version": 3
   },
   "file_extension": ".py",
   "mimetype": "text/x-python",
   "name": "python",
   "nbconvert_exporter": "python",
   "pygments_lexer": "ipython3",
   "version": "3.6.0"
  }
 },
 "nbformat": 4,
 "nbformat_minor": 1
}