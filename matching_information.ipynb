{
 "cells": [
  {
   "cell_type": "code",
   "execution_count": 2,
   "metadata": {
    "collapsed": true
   },
   "outputs": [],
   "source": [
    "import glob\n",
    "import pandas as pd\n",
    "import numpy as np\n",
    "import statistics as st\n",
    "import matplotlib.pyplot as plt\n",
    "import re\n",
    "from DataProcessing import *\n",
    "from DataImporting import sequence_list\n",
    "peak_list, residue_list = main_data_processing()\n"
   ]
  },
  {
   "cell_type": "code",
   "execution_count": 1,
   "metadata": {},
   "outputs": [
    {
     "name": "stdout",
     "output_type": "stream",
     "text": [
      "hi\n"
     ]
    }
   ],
   "source": [
    "print('hi')"
   ]
  },
  {
   "cell_type": "code",
   "execution_count": 3,
   "metadata": {
    "collapsed": false
   },
   "outputs": [],
   "source": [
    "def sorted_list(name):\n",
    "    assert type(name) == str \n",
    "    ls = list()\n",
    "    for i in peak_list:\n",
    "        shift = i.get_data(name)\n",
    "        if type(shift) is float: \n",
    "            ls.append(shift)\n",
    "    ls.sort()\n",
    "    return ls\n",
    "\n",
    "\n",
    "def sorted_delta_list(ls): \n",
    "    ls1 = [round(min([abs(x - shift) for x in ls if x != shift]), 4) for shift in ls]\n",
    "    ls1.sort()\n",
    "    return ls1\n",
    "\n",
    "\n",
    "def find_closest(shift_list, shift_prime_list): \n",
    "    ls = []\n",
    "    for shift in shift_list: \n",
    "        ls1 = [abs(shift - prime) for prime in shift_prime_list]\n",
    "        ls.append(min(ls1))\n",
    "    return ls\n",
    "        \n",
    "# print(sorted_delta_list(sorted_list('CAShift'))) \n",
    "# print(sorted_delta_list(sorted_list('CBShift'))) "
   ]
  },
  {
   "cell_type": "code",
   "execution_count": 4,
   "metadata": {},
   "outputs": [],
   "source": [
    "# CA Shift\n",
    "x = find_closest(sorted_list('CAShift'), sorted_list('CAPrimeShift'))\n",
    "plt.hist(x, bins=20)\n",
    "plt.xlabel('Closest Shift Delta (ppm)')\n",
    "plt.xticks(np.arange(0, max(x), step=.05))\n",
    "plt.ylabel('Count')\n",
    "plt.title('CAShift Deltas')\n",
    "plt.show()\n"
   ]
  },
  {
   "cell_type": "code",
   "execution_count": 6,
   "metadata": {},
   "outputs": [],
   "source": [
    "# CA Truncated\n",
    "z = find_closest(sorted_list('CAShift'), sorted_list('CAPrimeShift'))\n",
    "x = [y for y in z if y < .5]\n",
    "plt.hist(x, bins=20, color='b')\n",
    "plt.xlabel('Closest Shift Delta (ppm)')\n",
    "plt.xticks(np.arange(0, .5, step=.05))\n",
    "plt.ylabel('Count')\n",
    "plt.title('TRUNCATED CAShift Deltas')\n",
    "plt.show()"
   ]
  },
  {
   "cell_type": "code",
   "execution_count": 7,
   "metadata": {},
   "outputs": [],
   "source": [
    "# CB Shift\n",
    "x = find_closest(sorted_list('CBShift'), sorted_list('CBPrimeShift'))\n",
    "plt.hist(x, bins=20, color='r')\n",
    "plt.xlabel('Closest Shift Delta (ppm)')\n",
    "plt.xticks(np.arange(0, max(x), step=.2))\n",
    "plt.ylabel('Count')\n",
    "plt.title('CBShift Deltas')\n",
    "plt.show()"
   ]
  },
  {
   "cell_type": "code",
   "execution_count": 12,
   "metadata": {},
   "outputs": [],
   "source": [
    "# CB Shift TRUNCATED\n",
    "z = find_closest(sorted_list('CBShift'), sorted_list('CBPrimeShift'))\n",
    "x = [y for y in z if y < .5]\n",
    "\n",
    "plt.hist(x, bins=20, color='m')\n",
    "plt.xlabel('Closest Shift Delta (ppm)')\n",
    "plt.xticks(np.arange(0, max(x)+.05, step=.05))\n",
    "plt.ylabel('Count')\n",
    "plt.title('TRUNCATED CBShift Deltas')\n",
    "plt.show()"
   ]
  },
  {
   "cell_type": "code",
   "execution_count": 8,
   "metadata": {},
   "outputs": [
    {
     "name": "stdout",
     "output_type": "stream",
     "text": [
      "[5.767, 5.772, 5.768, 5.265, 5.266, 6.316, 6.318, 6.318, 6.316, 6.438, 6.438, 6.299, 6.299, 6.299, 6.301, 7.026, 7.015, 7.152, 7.154, 7.151, 6.972, 6.972, 6.973, 6.668, 6.884, 6.883, 6.885, 7.085, 7.087, 7.085, 7.088, 7.084, 7.114, 7.121, 7.121, 7.209, 7.211, 7.526, 7.523, 7.529, 7.488, 7.489, 7.488, 7.492, 7.487, 7.489, 7.488, 7.449, 7.445, 7.45, 7.444, 7.449, 7.448, 7.45, 7.446, 7.448, 7.554, 7.559, 7.553, 7.556, 7.556, 7.503, 7.499, 7.5, 7.413, 7.407, 7.397, 7.393, 7.393, 7.398, 7.37, 7.371, 7.37, 7.37, 7.37, 7.37, 7.371, 7.437, 7.438, 7.438, 7.437, 7.438, 7.472, 7.471, 7.467, 7.472, 7.468, 7.418, 7.418, 7.42, 7.418, 7.419, 7.417, 7.411, 7.411, 7.41, 7.408, 7.419, 7.416, 7.412]\n"
     ]
    }
   ],
   "source": [
    "# NOESY List\n",
    "NOESY_shift_list = []\n",
    "for peak in peak_list: \n",
    "    [NOESY_shift_list.append(shift) for shift in peak.get_data('NOESYHShift')] \n",
    "print(NOESY_shift_list[0:100])"
   ]
  },
  {
   "cell_type": "code",
   "execution_count": null,
   "metadata": {},
   "outputs": [
    {
     "name": "stdout",
     "output_type": "stream",
     "text": [
      "0.017000000000000348\n"
     ]
    }
   ],
   "source": [
    "# H Shift\n",
    "x = find_closest(sorted_list('TROSYHShift'), NOESY_shift_list)\n",
    "plt.hist(x, bins=20, color='c')\n",
    "plt.xlabel('Closest Shift Delta (ppm)')\n",
    "plt.xticks(np.arange(0, max(x), step=.005))\n",
    "plt.ylabel('Count')\n",
    "plt.title('H Shift (NOESY) Deltas')\n",
    "plt.show()\n",
    "print(max(x))"
   ]
  },
  {
   "cell_type": "code",
   "execution_count": 3,
   "metadata": {
    "collapsed": true
   },
   "outputs": [
    {
     "ename": "NameError",
     "evalue": "name 'sorted_delta_list' is not defined",
     "traceback": [
      "\u001b[0;31m---------------------------------------------------------------------------\u001b[0m",
      "\u001b[0;31mNameError\u001b[0m                                 Traceback (most recent call last)",
      "\u001b[0;32m<ipython-input-3-64424a87a9ad>\u001b[0m in \u001b[0;36m<module>\u001b[0;34m()\u001b[0m\n\u001b[1;32m      1\u001b[0m \u001b[0;31m# H Shift TRUNCATED\u001b[0m\u001b[0;34m\u001b[0m\u001b[0;34m\u001b[0m\u001b[0m\n\u001b[0;32m----> 2\u001b[0;31m \u001b[0mx\u001b[0m \u001b[0;34m=\u001b[0m \u001b[0;34m[\u001b[0m\u001b[0my\u001b[0m \u001b[0;32mfor\u001b[0m \u001b[0my\u001b[0m \u001b[0;32min\u001b[0m \u001b[0msorted_delta_list\u001b[0m\u001b[0;34m(\u001b[0m\u001b[0msorted_list\u001b[0m\u001b[0;34m(\u001b[0m\u001b[0;34m'TROSYHShift'\u001b[0m\u001b[0;34m)\u001b[0m\u001b[0;34m)\u001b[0m \u001b[0;32mif\u001b[0m \u001b[0my\u001b[0m \u001b[0;34m<\u001b[0m \u001b[0;36m.1\u001b[0m\u001b[0;34m]\u001b[0m\u001b[0;34m\u001b[0m\u001b[0m\n\u001b[0m\u001b[1;32m      3\u001b[0m \u001b[0mplt\u001b[0m\u001b[0;34m.\u001b[0m\u001b[0mhist\u001b[0m\u001b[0;34m(\u001b[0m\u001b[0mx\u001b[0m\u001b[0;34m,\u001b[0m \u001b[0mbins\u001b[0m\u001b[0;34m=\u001b[0m\u001b[0;36m20\u001b[0m\u001b[0;34m,\u001b[0m \u001b[0mcolor\u001b[0m\u001b[0;34m=\u001b[0m\u001b[0;34m'y'\u001b[0m\u001b[0;34m)\u001b[0m\u001b[0;34m\u001b[0m\u001b[0m\n\u001b[1;32m      4\u001b[0m \u001b[0mplt\u001b[0m\u001b[0;34m.\u001b[0m\u001b[0mxlabel\u001b[0m\u001b[0;34m(\u001b[0m\u001b[0;34m'Closest Shift Delta (ppm)'\u001b[0m\u001b[0;34m)\u001b[0m\u001b[0;34m\u001b[0m\u001b[0m\n\u001b[1;32m      5\u001b[0m \u001b[0mplt\u001b[0m\u001b[0;34m.\u001b[0m\u001b[0mxticks\u001b[0m\u001b[0;34m(\u001b[0m\u001b[0mnp\u001b[0m\u001b[0;34m.\u001b[0m\u001b[0marange\u001b[0m\u001b[0;34m(\u001b[0m\u001b[0;36m0\u001b[0m\u001b[0;34m,\u001b[0m \u001b[0mmax\u001b[0m\u001b[0;34m(\u001b[0m\u001b[0mx\u001b[0m\u001b[0;34m)\u001b[0m\u001b[0;34m,\u001b[0m \u001b[0mstep\u001b[0m\u001b[0;34m=\u001b[0m\u001b[0;36m.01\u001b[0m\u001b[0;34m)\u001b[0m\u001b[0;34m)\u001b[0m\u001b[0;34m\u001b[0m\u001b[0m\n",
      "\u001b[0;31mNameError\u001b[0m: name 'sorted_delta_list' is not defined"
     ],
     "output_type": "error"
    }
   ],
   "source": [
    "# H Shift TRUNCATED\n",
    "x = [y for y in sorted_delta_list(sorted_list('TROSYHShift')) if y < .1]\n",
    "plt.hist(x, bins=20, color='y')\n",
    "plt.xlabel('Closest Shift Delta (ppm)')\n",
    "plt.xticks(np.arange(0, max(x), step=.01))\n",
    "plt.ylabel('Count')\n",
    "plt.title('H Shift (NOESY) Deltas')\n",
    "plt.show()"
   ]
  },
  {
   "cell_type": "code",
   "execution_count": 3,
   "metadata": {},
   "outputs": [],
   "source": [
    "two_d_dict={}"
   ]
  },
  {
   "cell_type": "code",
   "execution_count": 5,
   "metadata": {},
   "outputs": [],
   "source": [
    "two_d_dict['HShift'] = [x.get_data('TROSYHShift') for x in peak_list]\n",
    "two_d_dict['NShift'] = [x.get_data('TROSYNShift') for x in peak_list]\n",
    "two_d_dict['CA'] = [x.get_data('CAShift') for x in peak_list]\n",
    "two_d_dict['CB'] = [x.get_data('CBShift') for x in peak_list]\n",
    "two_d_dict['CAPrime'] = [x.get_data('CAPrimeShift') for x in peak_list]\n",
    "two_d_dict['CBPrime'] = [x.get_data('CBPrimeShift') for x in peak_list]"
   ]
  },
  {
   "cell_type": "code",
   "execution_count": 9,
   "metadata": {},
   "outputs": [
    {
     "name": "stdout",
     "output_type": "stream",
     "text": [
      "   HShift   NShift      CA      CB  CAPrime  CBPrime\n0   5.756  114.300  58.590  57.296   60.265      NaN\n1   5.251  126.472  55.967     NaN      NaN      NaN\n2   6.303  122.611  49.834  69.595   49.177   66.158\n3   6.425  120.326  56.740  55.626   58.271   22.790\n4   6.285  109.235  63.646  56.981   63.742   57.774\n"
     ]
    }
   ],
   "source": [
    "two_d_dataframe = pd.DataFrame(two_d_dict)\n",
    "print(two_d_dataframe.head())"
   ]
  },
  {
   "cell_type": "code",
   "execution_count": 54,
   "metadata": {},
   "outputs": [
    {
     "name": "stdout",
     "output_type": "stream",
     "text": [
      "[[0.089, 0.134, 0.178, 0.229, 0.231], [0.018, 0.053, 0.067, 0.081, 0.089], [0.09, 0.105, 0.33, 0.657, 0.884]]\n[[0.014, 0.022, 0.05, 0.058, 0.18], None, [0.307, 0.557, 0.587, 0.614, 0.775]]\n"
     ]
    }
   ],
   "source": [
    "closest_ca_list, closest_cb_list = [], []\n",
    "for row1 in range(len(two_d_dataframe)): \n",
    "    ca_shift = two_d_dataframe.loc[row1, \"CA\"]\n",
    "    cb_shift = two_d_dataframe.loc[row1, \"CB\"]\n",
    "    if np.isnan(ca_shift): \n",
    "        closest_ca_list.append(None)\n",
    "    else: \n",
    "        ls_ca = []\n",
    "        for row2 in range(len(two_d_dataframe)): \n",
    "            ca_prime_shift = two_d_dataframe.loc[row2, \"CAPrime\"]\n",
    "            if not np.isnan(ca_prime_shift):  \n",
    "                ls_ca.append(round(abs(ca_shift - ca_prime_shift), 4))\n",
    "        ls_ca.sort()\n",
    "        closest_ca_list.append(ls_ca[0:5])\n",
    "    \n",
    "    if np.isnan(cb_shift): \n",
    "        closest_cb_list.append(None)\n",
    "    else: \n",
    "        ls_cb = []\n",
    "        for row2 in range(len(two_d_dataframe)): \n",
    "            cb_prime_shift = two_d_dataframe.loc[row2, \"CBPrime\"]\n",
    "            if not np.isnan(cb_prime_shift):  \n",
    "                ls_cb.append(round(abs(cb_shift - cb_prime_shift), 4))\n",
    "        ls_cb.sort()\n",
    "        closest_cb_list.append(ls_cb[0:5])\n",
    "\n",
    "print(closest_ca_list[0:3])\n",
    "print(closest_cb_list[0:3])"
   ]
  },
  {
   "cell_type": "code",
   "execution_count": 55,
   "metadata": {},
   "outputs": [],
   "source": [
    "two_d_dataframe['ClosestCAShift1D'] = closest_ca_list\n",
    "two_d_dataframe['ClosestCBShift1D'] = closest_cb_list\n"
   ]
  },
  {
   "cell_type": "code",
   "execution_count": 74,
   "metadata": {
    "collapsed": true
   },
   "outputs": [],
   "source": [
    "closest_2d_list = []\n",
    "for row1 in range(len(two_d_dataframe)): \n",
    "    ca_shift = two_d_dataframe.loc[row1, \"CA\"]\n",
    "    cb_shift = two_d_dataframe.loc[row1, \"CB\"]\n",
    "    if np.isnan(ca_shift): \n",
    "        closest_2d_list.append(None)\n",
    "    elif np.isnan(cb_shift): \n",
    "        closest_2d_list.append(None)\n",
    "    else:\n",
    "        ls = []\n",
    "        for row2 in range(len(two_d_dataframe)):\n",
    "            ca_prime_shift = two_d_dataframe.loc[row2, \"CAPrime\"]\n",
    "            cb_prime_shift = two_d_dataframe.loc[row2, \"CBPrime\"]\n",
    "            if not np.isnan(ca_prime_shift) and not np.isnan(cb_prime_shift):\n",
    "                ca_delta_squared = (abs(ca_shift - ca_prime_shift))**2\n",
    "                cb_delta_squared = (abs(cb_shift - cb_prime_shift))**2\n",
    "                ls.append((ca_delta_squared + cb_delta_squared)**.5)\n",
    "        ls.sort()\n",
    "        closest_2d_list.append([round(x, 5) for x in ls[0:5]])\n",
    "        \n",
    "            "
   ]
  },
  {
   "cell_type": "code",
   "execution_count": 80,
   "metadata": {},
   "outputs": [],
   "source": [
    "two_d_dataframe['Closest2DShift (ppm)'] = closest_2d_list"
   ]
  },
  {
   "cell_type": "code",
   "execution_count": 82,
   "metadata": {},
   "outputs": [
    {
     "name": "stdout",
     "output_type": "stream",
     "text": [
      "   HShift   NShift      CA      CB  CAPrime  CBPrime  \\\n0   5.756  114.300  58.590  57.296   60.265      NaN   \n1   5.251  126.472  55.967     NaN      NaN      NaN   \n2   6.303  122.611  49.834  69.595   49.177   66.158   \n3   6.425  120.326  56.740  55.626   58.271   22.790   \n4   6.285  109.235  63.646  56.981   63.742   57.774   \n\n                      ClosestCAShift1D                     ClosestCBShift1D  \\\n0  [0.089, 0.134, 0.178, 0.229, 0.231]    [0.014, 0.022, 0.05, 0.058, 0.18]   \n1  [0.018, 0.053, 0.067, 0.081, 0.089]                                 None   \n2    [0.09, 0.105, 0.33, 0.657, 0.884]  [0.307, 0.557, 0.587, 0.614, 0.775]   \n3  [0.024, 0.041, 0.089, 0.164, 0.173]  [0.018, 0.021, 0.024, 0.087, 0.151]   \n4    [0.014, 0.035, 0.04, 0.07, 0.075]  [0.068, 0.073, 0.102, 0.122, 0.128]   \n\n                            Closest2DShift (ppm)  \n0    [0.2071, 0.2424, 0.42221, 0.74007, 0.74798]  \n1                                           None  \n2    [1.01942, 2.3857, 2.69302, 2.7908, 2.87039]  \n3  [0.81138, 0.84034, 0.86195, 0.88387, 0.89516]  \n4  [0.69804, 0.74195, 0.79879, 1.08909, 1.09165]  \n"
     ]
    }
   ],
   "source": [
    "print(two_d_dataframe.head())"
   ]
  },
  {
   "cell_type": "code",
   "execution_count": 84,
   "metadata": {},
   "outputs": [],
   "source": [
    "two_d_dataframe.to_csv('Closest Match in Two Dimensions.csv')"
   ]
  },
  {
   "cell_type": "code",
   "execution_count": null,
   "metadata": {},
   "outputs": [],
   "source": []
  }
 ],
 "metadata": {
  "kernelspec": {
   "display_name": "Python 2",
   "language": "python",
   "name": "python2"
  },
  "language_info": {
   "codemirror_mode": {
    "name": "ipython",
    "version": 2
   },
   "file_extension": ".py",
   "mimetype": "text/x-python",
   "name": "python",
   "nbconvert_exporter": "python",
   "pygments_lexer": "ipython2",
   "version": "2.7.6"
  }
 },
 "nbformat": 4,
 "nbformat_minor": 0
}
