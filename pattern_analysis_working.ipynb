{
 "cells": [
  {
   "cell_type": "code",
   "execution_count": 1,
   "metadata": {},
   "outputs": [
    {
     "name": "stdout",
     "output_type": "stream",
     "text": [
      "hi\n"
     ]
    }
   ],
   "source": [
    "print('hi')"
   ]
  },
  {
   "cell_type": "code",
   "execution_count": 2,
   "metadata": {},
   "outputs": [],
   "source": [
    "import pandas as pd\n",
    "import numpy as np\n",
    "import statistics as st\n",
    "import matplotlib.pyplot as plt\n",
    "import re\n",
    "from DataProcessing import *\n",
    "from DataImporting import sequence_list\n",
    "from venditti_data_importer import venditti_assignment\n",
    "peak_list, residue_list = main_data_processing()\n",
    "\n",
    "acceptance_threshold = .20\n",
    "should_print_unassigned_lists = False\n",
    "should_print_peak_data = True\n",
    "should_export_to_excel = True\n",
    "should_take_best_10 = False\n",
    "\n",
    "\n",
    "# if you want to analyze multiple test conditions, add them here.\n",
    "for random_index in range(1):\n",
    "    # DATA INGESTION\n",
    "    time_taken_list = list()\n",
    "    final_energy_list = list()\n",
    "    filename_list = list()\n",
    "    count_of_assignments = 0\n",
    "\n",
    "    # glob.glob returns a list of paths that match filename NAME.\n",
    "    # add all files for each test condition\n",
    "\n",
    "    # NAME = [\"Slurm Trials/slurm-4102660_{}.out\".format(str(x)) for x in range(1, 17)] + \\\n",
    "    #        [\"Slurm Trials/slurm-4109433_{}.out\".format(str(x)) for x in range(17, 201)]\n",
    "\n",
    "    # NAME = [\"Slurm Trials/slurm-9199622_{}.out\".format(str(x)) for x in range(1,81)]\n",
    "\n",
    "    NAME = [\"Slurm Trials/slurm-9199622_80.out\"]\n",
    "\n",
    "    set_iterations, initial_temperature, exponent, eif = None, None, None, None\n",
    "    time_taken, completed_iterations, final_temp, og_index_list, og_energy, index_list, final_energy = \\\n",
    "        None, None, None, None, None, None, None\n",
    "\n",
    "    initial_data = pd.DataFrame(columns=['set_iterations', 'time_taken', 'completed_iterations', 'final_temp',\n",
    "                                         'og_index_list', 'og_energy', 'index_list', 'final_energy'])\n",
    "\n",
    "    for filename_str in NAME:\n",
    "        # imports each file\n",
    "        # filename = [i[0] for i in glob.glob(filename_str)]\n",
    "        file = open(filename_str, 'r')\n",
    "        filename_list.append(filename_str)\n",
    "\n",
    "        for line in file.readlines():\n",
    "            if \"Done\" in line:\n",
    "                count_of_assignments += 1\n",
    "                df_temp = pd.DataFrame([[set_iterations, time_taken, completed_iterations,\n",
    "                                         final_temp, og_index_list, og_energy,\n",
    "                                         index_list, final_energy]],\n",
    "                                       columns=['set_iterations', 'time_taken', 'completed_iterations',\n",
    "                                                'final_temp', 'og_index_list', 'og_energy',\n",
    "                                                'index_list', 'final_energy'])\n",
    "                initial_data = initial_data.append(df_temp, ignore_index=True)\n",
    "\n",
    "                set_iterations, initial_temperature, exponent, eif = None, None, None, None\n",
    "                time_taken, completed_iterations, final_temp, og_index_list, og_energy, index_list, final_energy = \\\n",
    "                    None, None, None, None, None, None, None\n",
    "\n",
    "            elif 'exponent:' in line:\n",
    "                set_iterations = int(re.search(r\" \\d* \", line)[0][1:-1])\n",
    "            elif 'time taken (sec)' in line:\n",
    "                time_taken = float(re.search(r\"\\d*\\.\\d*\", line)[0])\n",
    "                time_taken_list.append(time_taken)\n",
    "            elif 'number of iterations' in line:\n",
    "                completed_iterations = int(re.search(r\"[0-9].*\", line)[0])\n",
    "            elif 'final temperature' in line:\n",
    "                final_temp = float(re.search(r\"\\d*\\.\\d*\", line)[0])\n",
    "                final_energy_list.append(final_temp)\n",
    "            elif 'og index list:' in line:\n",
    "                og_index_list = list()\n",
    "                [og_index_list.append(int(x)) for x in line[line.index('[') + 1:line.index(']')].split(', ')]\n",
    "            elif 'og index list energy:' in line:\n",
    "                og_energy = float(re.search(r\"\\d*\\.\\d*\", line)[0])\n",
    "            elif 'index list:' in line:\n",
    "                index_list = list()\n",
    "                [index_list.append(int(x)) for x in line[line.index('[') + 1:line.index(']')].split(', ')]\n",
    "            elif 'index list energy:' in line:\n",
    "                final_energy = float(re.search(r\"\\d*\\.\\d*\", line)[0])\n",
    "\n",
    "        # print(initial_data.head())\n",
    "        # print(time_taken, completed_iterations, final_temp, og_index_list, og_energy, index_list, final_energy)\n"
   ]
  },
  {
   "cell_type": "code",
   "execution_count": 3,
   "metadata": {},
   "outputs": [
    {
     "data": {
      "text/plain": [
       "0    [234, 205, 235, 301, 227, 30, 370, 76, 107, 13...\nName: index_list, dtype: object"
      ]
     },
     "execution_count": 3,
     "metadata": {},
     "output_type": "execute_result"
    }
   ],
   "source": [
    "initial_data['index_list']"
   ]
  },
  {
   "cell_type": "code",
   "execution_count": null,
   "metadata": {},
   "outputs": [],
   "source": []
  }
 ],
 "metadata": {
  "kernelspec": {
   "display_name": "Python 2",
   "language": "python",
   "name": "python2"
  },
  "language_info": {
   "codemirror_mode": {
    "name": "ipython",
    "version": 2
   },
   "file_extension": ".py",
   "mimetype": "text/x-python",
   "name": "python",
   "nbconvert_exporter": "python",
   "pygments_lexer": "ipython2",
   "version": "2.7.6"
  }
 },
 "nbformat": 4,
 "nbformat_minor": 0
}
