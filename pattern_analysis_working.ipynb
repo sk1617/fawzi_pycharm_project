{
 "cells": [
  {
   "cell_type": "code",
   "execution_count": 1,
   "metadata": {
    "collapsed": true
   },
   "outputs": [
    {
     "name": "stdout",
     "output_type": "stream",
     "text": [
      "80\n80\n"
     ]
    },
    {
     "name": "stdout",
     "output_type": "stream",
     "text": [
      "the following files were analyzed: ['Slurm Trials/slurm-9199622_1.out', 'Slurm Trials/slurm-9199622_2.out', 'Slurm Trials/slurm-9199622_3.out', 'Slurm Trials/slurm-9199622_4.out', 'Slurm Trials/slurm-9199622_5.out', 'Slurm Trials/slurm-9199622_6.out', 'Slurm Trials/slurm-9199622_7.out', 'Slurm Trials/slurm-9199622_8.out', 'Slurm Trials/slurm-9199622_9.out', 'Slurm Trials/slurm-9199622_10.out', 'Slurm Trials/slurm-9199622_11.out', 'Slurm Trials/slurm-9199622_12.out', 'Slurm Trials/slurm-9199622_13.out', 'Slurm Trials/slurm-9199622_14.out', 'Slurm Trials/slurm-9199622_15.out', 'Slurm Trials/slurm-9199622_16.out', 'Slurm Trials/slurm-9199622_17.out', 'Slurm Trials/slurm-9199622_18.out', 'Slurm Trials/slurm-9199622_19.out', 'Slurm Trials/slurm-9199622_20.out', 'Slurm Trials/slurm-9199622_21.out', 'Slurm Trials/slurm-9199622_22.out', 'Slurm Trials/slurm-9199622_23.out', 'Slurm Trials/slurm-9199622_24.out', 'Slurm Trials/slurm-9199622_25.out', 'Slurm Trials/slurm-9199622_26.out', 'Slurm Trials/slurm-9199622_27.out', 'Slurm Trials/slurm-9199622_28.out', 'Slurm Trials/slurm-9199622_29.out', 'Slurm Trials/slurm-9199622_30.out', 'Slurm Trials/slurm-9199622_31.out', 'Slurm Trials/slurm-9199622_32.out', 'Slurm Trials/slurm-9199622_33.out', 'Slurm Trials/slurm-9199622_34.out', 'Slurm Trials/slurm-9199622_35.out', 'Slurm Trials/slurm-9199622_36.out', 'Slurm Trials/slurm-9199622_37.out', 'Slurm Trials/slurm-9199622_38.out', 'Slurm Trials/slurm-9199622_39.out', 'Slurm Trials/slurm-9199622_40.out', 'Slurm Trials/slurm-9199622_41.out', 'Slurm Trials/slurm-9199622_42.out', 'Slurm Trials/slurm-9199622_43.out', 'Slurm Trials/slurm-9199622_44.out', 'Slurm Trials/slurm-9199622_45.out', 'Slurm Trials/slurm-9199622_46.out', 'Slurm Trials/slurm-9199622_47.out', 'Slurm Trials/slurm-9199622_48.out', 'Slurm Trials/slurm-9199622_49.out', 'Slurm Trials/slurm-9199622_50.out', 'Slurm Trials/slurm-9199622_51.out', 'Slurm Trials/slurm-9199622_52.out', 'Slurm Trials/slurm-9199622_53.out', 'Slurm Trials/slurm-9199622_54.out', 'Slurm Trials/slurm-9199622_55.out', 'Slurm Trials/slurm-9199622_56.out', 'Slurm Trials/slurm-9199622_57.out', 'Slurm Trials/slurm-9199622_58.out', 'Slurm Trials/slurm-9199622_59.out', 'Slurm Trials/slurm-9199622_60.out', 'Slurm Trials/slurm-9199622_61.out', 'Slurm Trials/slurm-9199622_62.out', 'Slurm Trials/slurm-9199622_63.out', 'Slurm Trials/slurm-9199622_64.out', 'Slurm Trials/slurm-9199622_65.out', 'Slurm Trials/slurm-9199622_66.out', 'Slurm Trials/slurm-9199622_67.out', 'Slurm Trials/slurm-9199622_68.out', 'Slurm Trials/slurm-9199622_69.out', 'Slurm Trials/slurm-9199622_70.out', 'Slurm Trials/slurm-9199622_71.out', 'Slurm Trials/slurm-9199622_72.out', 'Slurm Trials/slurm-9199622_73.out', 'Slurm Trials/slurm-9199622_74.out', 'Slurm Trials/slurm-9199622_75.out', 'Slurm Trials/slurm-9199622_76.out', 'Slurm Trials/slurm-9199622_77.out', 'Slurm Trials/slurm-9199622_78.out', 'Slurm Trials/slurm-9199622_79.out', 'Slurm Trials/slurm-9199622_80.out'] with a total of 80 assignments\nthe average time taken for each trial was: 380930.02535588446 sec\nthe average end energy was: 191.58123138056612\nduplicate peaks: []\nnot assigned peaks: [0, 1, 2, 3, 4, 5, 6, 7, 8, 9, 10, 11, 12, 13, 14, 15, 16, 17, 18, 19, 20, 21, 22, 23, 24, 25, 26, 27, 28, 29, 30, 31, 32, 33, 34, 35, 36, 37, 38, 39, 40, 41, 42, 43, 44, 45, 46, 47, 48, 49, 50, 51, 52, 53, 54, 55, 56, 57, 58, 59, 60, 61, 62, 63, 64, 65, 66, 67, 68, 69, 70, 71, 72, 73, 74, 75, 76, 77, 78, 79, 80, 81, 82, 83, 84, 85, 86, 87, 88, 89, 90, 91, 92, 93, 94, 95, 96, 97, 98, 99, 100, 101, 102, 103, 104, 105, 106, 107, 108, 109, 110, 111, 112, 113, 114, 115, 116, 117, 118, 119, 120, 121, 122, 123, 124, 125, 126, 127, 128, 129, 130, 131, 132, 133, 134, 135, 136, 137, 138, 139, 140, 141, 142, 143, 144, 145, 146, 147, 148, 149, 150, 151, 152, 153, 154, 155, 156, 157, 158, 159, 160, 161, 162, 163, 164, 165, 166, 167, 168, 169, 170, 171, 172, 173, 174, 175, 176, 177, 178, 179, 180, 181, 182, 183, 184, 185, 186, 187, 188, 189, 190, 191, 192, 193, 194, 195, 196, 197, 198, 199, 200, 201, 202, 203, 204, 205, 206, 207, 208, 209, 210, 211, 212, 213, 214, 215, 216, 217, 218, 219, 220, 221, 222, 223, 224, 225, 226, 227, 228, 229, 230, 231, 232, 233, 234, 235, 236, 237, 238, 239, 240, 241, 242, 243, 244, 245, 246, 247, 248, 249, 250, 251, 252, 253, 254, 255, 256, 257, 258, 259, 260, 261, 262, 263, 264, 265, 266, 267, 268, 269, 270, 271, 272, 273, 274, 275, 276, 277, 278, 279, 280, 281, 282, 283, 284, 285, 286, 287, 288, 289, 290, 291, 292, 293, 294, 295, 296, 297, 298, 299, 300, 301, 302, 303, 304, 305, 306, 307, 308, 309, 310, 311, 312, 313, 314, 315, 316, 317, 318, 319, 320, 321, 322, 323, 324, 325, 326, 327, 328, 329, 330, 331, 332, 333, 334, 335, 336, 337, 338, 339, 340, 341, 342, 343, 344, 345, 346, 347, 348, 349, 350, 351, 352, 353, 354, 355, 356, 357, 358, 359, 360, 361, 362, 363, 364, 365, 366, 367, 368, 369, 370, 371, 372, 373, 374, 375, 376, 377, 378, 379, 380, 381, 382, 383, 384, 385, 386, 387, 388, 389, 390, 391, 392, 393, 394, 395, 396, 397, 398, 399, 400, 401, 402, 403, 404, 405, 406, 407, 408, 409, 410, 411, 412, 413, 414, 415, 416, 417, 418, 419, 420, 421, 422, 423, 424, 425, 426, 427, 428, 429, 430, 431, 432, 433, 434, 435, 436, 437, 438, 439, 440, 441, 442, 443, 444, 445, 446, 447, 448]\nT : mode: None count:134 (167.5%)\nP : mode: None count:134 (167.5%)\nK : mode: None count:134 (167.5%)\nD : mode: None count:134 (167.5%)\nD : mode: None count:134 (167.5%)\nE : mode: None count:134 (167.5%)\nF : mode: None count:134 (167.5%)\nY : mode: None count:134 (167.5%)\nQ : mode: None count:134 (167.5%)\nQ : mode: None count:134 (167.5%)\nW : mode: None count:134 (167.5%)\nQ : mode: None count:134 (167.5%)\nL : mode: None count:134 (167.5%)\nK : mode: None count:134 (167.5%)\nY : mode: None count:134 (167.5%)\nP : mode: None count:134 (167.5%)\nK : mode: None count:134 (167.5%)\nL : mode: None count:134 (167.5%)\nI : mode: None count:134 (167.5%)\nL : mode: None count:134 (167.5%)\nR : mode: None count:134 (167.5%)\nE : mode: None count:134 (167.5%)\nA : mode: None count:134 (167.5%)\nS : mode: None count:134 (167.5%)\nS : mode: None count:134 (167.5%)\nV : mode: None count:134 (167.5%)\nS : mode: None count:134 (167.5%)\nE : mode: None count:134 (167.5%)\nE : mode: None count:134 (167.5%)\nL : mode: None count:134 (167.5%)\nH : mode: None count:134 (167.5%)\nK : mode: None count:134 (167.5%)\nE : mode: None count:134 (167.5%)\nV : mode: None count:134 (167.5%)\nQ : mode: None count:134 (167.5%)\nE : mode: None count:134 (167.5%)\nA : mode: None count:134 (167.5%)\nF : mode: None count:134 (167.5%)\nL : mode: None count:134 (167.5%)\nT : mode: None count:134 (167.5%)\nL : mode: None count:134 (167.5%)\nH : mode: None count:134 (167.5%)\nK : mode: None count:134 (167.5%)\nH : mode: None count:134 (167.5%)\nG : mode: None count:134 (167.5%)\nC : mode: None count:134 (167.5%)\nL : mode: None count:134 (167.5%)\nF : mode: None count:134 (167.5%)\nR : mode: None count:134 (167.5%)\nD : mode: None count:134 (167.5%)\nL : mode: None count:134 (167.5%)\nV : mode: None count:134 (167.5%)\nR : mode: None count:134 (167.5%)\nI : mode: None count:134 (167.5%)\nQ : mode: None count:134 (167.5%)\nG : mode: None count:134 (167.5%)\nK : mode: None count:134 (167.5%)\nD : mode: None count:134 (167.5%)\nL : mode: None count:134 (167.5%)\nL : mode: None count:134 (167.5%)\nT : mode: None count:134 (167.5%)\nP : mode: None count:134 (167.5%)\nV : mode: None count:134 (167.5%)\nS : mode: None count:134 (167.5%)\nR : mode: None count:134 (167.5%)\nI : mode: None count:134 (167.5%)\nL : mode: None count:134 (167.5%)\nI : mode: None count:134 (167.5%)\nG : mode: None count:134 (167.5%)\nN : mode: None count:134 (167.5%)\nP : mode: None count:134 (167.5%)\nG : mode: None count:134 (167.5%)\nC : mode: None count:134 (167.5%)\nT : mode: None count:134 (167.5%)\nY : mode: None count:134 (167.5%)\nK : mode: None count:134 (167.5%)\nY : mode: None count:134 (167.5%)\nL : mode: None count:134 (167.5%)\nN : mode: None count:134 (167.5%)\nT : mode: None count:134 (167.5%)\nDONE\n\n\n"
     ]
    }
   ],
   "source": [
    "from Pattern_Analysis import initial_data"
   ]
  },
  {
   "cell_type": "code",
   "execution_count": 6,
   "metadata": {},
   "outputs": [],
   "source": [
    "for i in initial_data['index_list']: \n",
    "    if len(i) != 474: \n",
    "        print(len(i))"
   ]
  },
  {
   "cell_type": "code",
   "execution_count": 32,
   "metadata": {},
   "outputs": [],
   "source": [
    "import numpy as np\n",
    "a = initial_data['index_list']\n",
    "b = np.array([])\n",
    "for i, j in enumerate(a): \n",
    "    b = np.concatenate((b, np.array(j)))\n",
    "b.resize((80, 474))\n",
    "b = b.transpose()"
   ]
  },
  {
   "cell_type": "code",
   "execution_count": 34,
   "metadata": {},
   "outputs": [
    {
     "name": "stdout",
     "output_type": "stream",
     "text": [
      "6\n80\n474\n[234. 234. 114. 234. 234.   4. 170. 234. 234. 170. 234. 131. 234. 234.\n 170. 234. 234. 234. 234. 234. 114. 234. 234. 234. 234. 114. 234. 234.\n 234. 131. 234. 234. 131. 234. 234. 170. 114. 234. 234. 234. 234. 170.\n 234. 234. 234. 234. 234. 234. 170. 234. 234. 114. 234. 234. 234. 234.\n 131. 170. 234. 234. 234. 234. 234. 234. 234. 116. 234. 234. 234. 234.\n 234. 116. 234. 234. 170. 114. 234. 170. 234. 234.]\n"
     ]
    }
   ],
   "source": [
    "print(len(set(b[0])))\n",
    "print(len(b[0]))\n",
    "print(len(b))\n",
    "print(b[0])"
   ]
  },
  {
   "cell_type": "code",
   "execution_count": null,
   "metadata": {},
   "outputs": [],
   "source": []
  }
 ],
 "metadata": {
  "kernelspec": {
   "display_name": "Python 2",
   "language": "python",
   "name": "python2"
  },
  "language_info": {
   "codemirror_mode": {
    "name": "ipython",
    "version": 2
   },
   "file_extension": ".py",
   "mimetype": "text/x-python",
   "name": "python",
   "nbconvert_exporter": "python",
   "pygments_lexer": "ipython2",
   "version": "2.7.6"
  }
 },
 "nbformat": 4,
 "nbformat_minor": 0
}
