{
 "cells": [
  {
   "cell_type": "code",
   "execution_count": 2,
   "metadata": {},
   "outputs": [],
   "source": [
    "from tpe_DataProcessing import *"
   ]
  },
  {
   "cell_type": "code",
   "execution_count": 3,
   "metadata": {},
   "outputs": [
    {
     "name": "stdout",
     "output_type": "stream",
     "text": [
      "6\n"
     ]
    }
   ],
   "source": [
    "peak_list, residue_list = main_data_processing()"
   ]
  },
  {
   "cell_type": "code",
   "execution_count": 4,
   "metadata": {},
   "outputs": [],
   "source": [
    "from tpe_EnergyFunctions import *"
   ]
  },
  {
   "cell_type": "code",
   "execution_count": 5,
   "metadata": {},
   "outputs": [
    {
     "name": "stdout",
     "output_type": "stream",
     "text": [
      "median time taken:5152.9516859054565 mean time taken:5145.589913066005\n"
     ]
    }
   ],
   "source": [
    "# average time taken \n",
    "fh = open('mmals/full_v32.txt')\n",
    "time_taken_ls = []\n",
    "for line in fh.readlines():\n",
    "    if line[0] == 't': \n",
    "        x = line.index(':')\n",
    "        time = line[x+2:]\n",
    "        time = float(time)\n",
    "        time_taken_ls.append(time)\n",
    "assert len(set(time_taken_ls)) == len(time_taken_ls)\n",
    "import statistics as st\n",
    "import matplotlib.pyplot as plt\n",
    "print('median time taken:{}'.format(st.median(time_taken_ls)), 'mean time taken:{}'.format(st.mean(time_taken_ls)))\n",
    "plt.boxplot(time_taken_ls)\n",
    "plt.title('full v3.3 1e6 median time taken:{}'.format(st.median(time_taken_ls)))\n",
    "plt.show()"
   ]
  },
  {
   "cell_type": "code",
   "execution_count": 6,
   "metadata": {},
   "outputs": [
    {
     "name": "stdout",
     "output_type": "stream",
     "text": [
      "median start nrg:60219346.48202072 mean start energy:60564676.43772576\n"
     ]
    }
   ],
   "source": [
    "# average starting energy\n",
    "fh = open('mmals/full_v32.txt')\n",
    "avg_start_nrg = []\n",
    "for line in fh.readlines(): \n",
    "    if line[0] == 'o':\n",
    "        i = line.index('[')\n",
    "        index_list = line[i+1:-2]\n",
    "        index_list = index_list.split(',')\n",
    "        index_list = [int(x) for x in index_list]\n",
    "        energy, info_list = eval_energy(index_list, peak_list, residue_list, 200.)\n",
    "        avg_start_nrg.append(energy)\n",
    "print('median start nrg:{}'.format(st.median(avg_start_nrg)), 'mean start energy:{}'.format(st.mean(avg_start_nrg)))\n",
    "plt.boxplot(avg_start_nrg)\n",
    "plt.title('full v3.3 1e6 median start nrg:{}'.format(st.median(avg_start_nrg)))\n",
    "plt.show()"
   ]
  },
  {
   "cell_type": "code",
   "execution_count": 7,
   "metadata": {},
   "outputs": [
    {
     "name": "stdout",
     "output_type": "stream",
     "text": [
      "median end nrg:923506.335443419 mean end energy:938574.1763779018\n"
     ]
    }
   ],
   "source": [
    "# average end energy\n",
    "fh = open('mmals/full_v32.txt')\n",
    "avg_end_nrg = []\n",
    "for line in fh.readlines(): \n",
    "    if len(line) < 5: \n",
    "        continue\n",
    "    elif line[1] == 'n':\n",
    "        i = line.index('[')\n",
    "        index_list = line[i+1:-2]\n",
    "        index_list = index_list.split(',')\n",
    "        index_list = [int(x) for x in index_list]\n",
    "        energy, info_list = eval_energy(index_list, peak_list, residue_list, 200.)\n",
    "        avg_end_nrg.append(energy)\n",
    "print('median end nrg:{}'.format(st.median(avg_end_nrg)), 'mean end energy:{}'.format(st.mean(avg_end_nrg)))\n",
    "plt.boxplot(avg_end_nrg)\n",
    "plt.title('full v3.3 1e6 end nrg:{}'.format(st.median(avg_end_nrg)))\n",
    "plt.show()"
   ]
  },
  {
   "cell_type": "code",
   "execution_count": 10,
   "metadata": {
    "collapsed": false
   },
   "outputs": [
    {
     "name": "stdout",
     "output_type": "stream",
     "text": [
      "645797.5504122917 76308.59431124164\nnumber of times we hit lowest energy: 0, (as a %: 0.0)\n"
     ]
    }
   ],
   "source": [
    "m = min(avg_end_nrg)\n",
    "perfect_list = [x for x in range(74)]\n",
    "\n",
    "it = sequence_list.__iter__()\n",
    "w = 80\n",
    "v = 0 \n",
    "for u, thing in enumerate(it): \n",
    "    if thing == 'P': \n",
    "        v += 1\n",
    "        perfect_list.insert(u, w - v)\n",
    "energy, info_list = eval_energy(perfect_list, peak_list, residue_list, 200.)\n",
    "print(m, energy)\n",
    "# assert m == energy\n",
    "count = avg_end_nrg.count(energy)\n",
    "print('number of times we hit lowest energy: {}, (as a %: {})'.format(\n",
    "      count, 100 * count/len(avg_end_nrg)))"
   ]
  },
  {
   "cell_type": "code",
   "execution_count": 12,
   "metadata": {},
   "outputs": [
    {
     "name": "stdout",
     "output_type": "stream",
     "text": [
      "median delta energy:-59163067.770144 mean delta energy:-59626102.26134786\n"
     ]
    }
   ],
   "source": [
    "# avg delta\n",
    "delta_nrg_ls = []\n",
    "for start, end in zip(avg_start_nrg, avg_end_nrg):\n",
    "    delta = end - start \n",
    "    delta_nrg_ls.append(delta)\n",
    "print('median delta energy:{}'.format(st.median(delta_nrg_ls)), \n",
    "      'mean delta energy:{}'.format(st.mean(delta_nrg_ls)))\n",
    "plt.boxplot(delta_nrg_ls)\n",
    "plt.title('full v3.3 1e6 delta nrg:{}'.format(st.median(delta_nrg_ls)))\n",
    "plt.show()"
   ]
  },
  {
   "cell_type": "code",
   "execution_count": 14,
   "metadata": {
    "collapsed": false
   },
   "outputs": [
    {
     "name": "stdout",
     "output_type": "stream",
     "text": [
      "median snfea energy:11682330.627309337 mean snfea energy:11942664.970825018 max snfea energy: 19743442.400787912\n"
     ]
    }
   ],
   "source": [
    "start_nrg_for_expected_ans_ls = []\n",
    "for start, end in zip(avg_start_nrg, avg_end_nrg): \n",
    "    if end == 21778.61607265333:\n",
    "        start_nrg_for_expected_ans_ls.append(start)\n",
    "print('median snfea energy:{}'.format(st.median(start_nrg_for_expected_ans_ls)), \n",
    "      'mean snfea energy:{}'.format(st.mean(start_nrg_for_expected_ans_ls)),\n",
    "      'max snfea energy: {}'.format(max(start_nrg_for_expected_ans_ls)))\n",
    "plt.boxplot(start_nrg_for_expected_ans_ls)\n",
    "plt.title('median 1e7 snfea nrg:{}'.format(st.median(start_nrg_for_expected_ans_ls)))\n",
    "plt.show()"
   ]
  },
  {
   "cell_type": "code",
   "execution_count": 12,
   "metadata": {},
   "outputs": [
    {
     "name": "stdout",
     "output_type": "stream",
     "text": [
      "number less than median: 13, (as a %: 43.333333333333336)\nnumber less than max: 29, (as a %: 96.66666666666667)\n"
     ]
    }
   ],
   "source": [
    "# % of start nrg less than median snfea nrg\n",
    "less_than_median = 0\n",
    "less_than_max = 0\n",
    "for nrg in avg_start_nrg: \n",
    "    if nrg <= 10666613.237559948: \n",
    "        less_than_median += 1\n",
    "        less_than_max += 1\n",
    "    elif nrg <= 18130988.606002834:\n",
    "        less_than_max += 1 \n",
    "print('number less than median: {}, (as a %: {})'.format(\n",
    "      less_than_median, 100 * less_than_median/len(avg_start_nrg)))\n",
    "print('number less than max: {}, (as a %: {})'.format(\n",
    "      less_than_max, 100 * less_than_max/len(avg_start_nrg)))"
   ]
  },
  {
   "cell_type": "code",
   "execution_count": 13,
   "metadata": {},
   "outputs": [
    {
     "name": "stdout",
     "output_type": "stream",
     "text": [
      "30\n"
     ]
    }
   ],
   "source": [
    "print(len(delta_nrg_ls))"
   ]
  },
  {
   "cell_type": "code",
   "execution_count": 13,
   "metadata": {},
   "outputs": [
    {
     "name": "stdout",
     "output_type": "stream",
     "text": [
      "median end nrg:90609.04785353881 mean end energy:95845.03907991851\nQ1 end nrg: 60208.07039349836\n"
     ]
    }
   ],
   "source": [
    "import statistics as st\n",
    "import matplotlib.pyplot as plt\n",
    "import numpy as np\n",
    "# average end energy\n",
    "fh = open('mmals/V3.2 1e7 results.txt')\n",
    "fl = open('mmals/V3.2 results.txt')\n",
    "\n",
    "avg_end_nrg = []\n",
    "for line in fh.readlines(): \n",
    "    if len(line) < 5: \n",
    "        continue\n",
    "    elif line[1] == 'n':\n",
    "        i = line.index(':')\n",
    "        index_list = line[i+3:-2]\n",
    "        index_list = index_list.split(',')\n",
    "        index_list = [int(x) for x in index_list]\n",
    "        energy, info_list = eval_energy(index_list, peak_list, residue_list, 200.)\n",
    "        avg_end_nrg.append(energy)\n",
    "\n",
    "for line in fl.readlines(): \n",
    "    if len(line) < 5: \n",
    "        continue\n",
    "    elif line[1] == 'n':\n",
    "        i = line.index(':')\n",
    "        index_list = line[i+3:-2]\n",
    "        index_list = index_list.split(',')\n",
    "        index_list = [int(x) for x in index_list]\n",
    "        energy, info_list = eval_energy(index_list, peak_list, residue_list, 200.)\n",
    "        avg_end_nrg.append(energy)\n",
    "\n",
    "\n",
    "\n",
    "print('median end nrg:{}'.format(st.median(avg_end_nrg)), 'mean end energy:{}'.format(st.mean(avg_end_nrg)))\n",
    "print('Q1 end nrg: {}'.format(np.percentile(avg_end_nrg, 25)))"
   ]
  },
  {
   "cell_type": "code",
   "execution_count": 22,
   "metadata": {},
   "outputs": [
    {
     "name": "stdout",
     "output_type": "stream",
     "text": [
      "15\n"
     ]
    }
   ],
   "source": [
    "c = 0 \n",
    "for i in avg_end_nrg: \n",
    "    if i < 66000 and i > 54000: \n",
    "        c += 1\n",
    "print(c)"
   ]
  },
  {
   "cell_type": "code",
   "execution_count": 34,
   "metadata": {},
   "outputs": [
    {
     "name": "stdout",
     "output_type": "stream",
     "text": [
      "[11, 12, 13, 3, 4, 2, 0, 1, 5, 6, 7, 8, 9, 10]\n[8, 9, 10, 11, 12, 13, 3, 4, 5, 6, 7, 0, 1, 2]\n[2, 0, 1, 11, 12, 13, 3, 4, 5, 6, 7, 8, 9, 10]\n[2, 4, 11, 12, 13, 3, 0, 1, 5, 6, 7, 8, 9, 10]\n[5, 9, 10, 11, 12, 13, 6, 7, 8, 0, 1, 2, 3, 4]\n[11, 12, 13, 3, 4, 5, 6, 7, 8, 9, 10, 0, 1, 2]\n[6, 5, 0, 1, 2, 3, 4, 7, 8, 9, 10, 11, 12, 13]\n[8, 9, 10, 11, 12, 13, 3, 4, 5, 6, 7, 0, 1, 2]\n[8, 9, 10, 11, 12, 13, 3, 4, 5, 6, 7, 0, 1, 2]\n[12, 13, 0, 3, 4, 2, 6, 7, 8, 9, 10, 11, 5, 1]\n[8, 9, 10, 11, 12, 13, 3, 4, 5, 6, 7, 0, 1, 2]\n[6, 7, 8, 3, 4, 5, 0, 1, 2, 9, 10, 11, 12, 13]\n[11, 12, 13, 3, 4, 5, 6, 7, 8, 9, 10, 0, 1, 2]\n[8, 9, 10, 11, 12, 13, 6, 7, 0, 3, 4, 5, 1, 2]\n[2, 4, 11, 12, 13, 3, 0, 1, 5, 6, 7, 8, 9, 10]\n[8, 9, 10, 11, 12, 13, 3, 4, 5, 6, 7, 0, 1, 2]\n[6, 7, 8, 3, 4, 5, 0, 1, 2, 9, 10, 11, 12, 13]\n[12, 13, 0, 3, 4, 2, 1, 7, 8, 9, 10, 11, 5, 6]\n[2, 9, 10, 11, 12, 13, 0, 1, 5, 6, 7, 8, 3, 4]\n[6, 7, 0, 3, 4, 5, 1, 2, 8, 9, 10, 11, 12, 13]\n[2, 0, 1, 11, 12, 13, 3, 4, 5, 6, 7, 8, 9, 10]\n[8, 9, 10, 11, 12, 13, 3, 4, 5, 6, 7, 0, 1, 2]\n[8, 9, 10, 11, 12, 13, 3, 4, 5, 6, 7, 0, 1, 2]\n[8, 9, 10, 11, 12, 13, 3, 4, 5, 6, 7, 0, 1, 2]\n[11, 12, 13, 0, 1, 2, 3, 4, 5, 6, 7, 8, 9, 10]\n[8, 9, 10, 11, 12, 13, 6, 7, 0, 3, 4, 5, 1, 2]\n[6, 7, 0, 3, 4, 5, 1, 2, 8, 9, 10, 11, 12, 13]\n[6, 7, 8, 3, 4, 5, 0, 1, 2, 9, 10, 11, 12, 13]\n[8, 9, 10, 11, 12, 13, 6, 7, 0, 3, 4, 5, 1, 2]\n[5, 9, 10, 11, 12, 13, 6, 7, 8, 0, 1, 2, 3, 4]\n[8, 9, 10, 11, 12, 13, 3, 4, 5, 6, 7, 0, 1, 2]\n[2, 0, 1, 11, 12, 13, 3, 4, 5, 6, 7, 8, 9, 10]\n[8, 9, 10, 11, 12, 13, 3, 4, 5, 6, 7, 0, 1, 2]\n[6, 7, 0, 3, 4, 5, 1, 2, 8, 9, 10, 11, 12, 13]\n"
     ]
    }
   ],
   "source": [
    "fh = open('mmals/V3.2 1e7 results.txt')\n",
    "fl = open('mmals/V3.2 results.txt')\n",
    "\n",
    "super_index_list = []\n",
    "for line in fh.readlines(): \n",
    "    if len(line) < 5: \n",
    "        continue\n",
    "    elif line[1] == 'n':\n",
    "        i = line.index(':')\n",
    "        index_list = line[i+3:-2]\n",
    "        index_list = index_list.split(',')\n",
    "        index_list = [int(x) for x in index_list]\n",
    "        energy, info_list = eval_energy(index_list, peak_list, residue_list, 200.)\n",
    "        if 50000 < energy < 70000: \n",
    "            print(index_list)\n",
    "            super_index_list.append(index_list)\n",
    "            \n",
    "\n",
    "for line in fl.readlines(): \n",
    "    if len(line) < 5: \n",
    "        continue\n",
    "    elif line[1] == 'n':\n",
    "        i = line.index(':')\n",
    "        index_list = line[i+3:-2]\n",
    "        index_list = index_list.split(',')\n",
    "        index_list = [int(x) for x in index_list]\n",
    "        energy, info_list = eval_energy(index_list, peak_list, residue_list, 200.)\n",
    "        if 50000 < energy < 70000:\n",
    "            print(index_list)\n",
    "            super_index_list.append(index_list)"
   ]
  },
  {
   "cell_type": "code",
   "execution_count": 43,
   "metadata": {},
   "outputs": [
    {
     "name": "stdout",
     "output_type": "stream",
     "text": [
      "[2, 0, 1, 11, 12, 13, 3, 4, 5, 6, 7, 8, 9, 10]\n[2, 0, 1, 11, 12, 13, 3, 4, 5, 6, 7, 8, 9, 10]\n[2, 0, 1, 11, 12, 13, 3, 4, 5, 6, 7, 8, 9, 10]\n[2, 4, 11, 12, 13, 3, 0, 1, 5, 6, 7, 8, 9, 10]\n[2, 4, 11, 12, 13, 3, 0, 1, 5, 6, 7, 8, 9, 10]\n"
     ]
    },
    {
     "name": "stdout",
     "output_type": "stream",
     "text": [
      "[2, 9, 10, 11, 12, 13, 0, 1, 5, 6, 7, 8, 3, 4]\n"
     ]
    },
    {
     "name": "stdout",
     "output_type": "stream",
     "text": [
      "[5, 9, 10, 11, 12, 13, 6, 7, 8, 0, 1, 2, 3, 4]\n[5, 9, 10, 11, 12, 13, 6, 7, 8, 0, 1, 2, 3, 4]\n"
     ]
    },
    {
     "name": "stdout",
     "output_type": "stream",
     "text": [
      "[6, 5, 0, 1, 2, 3, 4, 7, 8, 9, 10, 11, 12, 13]\n[6, 7, 8, 3, 4, 5, 0, 1, 2, 9, 10, 11, 12, 13]\n[6, 7, 8, 3, 4, 5, 0, 1, 2, 9, 10, 11, 12, 13]\n[6, 7, 8, 3, 4, 5, 0, 1, 2, 9, 10, 11, 12, 13]\n[6, 7, 0, 3, 4, 5, 1, 2, 8, 9, 10, 11, 12, 13]\n[6, 7, 0, 3, 4, 5, 1, 2, 8, 9, 10, 11, 12, 13]\n[6, 7, 0, 3, 4, 5, 1, 2, 8, 9, 10, 11, 12, 13]\n"
     ]
    },
    {
     "name": "stdout",
     "output_type": "stream",
     "text": [
      "[8, 9, 10, 11, 12, 13, 3, 4, 5, 6, 7, 0, 1, 2]\n[8, 9, 10, 11, 12, 13, 3, 4, 5, 6, 7, 0, 1, 2]\n[8, 9, 10, 11, 12, 13, 3, 4, 5, 6, 7, 0, 1, 2]\n[8, 9, 10, 11, 12, 13, 3, 4, 5, 6, 7, 0, 1, 2]\n[8, 9, 10, 11, 12, 13, 3, 4, 5, 6, 7, 0, 1, 2]\n[8, 9, 10, 11, 12, 13, 3, 4, 5, 6, 7, 0, 1, 2]\n[8, 9, 10, 11, 12, 13, 3, 4, 5, 6, 7, 0, 1, 2]\n[8, 9, 10, 11, 12, 13, 3, 4, 5, 6, 7, 0, 1, 2]\n[8, 9, 10, 11, 12, 13, 3, 4, 5, 6, 7, 0, 1, 2]\n[8, 9, 10, 11, 12, 13, 3, 4, 5, 6, 7, 0, 1, 2]\n[8, 9, 10, 11, 12, 13, 6, 7, 0, 3, 4, 5, 1, 2]\n[8, 9, 10, 11, 12, 13, 6, 7, 0, 3, 4, 5, 1, 2]\n[8, 9, 10, 11, 12, 13, 6, 7, 0, 3, 4, 5, 1, 2]\n"
     ]
    },
    {
     "name": "stdout",
     "output_type": "stream",
     "text": [
      "[11, 12, 13, 3, 4, 2, 0, 1, 5, 6, 7, 8, 9, 10]\n[11, 12, 13, 0, 1, 2, 3, 4, 5, 6, 7, 8, 9, 10]\n[11, 12, 13, 3, 4, 5, 6, 7, 8, 9, 10, 0, 1, 2]\n[11, 12, 13, 3, 4, 5, 6, 7, 8, 9, 10, 0, 1, 2]\n"
     ]
    },
    {
     "name": "stdout",
     "output_type": "stream",
     "text": [
      "[12, 13, 0, 3, 4, 2, 6, 7, 8, 9, 10, 11, 5, 1]\n[12, 13, 0, 3, 4, 2, 1, 7, 8, 9, 10, 11, 5, 6]\n"
     ]
    }
   ],
   "source": [
    "fh = open('mmals/random_file.txt', 'w+')\n",
    "for i in range(14): \n",
    "    for j in range(14):\n",
    "        for k in range(14):\n",
    "            for l in range(14):\n",
    "                for m in range(14):\n",
    "                    for list in super_index_list: \n",
    "                        if list[0] == i and list[1] == j and list[5] == k \\\n",
    "                                and list[7] == l and list[13] == m: \n",
    "                            print(list)\n",
    "                            fh.write(str(list) + '\\n')\n",
    "fh.close()"
   ]
  },
  {
   "cell_type": "code",
   "execution_count": 46,
   "metadata": {},
   "outputs": [
    {
     "data": {
      "text/plain": [
       "['[2, 0, 1, 11, 12, 13, 3, 4, 5, 6, 7, 8, 9, 10]',\n '[2, 4, 11, 12, 13, 3, 0, 1, 5, 6, 7, 8, 9, 10]',\n '[2, 9, 10, 11, 12, 13, 0, 1, 5, 6, 7, 8, 3, 4]',\n '[5, 9, 10, 11, 12, 13, 6, 7, 8, 0, 1, 2, 3, 4]',\n '[6, 5, 0, 1, 2, 3, 4, 7, 8, 9, 10, 11, 12, 13]',\n '[6, 7, 8, 3, 4, 5, 0, 1, 2, 9, 10, 11, 12, 13]',\n '[6, 7, 0, 3, 4, 5, 1, 2, 8, 9, 10, 11, 12, 13]',\n '[8, 9, 10, 11, 12, 13, 3, 4, 5, 6, 7, 0, 1, 2]',\n '[8, 9, 10, 11, 12, 13, 6, 7, 0, 3, 4, 5, 1, 2]',\n '[11, 12, 13, 3, 4, 2, 0, 1, 5, 6, 7, 8, 9, 10]',\n '[11, 12, 13, 0, 1, 2, 3, 4, 5, 6, 7, 8, 9, 10]',\n '[11, 12, 13, 3, 4, 5, 6, 7, 8, 9, 10, 0, 1, 2]',\n '[12, 13, 0, 3, 4, 2, 6, 7, 8, 9, 10, 11, 5, 1]',\n '[12, 13, 0, 3, 4, 2, 1, 7, 8, 9, 10, 11, 5, 6]']"
      ]
     },
     "execution_count": 46,
     "metadata": {},
     "output_type": "execute_result"
    }
   ],
   "source": [
    "fh = open('mmals/random_file.txt', 'r')\n",
    "c = 0\n",
    "super_index_list_nr = []\n",
    "for line in fh.readlines():\n",
    "    c += 1 \n",
    "    if c == 1: \n",
    "        prev_line = line\n",
    "        super_index_list_nr.append(line[:-1])\n",
    "    else: \n",
    "        if prev_line == line: \n",
    "            prev_line = line \n",
    "        else: \n",
    "            super_index_list_nr.append(line[:-1])\n",
    "            prev_line = line \n",
    "super_index_list_nr"
   ]
  },
  {
   "cell_type": "code",
   "execution_count": null,
   "metadata": {},
   "outputs": [],
   "source": [
    ""
   ]
  }
 ],
 "metadata": {
  "kernelspec": {
   "display_name": "Python 2",
   "language": "python",
   "name": "python2"
  },
  "language_info": {
   "codemirror_mode": {
    "name": "ipython",
    "version": 2
   },
   "file_extension": ".py",
   "mimetype": "text/x-python",
   "name": "python",
   "nbconvert_exporter": "python",
   "pygments_lexer": "ipython2",
   "version": "2.7.6"
  }
 },
 "nbformat": 4,
 "nbformat_minor": 0
}
