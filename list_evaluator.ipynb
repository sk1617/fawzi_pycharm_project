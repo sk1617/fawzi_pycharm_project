{
 "cells": [
  {
   "cell_type": "code",
   "execution_count": 18,
   "metadata": {
    "collapsed": true
   },
   "outputs": [
    {
     "name": "stdout",
     "output_type": "stream",
     "text": [
      "  set_iterations    time_taken completed_iterations     final_temp  \\\n0      900000000  55733.223443            900000000     159.267911   \n1      900000000  57654.434814            900000000     159.267911   \n2      900000000  56867.216628            900000000     159.267911   \n3      900000000   1944.742764             29947115  656100.000000   \n4      900000000  62962.210565            900000000     159.267911   \n\n                                       og_index_list     og_energy  \\\n0  [109, 111, 463, 200, 56, 144, 456, 289, 307, 2...  8.630539e+07   \n1  [340, 411, 384, 90, 288, 44, 425, 2, 334, 178,...  1.202441e+08   \n2  [73, 405, 145, 63, 463, 13, 300, 111, 377, 276...  1.080344e+08   \n3  [254, 247, 136, 233, 332, 388, 127, 164, 380, ...  1.059793e+08   \n4  [9, 182, 469, 217, 173, 428, 265, 353, 113, 33...  1.501029e+08   \n\n                                          index_list  final_energy  \n0  [116, 282, 452, 72, 67, 436, 447, 199, 206, 41...  1.647113e+06  \n1  [116, 80, 257, 216, 93, 218, 396, 382, 206, 34...  1.643817e+06  \n2  [234, 205, 68, 427, 27, 236, 382, 424, 206, 40...  1.677996e+06  \n3  [164, 123, 400, 339, 167, 41, 195, 222, 344, 1...  3.956569e+07  \n4  [234, 250, 17, 184, 227, 30, 428, 76, 107, 458...  1.658283e+06  \n"
     ]
    }
   ],
   "source": [
    "import glob\n",
    "import pandas as pd\n",
    "import numpy as np\n",
    "import statistics as st\n",
    "import matplotlib.pyplot as plt\n",
    "import re\n",
    "from DataProcessing import *\n",
    "from DataImporting import sequence_list\n",
    "from venditti_data_importer import venditti_assignment\n",
    "peak_list, residue_list = main_data_processing()\n",
    "\n",
    "acceptance_threshold = .20\n",
    "should_print_unassigned_lists = False\n",
    "should_print_peak_data = True\n",
    "should_export_to_excel = True\n",
    "should_take_best_10 = False\n",
    "\n",
    "\n",
    "# if you want to analyze multiple test conditions, add them here.\n",
    "for random_index in range(1):\n",
    "    # DATA INGESTION\n",
    "    time_taken_list = list()\n",
    "    final_energy_list = list()\n",
    "    filename_list = list()\n",
    "    count_of_assignments = 0\n",
    "\n",
    "    # glob.glob returns a list of paths that match filename NAME.\n",
    "    # add all files for each test condition\n",
    "\n",
    "    # NAME = [\"Slurm Trials/slurm-4102660_{}.out\".format(str(x)) for x in range(1, 17)] + \\\n",
    "    #        [\"Slurm Trials/slurm-4109433_{}.out\".format(str(x)) for x in range(17, 201)] + \\\n",
    "    #        [\"Slurm Trials/slurm-9199622_{}.out\".format(str(x)) for x in range(1, 81)]\n",
    "\n",
    "    NAME = [\"40:30.out\", \"40:30_2.out\"]\n",
    "\n",
    "\n",
    "\n",
    "    set_iterations, initial_temperature, exponent, eif = None, None, None, None\n",
    "    time_taken, completed_iterations, final_temp, og_index_list, og_energy, index_list, final_energy = \\\n",
    "        None, None, None, None, None, None, None\n",
    "\n",
    "    initial_data = pd.DataFrame(columns=['set_iterations', 'time_taken', 'completed_iterations', 'final_temp',\n",
    "                                         'og_index_list', 'og_energy', 'index_list', 'final_energy'])\n",
    "\n",
    "    for filename_str in NAME:\n",
    "        # imports each file\n",
    "        # filename = [i[0] for i in glob.glob(filename_str)]\n",
    "        file = open(filename_str, 'r')\n",
    "        filename_list.append(filename_str)\n",
    "\n",
    "        for line in file.readlines():\n",
    "            if \"Done\" in line:\n",
    "                count_of_assignments += 1\n",
    "                df_temp = pd.DataFrame([[set_iterations, time_taken, completed_iterations,\n",
    "                                         final_temp, og_index_list, og_energy,\n",
    "                                         index_list, final_energy]],\n",
    "                                       columns=['set_iterations', 'time_taken', 'completed_iterations',\n",
    "                                                'final_temp', 'og_index_list', 'og_energy',\n",
    "                                                'index_list', 'final_energy'])\n",
    "                initial_data = initial_data.append(df_temp, ignore_index=True)\n",
    "\n",
    "                set_iterations, initial_temperature, exponent, eif = None, None, None, None\n",
    "                time_taken, completed_iterations, final_temp, og_index_list, og_energy, index_list, final_energy = \\\n",
    "                    None, None, None, None, None, None, None\n",
    "\n",
    "            elif 'exponent:' in line:\n",
    "                set_iterations = int(re.search(r\" \\d* \", line)[0][1:-1])\n",
    "            elif 'time taken (sec)' in line:\n",
    "                time_taken = float(re.search(r\"\\d*\\.\\d*\", line)[0])\n",
    "                time_taken_list.append(time_taken)\n",
    "            elif 'number of iterations' in line:\n",
    "                completed_iterations = int(re.search(r\"[0-9].*\", line)[0])\n",
    "            elif 'final temperature' in line:\n",
    "                final_temp = float(re.search(r\"\\d*\\.\\d*\", line)[0])\n",
    "                final_energy_list.append(final_temp)\n",
    "            elif 'og index list:' in line:\n",
    "                og_index_list = list()\n",
    "                [og_index_list.append(int(x)) for x in line[line.index('[') + 1:line.index(']')].split(', ')]\n",
    "            elif 'og index list energy:' in line:\n",
    "                og_energy = float(re.search(r\"\\d*\\.\\d*\", line)[0])\n",
    "            elif 'index list:' in line:\n",
    "                index_list = list()\n",
    "                [index_list.append(int(x)) for x in line[line.index('[') + 1:line.index(']')].split(', ')]\n",
    "            elif 'index list energy:' in line:\n",
    "                final_energy = float(re.search(r\"\\d*\\.\\d*\", line)[0])\n",
    "\n",
    "    print(initial_data.head())\n",
    "        # print(time_taken, completed_iterations, final_temp, og_index_list, og_energy, index_list, final_energy)"
   ]
  },
  {
   "cell_type": "code",
   "execution_count": 19,
   "metadata": {},
   "outputs": [
    {
     "name": "stdout",
     "output_type": "stream",
     "text": [
      "  set_iterations    time_taken completed_iterations     final_temp  \\\n0      900000000  55733.223443            900000000     159.267911   \n1      900000000  57654.434814            900000000     159.267911   \n2      900000000  56867.216628            900000000     159.267911   \n3      900000000   1944.742764             29947115  656100.000000   \n4      900000000  62962.210565            900000000     159.267911   \n\n                                       og_index_list     og_energy  \\\n0  [109, 111, 463, 200, 56, 144, 456, 289, 307, 2...  8.630539e+07   \n1  [340, 411, 384, 90, 288, 44, 425, 2, 334, 178,...  1.202441e+08   \n2  [73, 405, 145, 63, 463, 13, 300, 111, 377, 276...  1.080344e+08   \n3  [254, 247, 136, 233, 332, 388, 127, 164, 380, ...  1.059793e+08   \n4  [9, 182, 469, 217, 173, 428, 265, 353, 113, 33...  1.501029e+08   \n\n                                          index_list  final_energy  \n0  [116, 282, 452, 72, 67, 436, 447, 199, 206, 41...  1.647113e+06  \n1  [116, 80, 257, 216, 93, 218, 396, 382, 206, 34...  1.643817e+06  \n2  [234, 205, 68, 427, 27, 236, 382, 424, 206, 40...  1.677996e+06  \n3  [164, 123, 400, 339, 167, 41, 195, 222, 344, 1...  3.956569e+07  \n4  [234, 250, 17, 184, 227, 30, 428, 76, 107, 458...  1.658283e+06  \n"
     ]
    }
   ],
   "source": [
    "print(initial_data.head())"
   ]
  },
  {
   "cell_type": "code",
   "execution_count": 20,
   "metadata": {},
   "outputs": [],
   "source": [
    "initial_data = initial_data.sort_values(by='final_energy')"
   ]
  },
  {
   "cell_type": "code",
   "execution_count": 21,
   "metadata": {},
   "outputs": [
    {
     "name": "stdout",
     "output_type": "stream",
     "text": [
      "  set_iterations    time_taken completed_iterations  final_temp  \\\n1      900000000  57654.434814            900000000  159.267911   \n0      900000000  55733.223443            900000000  159.267911   \n4      900000000  62962.210565            900000000  159.267911   \n2      900000000  56867.216628            900000000  159.267911   \n5      900000000  59122.481962            900000000  159.267911   \n\n                                       og_index_list     og_energy  \\\n1  [340, 411, 384, 90, 288, 44, 425, 2, 334, 178,...  1.202441e+08   \n0  [109, 111, 463, 200, 56, 144, 456, 289, 307, 2...  8.630539e+07   \n4  [9, 182, 469, 217, 173, 428, 265, 353, 113, 33...  1.501029e+08   \n2  [73, 405, 145, 63, 463, 13, 300, 111, 377, 276...  1.080344e+08   \n5  [216, 349, 282, 386, 438, 192, 324, 108, 335, ...  1.079082e+08   \n\n                                          index_list  final_energy  \n1  [116, 80, 257, 216, 93, 218, 396, 382, 206, 34...  1.643817e+06  \n0  [116, 282, 452, 72, 67, 436, 447, 199, 206, 41...  1.647113e+06  \n4  [234, 250, 17, 184, 227, 30, 428, 76, 107, 458...  1.658283e+06  \n2  [234, 205, 68, 427, 27, 236, 382, 424, 206, 40...  1.677996e+06  \n5  [234, 205, 235, 301, 227, 30, 473, 76, 107, 13...  1.691811e+06  \n"
     ]
    }
   ],
   "source": [
    "print(initial_data.iloc[0:5])"
   ]
  },
  {
   "cell_type": "code",
   "execution_count": 22,
   "metadata": {},
   "outputs": [
    {
     "name": "stdout",
     "output_type": "stream",
     "text": [
      "1    [116, 80, 257, 216, 93, 218, 396, 382, 206, 34...\n0    [116, 282, 452, 72, 67, 436, 447, 199, 206, 41...\n4    [234, 250, 17, 184, 227, 30, 428, 76, 107, 458...\n2    [234, 205, 68, 427, 27, 236, 382, 424, 206, 40...\n5    [234, 205, 235, 301, 227, 30, 473, 76, 107, 13...\n6    [170, 205, 292, 315, 238, 112, 412, 70, 80, 13...\n3    [164, 123, 400, 339, 167, 41, 195, 222, 344, 1...\nName: index_list, dtype: object\n"
     ]
    }
   ],
   "source": [
    "print(initial_data.iloc[0:10]['index_list'])"
   ]
  },
  {
   "cell_type": "code",
   "execution_count": 23,
   "metadata": {
    "collapsed": true
   },
   "outputs": [
    {
     "name": "stdout",
     "output_type": "stream",
     "text": [
      "[[116, 80, 257, 216, 93, 218, 396, 382, 206, 340, 20, 413, 19, 25, 352, 29, 48, 67, 447, 147, 249, 33, 452, 37, 337, 427, 168, 321, 324, 43, 469, 173, 119, 407, 155, 292, 388, 124, 87, 63, 88, 342, 109, 108, 360, 296, 157, 359, 30, 153, 55, 34, 97, 416, 314, 281, 239, 50, 448, 6, 345, 205, 195, 203, 170, 442, 243, 470, 115, 330, 104, 164, 169, 372, 199, 441, 54, 69, 111, 423, 260, 350, 307, 26, 362, 106, 75, 311, 24, 259, 180, 254, 268, 315, 335, 272, 298, 373, 64, 279, 367, 229, 118, 117, 411, 208, 344, 5, 451, 171, 263, 434, 219, 176, 35, 15, 472, 209, 393, 431, 172, 446, 94, 240, 450, 233, 83, 363, 143, 167, 297, 398, 127, 133, 454, 38, 303, 313, 193, 114, 343, 56, 148, 356, 325, 204, 188, 460, 187, 291, 338, 32, 2, 462, 49, 179, 312, 57, 162, 405, 432, 377, 228, 331, 334, 461, 456, 42, 65, 346, 387, 201, 9, 436, 419, 189, 192, 21, 395, 214, 28, 308, 58, 96, 211, 0, 444, 202, 68, 52, 91, 90, 181, 142, 369, 392, 381, 4, 191, 364, 294, 44, 322, 12, 105, 376, 59, 82, 354, 241, 394, 473, 409, 445, 76, 234, 14, 251, 8, 449, 245, 283, 101, 327, 223, 329, 236, 230, 46, 332, 410, 100, 384, 185, 85, 316, 455, 256, 391, 23, 397, 186, 328, 333, 471, 131, 120, 217, 403, 129, 156, 282, 134, 310, 139, 368, 198, 235, 130, 458, 165, 406, 371, 207, 200, 210, 426, 102, 417, 27, 79, 89, 60, 429, 404, 62, 467, 36, 465, 13, 78, 255, 18, 244, 415, 430, 194, 196, 197, 190, 351, 128, 237, 374, 31, 40, 215, 275, 418, 16, 146, 357, 151, 224, 252, 400, 383, 107, 132, 227, 301, 288, 53, 399, 408, 248, 144, 232, 10, 437, 300, 226, 41, 425, 302, 81, 126, 160, 428, 336, 98, 289, 349, 290, 304, 178, 361, 421, 378, 385, 135, 145, 161, 466, 231, 152, 463, 95, 141, 348, 468, 158, 464, 47, 443, 339, 274, 22, 402, 174, 433, 99, 278, 270, 424, 262, 39, 86, 183, 269, 347, 286, 84, 414, 221, 440, 175, 323, 295, 420, 177, 355, 250, 276, 390, 182, 341, 11, 258, 66, 149, 92, 123, 166, 125, 317, 163, 287, 265, 212, 353, 121, 154, 401, 225, 375, 285, 365, 320, 319, 438, 273, 386, 318, 358, 3, 439, 77, 61, 138, 150, 389, 70, 136, 112, 238, 453, 266, 277, 435, 366, 293, 74, 299, 220, 103, 140, 71, 159, 17, 184, 412, 271, 1, 113, 280, 380, 264, 305, 45, 73, 306, 246, 253, 309, 110, 7, 422, 222, 261, 457, 247, 267, 370, 72, 137, 379, 51, 242, 459, 213, 284, 326, 122]]\n"
     ]
    }
   ],
   "source": [
    "best_list = list()\n",
    "for i in range(1):\n",
    "    best_list.append(list(initial_data.iloc[0]['index_list']))\n",
    "print(best_list)"
   ]
  },
  {
   "cell_type": "code",
   "execution_count": 24,
   "metadata": {
    "collapsed": true
   },
   "outputs": [
    {
     "name": "stdout",
     "output_type": "stream",
     "text": [
      "  residue number amino acid        N      H      CA CAPrime      CB CBPrime\n0              1          T  122.329  8.622   60.33  49.504    None  63.778\n1              2          P  124.950  8.669    None  59.305    None  57.487\n2              3          K  118.145  7.480  58.599  65.716  57.822    None\n3              4          D  122.497  7.587    None  58.724    None  59.062\n4              5          D  122.893  8.752   54.95  56.258  53.153  54.189\n"
     ]
    }
   ],
   "source": [
    "for j, index_list in enumerate(best_list):\n",
    "    data = pd.DataFrame(columns=['residue number', 'amino acid', 'N', 'H', 'CA', 'CAPrime', 'CB', 'CBPrime', ])\n",
    "    for i, pai in enumerate(index_list):\n",
    "        residue_number = i + 1\n",
    "        amino_acid = sequence_list[i]\n",
    "    \n",
    "        peak = peak_list[pai]\n",
    "        assert pai == peak.get_data('peakNumber')\n",
    "        n_shift = peak.get_data('TROSYNShift')\n",
    "        h_shift = peak.get_data('TROSYHShift')\n",
    "        ca_shift = peak.get_data('CAShift')\n",
    "        ca_prime_shift = peak.get_data('CAPrimeShift')\n",
    "        cb_shift = peak.get_data('CBShift')\n",
    "        cb_prime_shift = peak.get_data('CBPrimeShift')\n",
    "    \n",
    "    \n",
    "        temp_df = pd.DataFrame([[residue_number, amino_acid,\n",
    "                                 n_shift, h_shift, ca_shift, ca_prime_shift, cb_shift, cb_prime_shift]],\n",
    "                               \n",
    "                               columns=['residue number', 'amino acid', \n",
    "                                        'N', 'H', 'CA', 'CAPrime', 'CB', 'CBPrime', ])\n",
    "        data = data.append(temp_df, ignore_index=True)\n",
    "    print(data.head())\n",
    "    data.to_csv('/Volumes/Transcend/Fawzi_pycharm_project/data_{}.csv'.format('40:30'))"
   ]
  },
  {
   "cell_type": "code",
   "execution_count": 40,
   "metadata": {},
   "outputs": [],
   "source": [
    ""
   ]
  },
  {
   "cell_type": "code",
   "execution_count": 46,
   "metadata": {},
   "outputs": [
    {
     "data": {
      "text/plain": [
       "3303    [234, 205, 257, 216, 322, 227, 457, 76, 107, 3...\nName: index_list, dtype: object"
      ]
     },
     "execution_count": 46,
     "metadata": {},
     "output_type": "execute_result"
    }
   ],
   "source": [
    ""
   ]
  },
  {
   "cell_type": "code",
   "execution_count": null,
   "metadata": {},
   "outputs": [],
   "source": []
  }
 ],
 "metadata": {
  "kernelspec": {
   "display_name": "Python 2",
   "language": "python",
   "name": "python2"
  },
  "language_info": {
   "codemirror_mode": {
    "name": "ipython",
    "version": 2
   },
   "file_extension": ".py",
   "mimetype": "text/x-python",
   "name": "python",
   "nbconvert_exporter": "python",
   "pygments_lexer": "ipython2",
   "version": "2.7.6"
  }
 },
 "nbformat": 4,
 "nbformat_minor": 0
}
