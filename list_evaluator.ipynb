{
 "cells": [
  {
   "cell_type": "code",
   "execution_count": 3,
   "metadata": {
    "collapsed": true
   },
   "outputs": [
    {
     "name": "stdout",
     "output_type": "stream",
     "text": [
      "  set_iterations    time_taken completed_iterations  final_temp  \\\n",
      "0       10000000  58226.645832             10000000  159.267911   \n",
      "1       10000000  56806.471922             10000000  159.267911   \n",
      "2       10000000  57242.826397             10000000  159.267911   \n",
      "3       10000000  55453.907867             10000000  159.267911   \n",
      "4       10000000  58011.820893             10000000  159.267911   \n",
      "\n",
      "                                       og_index_list     og_energy  \\\n",
      "0  [472, 106, 68, 459, 376, 137, 41, 83, 130, 414...  3.852361e+08   \n",
      "1  [297, 421, 86, 219, 241, 39, 383, 401, 255, 23...  3.888135e+08   \n",
      "2  [3, 151, 398, 29, 216, 199, 190, 368, 208, 331...  3.658038e+08   \n",
      "3  [60, 107, 323, 401, 338, 41, 111, 372, 435, 31...  3.510341e+08   \n",
      "4  [227, 182, 197, 364, 424, 103, 104, 148, 194, ...  3.966488e+08   \n",
      "\n",
      "                                          index_list  final_energy  \n",
      "0  [38, 117, 413, 220, 123, 390, 247, 380, 266, 3...  2.464433e+07  \n",
      "1  [163, 274, 223, 185, 8, 306, 206, 281, 385, 20...  1.602512e+07  \n",
      "2  [367, 186, 26, 327, 140, 142, 232, 23, 74, 231...  3.814277e+07  \n",
      "3  [395, 5, 149, 152, 102, 266, 426, 130, 39, 348...  3.054045e+07  \n",
      "4  [62, 338, 23, 352, 175, 7, 447, 236, 95, 205, ...  2.515890e+07  \n"
     ]
    }
   ],
   "source": [
    "import glob\n",
    "import pandas as pd\n",
    "import numpy as np\n",
    "import statistics as st\n",
    "import matplotlib.pyplot as plt\n",
    "import re\n",
    "from DataProcessing import *\n",
    "from DataImporting import sequence_list\n",
    "from venditti_data_importer import venditti_assignment\n",
    "peak_list, residue_list = main_data_processing()\n",
    "\n",
    "acceptance_threshold = .20\n",
    "should_print_unassigned_lists = False\n",
    "should_print_peak_data = False\n",
    "should_export_to_excel = False\n",
    "should_take_best_10 = False\n",
    "\n",
    "\n",
    "# if you want to analyze multiple test conditions, add them here.\n",
    "for random_index in range(1):\n",
    "    # DATA INGESTION\n",
    "    time_taken_list = list()\n",
    "    final_energy_list = list()\n",
    "    filename_list = list()\n",
    "    count_of_assignments = 0\n",
    "\n",
    "    # glob.glob returns a list of paths that match filename NAME.\n",
    "    # add all files for each test condition\n",
    "\n",
    "    NAME = [\"mmals/slurm-test_{}.out\".format(str(x)) for x in range(0, 201)]\n",
    "\n",
    "    # NAME = [\"40:30.out\", \"40:30_2.out\"]\n",
    "\n",
    "\n",
    "\n",
    "    set_iterations, initial_temperature, exponent, eif = None, None, None, None\n",
    "    time_taken, completed_iterations, final_temp, og_index_list, og_energy, index_list, final_energy = \\\n",
    "        None, None, None, None, None, None, None\n",
    "\n",
    "    initial_data = pd.DataFrame(columns=['set_iterations', 'time_taken', 'completed_iterations', 'final_temp',\n",
    "                                         'og_index_list', 'og_energy', 'index_list', 'final_energy'])\n",
    "\n",
    "    for filename_str in NAME:\n",
    "        # imports each file\n",
    "        # filename = [i[0] for i in glob.glob(filename_str)]\n",
    "        file = open(filename_str, 'r')\n",
    "        filename_list.append(filename_str)\n",
    "\n",
    "        for line in file.readlines():\n",
    "            if \"Done\" in line:\n",
    "                count_of_assignments += 1\n",
    "                df_temp = pd.DataFrame([[set_iterations, time_taken, completed_iterations,\n",
    "                                         final_temp, og_index_list, og_energy,\n",
    "                                         index_list, final_energy]],\n",
    "                                       columns=['set_iterations', 'time_taken', 'completed_iterations',\n",
    "                                                'final_temp', 'og_index_list', 'og_energy',\n",
    "                                                'index_list', 'final_energy'])\n",
    "                initial_data = initial_data.append(df_temp, ignore_index=True)\n",
    "\n",
    "                set_iterations, initial_temperature, exponent, eif = None, None, None, None\n",
    "                time_taken, completed_iterations, final_temp, og_index_list, og_energy, index_list, final_energy = \\\n",
    "                    None, None, None, None, None, None, None\n",
    "\n",
    "            elif 'exponent:' in line:\n",
    "                set_iterations = int(re.search(r\" \\d* \", line)[0][1:-1])\n",
    "            elif 'time taken (sec)' in line:\n",
    "                time_taken = float(re.search(r\"\\d*\\.\\d*\", line)[0])\n",
    "                time_taken_list.append(time_taken)\n",
    "            elif 'number of iterations' in line:\n",
    "                completed_iterations = int(re.search(r\"[0-9].*\", line)[0])\n",
    "            elif 'final temperature' in line:\n",
    "                final_temp = float(re.search(r\"\\d*\\.\\d*\", line)[0])\n",
    "                final_energy_list.append(final_temp)\n",
    "            elif 'og index list:' in line:\n",
    "                og_index_list = list()\n",
    "                [og_index_list.append(int(x)) for x in line[line.index('[') + 1:line.index(']')].split(', ')]\n",
    "            elif 'og index list energy:' in line:\n",
    "                og_energy = float(re.search(r\"\\d*\\.\\d*\", line)[0])\n",
    "            elif 'index list:' in line:\n",
    "                index_list = list()\n",
    "                [index_list.append(int(x)) for x in line[line.index('[') + 1:line.index(']')].split(', ')]\n",
    "            elif 'index list energy:' in line:\n",
    "                final_energy = float(re.search(r\"\\d*\\.\\d*\", line)[0])\n",
    "\n",
    "    print(initial_data.head())\n",
    "        # print(time_taken, completed_iterations, final_temp, og_index_list, og_energy, index_list, final_energy)"
   ]
  },
  {
   "cell_type": "code",
   "execution_count": 4,
   "metadata": {},
   "outputs": [],
   "source": [
    "initial_data = initial_data.sort_values(by='final_energy')"
   ]
  },
  {
   "cell_type": "code",
   "execution_count": 15,
   "metadata": {
    "collapsed": true
   },
   "outputs": [
    {
     "name": "stdout",
     "output_type": "stream",
     "text": [
      "    set_iterations    time_taken completed_iterations  final_temp  \\\n",
      "39        10000000  61095.846212             10000000  159.267911   \n",
      "282       10000000  56888.957061             10000000  159.267911   \n",
      "215       10000000  78987.200206             10000000  159.267911   \n",
      "171       10000000  60815.577435             10000000  159.267911   \n",
      "333       10000000  64124.222383             10000000  159.267911   \n",
      "29        10000000  58757.491641             10000000  159.267911   \n",
      "281       10000000  56065.297061             10000000  159.267911   \n",
      "164       10000000  66073.549968             10000000  159.267911   \n",
      "237       10000000  49685.558220             10000000  159.267911   \n",
      "69        10000000  54111.522001             10000000  159.267911   \n",
      "\n",
      "                                         og_index_list     og_energy  \\\n",
      "39   [207, 451, 356, 189, 138, 404, 310, 42, 316, 3...  3.804608e+08   \n",
      "282  [169, 318, 280, 297, 52, 156, 321, 439, 451, 2...  4.100192e+08   \n",
      "215  [276, 149, 255, 2, 415, 393, 249, 143, 464, 16...  3.939183e+08   \n",
      "171  [453, 84, 369, 349, 169, 408, 243, 229, 457, 3...  3.750602e+08   \n",
      "333  [72, 353, 318, 140, 315, 246, 390, 104, 300, 2...  4.066578e+08   \n",
      "29   [143, 445, 265, 463, 151, 409, 314, 386, 84, 3...  3.752907e+08   \n",
      "281  [30, 268, 142, 27, 18, 171, 325, 36, 360, 469,...  4.098689e+08   \n",
      "164  [19, 78, 280, 279, 270, 83, 256, 36, 92, 454, ...  3.947567e+08   \n",
      "237  [316, 371, 274, 183, 33, 232, 46, 75, 337, 113...  3.868210e+08   \n",
      "69   [414, 42, 372, 112, 189, 282, 335, 216, 52, 31...  3.763708e+08   \n",
      "\n",
      "                                            index_list  final_energy  \n",
      "39   [378, 415, 139, 313, 8, 423, 273, 380, 266, 26...  1.228873e+07  \n",
      "282  [367, 171, 5, 330, 285, 288, 144, 104, 56, 229...  1.283146e+07  \n",
      "215  [366, 171, 426, 207, 429, 40, 243, 380, 266, 3...  1.350034e+07  \n",
      "171  [163, 274, 31, 34, 285, 288, 144, 438, 279, 12...  1.365316e+07  \n",
      "333  [160, 274, 185, 148, 423, 387, 237, 236, 5, 46...  1.449850e+07  \n",
      "29   [238, 132, 431, 34, 285, 71, 237, 257, 82, 448...  1.465484e+07  \n",
      "281  [163, 436, 66, 74, 323, 288, 88, 283, 266, 54,...  1.504380e+07  \n",
      "164  [163, 181, 176, 87, 311, 210, 351, 291, 316, 1...  1.521648e+07  \n",
      "237  [151, 171, 66, 19, 49, 449, 237, 94, 23, 413, ...  1.529289e+07  \n",
      "69   [160, 365, 66, 284, 246, 376, 474, 102, 56, 5,...  1.529541e+07  \n"
     ]
    }
   ],
   "source": [
    "print(initial_data.iloc[0:10])\n",
    "best_list = initial_data.loc[39, 'index_list']"
   ]
  },
  {
   "cell_type": "code",
   "execution_count": 16,
   "metadata": {
    "collapsed": true
   },
   "outputs": [
    {
     "name": "stdout",
     "output_type": "stream",
     "text": [
      "  residue number amino acid       N      H     CA CAPrime     CB CBPrime\n",
      "0              1          S  116.13  7.278  43.32   65.84   None   15.91\n",
      "1              2          T     NaN    NaN    NaN     NaN   None     NaN\n",
      "2              3          P  116.23  8.450   54.3   50.84  30.22   71.03\n",
      "3              4          K  117.53  8.595   None    None   None    None\n",
      "4              5          D  124.63  6.969   53.5   61.35  39.98   33.95\n"
     ]
    }
   ],
   "source": [
    "for j, index_list in enumerate([best_list]):\n",
    "    data = pd.DataFrame(columns=['residue number', 'amino acid', 'N', 'H', 'CA', 'CAPrime', 'CB', 'CBPrime', ])\n",
    "    for i, pai in enumerate(index_list):\n",
    "        residue_number = i + 1\n",
    "        amino_acid = sequence_list[i]\n",
    "    \n",
    "        peak = peak_list[pai]\n",
    "        assert pai == peak.get_data('peakNumber')\n",
    "        n_shift = peak.get_data('TROSYNShift')\n",
    "        h_shift = peak.get_data('TROSYHShift')\n",
    "        ca_shift = peak.get_data('CAShift')\n",
    "        ca_prime_shift = peak.get_data('CAPrimeShift')\n",
    "        cb_shift = peak.get_data('CBShift')\n",
    "        cb_prime_shift = peak.get_data('CBPrimeShift')\n",
    "    \n",
    "    \n",
    "        temp_df = pd.DataFrame([[residue_number, amino_acid,\n",
    "                                 n_shift, h_shift, ca_shift, ca_prime_shift, cb_shift, cb_prime_shift]],\n",
    "                               \n",
    "                               columns=['residue number', 'amino acid', \n",
    "                                        'N', 'H', 'CA', 'CAPrime', 'CB', 'CBPrime', ])\n",
    "        data = data.append(temp_df, ignore_index=True)\n",
    "    print(data.head())\n",
    "    # data.to_csv('/Volumes/Transcend/Fawzi_pycharm_project/data_{}.csv'.format('40:30'))"
   ]
  },
  {
   "cell_type": "code",
   "execution_count": 17,
   "metadata": {
    "collapsed": false
   },
   "outputs": [
    {
     "name": "stdout",
     "output_type": "stream",
     "text": [
      "12288734.348090477\n",
      "12288734.348090477\n",
      "475\n"
     ]
    }
   ],
   "source": [
    "print(initial_data['final_energy'][39])\n",
    "index_list = initial_data['index_list'][39]\n",
    "print(eval_energy(index_list, peak_list, residue_list, energy_if_false)[0])\n",
    "print(len(residue_list))"
   ]
  },
  {
   "cell_type": "code",
   "execution_count": 20,
   "metadata": {
    "collapsed": true
   },
   "outputs": [
    {
     "name": "stdout",
     "output_type": "stream",
     "text": [
      "  residue number amino acid       N      H     CA CAPrime     CB CBPrime  \\\n",
      "0              1          S  116.13  7.278  43.32   65.84   None   15.91   \n",
      "1              2          T    None   None   None    None   None    None   \n",
      "2              3          P  116.23   8.45   54.3   50.84  30.22   71.03   \n",
      "3              4          K  117.53  8.595   None    None   None    None   \n",
      "4              5          D  124.63  6.969   53.5   61.35  39.98   33.95   \n",
      "\n",
      "   CACAPrime  CBCBPrime        CACBExp  CACBExpPrime        NOESY  \\\n",
      "0      300.0      300.0  142896.199976    300.000000   300.000000   \n",
      "1      300.0      300.0     600.000001    600.000001   300.000000   \n",
      "2      300.0      300.0  113231.080425  57506.646075   300.000000   \n",
      "3      300.0      300.0     600.000001    600.000001   300.000000   \n",
      "4      300.0      300.0     953.041171  17378.727812  2545.804001   \n",
      "\n",
      "  NOESYSubWeights NOESYDelH  \n",
      "0              []        []  \n",
      "1              []        []  \n",
      "2              []        []  \n",
      "3              []        []  \n",
      "4              []        []  \n"
     ]
    }
   ],
   "source": [
    "\n",
    "# for j, index_list in enumerate([index_list]):\n",
    "\n",
    "index_list = initial_data['index_list'][39]\n",
    "info_list = eval_energy(index_list, peak_list, residue_list, energy_if_false)[1]\n",
    "\n",
    "data = pd.DataFrame(columns=['residue number', 'amino acid', 'N', 'H', 'CA', 'CAPrime', 'CB', 'CBPrime', \n",
    "                             'CACAPrime', 'CBCBPrime', 'CACBExp', 'CACBExpPrime', 'NOESY', 'NOESYSubWeights', 'NOESYDelH'])\n",
    "for i, pai in enumerate(index_list):\n",
    "    residue_number = i + 1\n",
    "    amino_acid = sequence_list[i]\n",
    "\n",
    "    peak = peak_list[pai]\n",
    "    assert pai == peak.get_data('peakNumber')\n",
    "    n_shift = peak.get_data('TROSYNShift')\n",
    "    h_shift = peak.get_data('TROSYHShift')\n",
    "    ca_shift = peak.get_data('CAShift')\n",
    "    ca_prime_shift = peak.get_data('CAPrimeShift')\n",
    "    cb_shift = peak.get_data('CBShift')\n",
    "    cb_prime_shift = peak.get_data('CBPrimeShift')\n",
    "\n",
    "    ca_ca_prime, cb_cb_prime, ca_cb_exp, = energy_if_false, energy_if_false, energy_if_false\n",
    "    ca_cb_exp_prime, noesy_energy = energy_if_false, energy_if_false\n",
    "    noesy_subweights, noesy_del_h = [], []\n",
    "    \n",
    "    for k, line in enumerate(info_list): \n",
    "        if len(line) == 2: \n",
    "            if line[0] == i: \n",
    "                assert line[1] == pai\n",
    "                for l in range(1,6):\n",
    "                    if len(info_list[k + l]) == 2: \n",
    "                        break\n",
    "                    elif 'CACAPrime' == info_list[k + l][0]: \n",
    "                        ca_ca_prime = info_list[k + l][1]\n",
    "                    elif 'CBCBPrime' == info_list[k + l][0]: \n",
    "                        cb_cb_prime = info_list[k + l][1]\n",
    "                    elif 'CACBExp' == info_list[k + l][0]: \n",
    "                        ca_cb_exp = info_list[k + l][1]\n",
    "                    elif 'CACBExpPrime' == info_list[k + l][0]: \n",
    "                        ca_cb_exp_prime = info_list[k + l][1]\n",
    "                    elif 'NOESY' == info_list[k + l][0]: \n",
    "                        noesy_energy = info_list[k + l][1]\n",
    "                        noesy_subweights = info_list[k + l][2]\n",
    "                        noesy_del_h = info_list[k + l][3]\n",
    "                        \n",
    "    temp_df = pd.DataFrame([[residue_number, amino_acid, n_shift, h_shift, ca_shift, ca_prime_shift, cb_shift, cb_prime_shift,\n",
    "                             ca_ca_prime, cb_cb_prime, ca_cb_exp, ca_cb_exp_prime, noesy_energy, noesy_subweights, noesy_del_h]],\n",
    "                           columns=['residue number', 'amino acid', 'N', 'H', 'CA', 'CAPrime', 'CB', 'CBPrime', \n",
    "                                    'CACAPrime', 'CBCBPrime', 'CACBExp', 'CACBExpPrime', 'NOESY', 'NOESYSubWeights', 'NOESYDelH'])\n",
    "    data = data.append(temp_df, ignore_index=True)\n",
    "print(data.head())\n",
    "data.to_csv('/Volumes/Transcend/fawzi_pycharm_project/data_{}.csv'.format('sources_of_energy'))"
   ]
  },
  {
   "cell_type": "code",
   "execution_count": 32,
   "metadata": {
    "collapsed": true
   },
   "outputs": [
    {
     "name": "stdout",
     "output_type": "stream",
     "text": [
      "(0, 234)\n('CACAPrime', 0.3406829118599718, -0.05099999999999483)\n('CACBExp', 0.1, 2.0189999999999984, 0)\n(1, 205)\n('CACAPrime', 287.74914983999815, -2.0729999999999933)\n('CACBExp', 0.1, 0.11299999999999955, 0)\n('CACBExpPrime', 24.923547584994264, 2.069999999999993, 11.68)\n(2, 257)\n('CACAPrime', 1.3251352746394423, -0.125)\n('CBCBPrime', 102.03513599999917, -1.2399999999999949)\n('CACBExp', 1522.1399384338479, 2.198999999999998, 25.252000000000002)\n('CACBExpPrime', 15.2736832080237, 2.185999999999993, 0)\n('NOESY', 0.5103848139139651, [0.08264671879734088, 0.24639999999999998, 0.044000000000000004, 0.031112698372208092, 0.044000000000000004, 0.031112698372208092, 0.031112698372208092], [0.11299999999999955, 0.012000000000000455, 0.0, 0.038000000000000256, 0.06600000000000072, 0.9130000000000003, 0.13600000000000012])\n(3, 216)\n('CACBExp', 0.1, 0, 0)\n('CACBExpPrime', 2269.465846557686, 2.323999999999998, 26.491999999999997)\n('NOESY', 0.5882541897601063, [0.0731991153161525, 0.22210195856858173, 0.1096141581632653, 0.0781224159462939, 0.0655554777357089, 0.03966106403010389], [0.09799999999999898, 0.01899999999999924, 0.006999999999999673, 0.14200000000000035, 0.028999999999999915, 0.2969999999999997])\n(4, 322)\n('CACBExp', 0.1, 0, 0)\n('CACBExpPrime', 1985.6741487316792, 2.088000000000001, 26.91700000000001)\n('NOESY', 0.6356694745316243, [0.044000000000000004, 0.1096141581632653, 0.35386505902674253, 0.07899676183662109, 0.04919349550499538], [0.0829999999999993, 0.02400000000000002, 0.0129999999999999, 0.058999999999999275, 0.49100000000000144])\n(5, 227)\n('CACBExp', 0.1, 0.027999999999998693, 0)\n('CACBExpPrime', 74.4075525417656, 1.2779999999999987, 8.921)\n('NOESY', 0.680299773448981, [0.04666904755831214, 0.061466388164091765, 0.32008298923872847, 0.12609530971300711, 0.06286243523444784, 0.06312360354039362], [0.002000000000000668, 0.013999999999999346, 0.01100000000000012, 0.057000000000000384, 0.014999999999998792, 0.002000000000000668])\n(6, 457)\n('CACBExp', 0.1, 0, 0)\n('CACBExpPrime', 0.1, 0, 0)\n(7, 76)\n('CACAPrime', 0.1, -0.02199999999999136)\n('CBCBPrime', 264.2283993965815, -1.2999999999999972)\n('CACBExp', 6897.945495210009, 4.737000000000002, 15.39)\n('CACBExpPrime', 704.7613986510227, 2.1529999999999987, 15.482000000000006)\n('NOESY', 1.0355541185862882, [0.07155012799653118, 0.031112698372208092, 0.051425947722658, 0.04996193903631777, 0.07133027885910821, 0.4850388850391275, 0.15313592209408478, 0.12199831946625264], [0.0030000000000001137, 0.26899999999999924, 0.16199999999999992, 0.008999999999999453, 0.0039999999999995595, 0.013999999999999346, 0.0030000000000001137, 0.006000000000000227])\n(8, 107)\n('CACAPrime', 400.5428399226722, 0.990000000000002)\n('CACBExp', 299.91504038566546, 1.1480000000000032, 29.099000000000004)\n('CACBExpPrime', 8203.626829925972, 4.758999999999993, 16.689999999999998)\n('NOESY', 1.1352748188432291, [0.036482872693909395, 0.06593067829141198, 0.44845476917967986, 0.32595656152315755, 0.15594598991400088, 0.1025039472410697], [0.19900000000000073, 0.008999999999999453, 0.0259999999999998, 0.009000000000000341, 0.0, 0.018000000000000682])\n(9, 301)\n('CACAPrime', 109.36238027736864, 0.247000000000007)\n('CACBExp', 21.487475320343798, 2.205999999999996, 0)\n('CACBExpPrime', 0.1, 0.15800000000000125, 0)\n(10, 279)\n('CACBExp', 166.7254500074347, 2.429000000000002, 7.3039999999999985)\n('CACBExpPrime', 5923.861330855122, 2.453000000000003, 28.298000000000002)\n('NOESY', 1.7979563072958071, [0.20520233916795397, 0.10234079037238623, 0.12846120643365114, 1.149133099340542, 0.13210531524539726, 0.08071355673587648], [0.008000000000000895, 0.17300000000000004, 0.7230000000000008, 0.008000000000000895, 0.21700000000000053, 1.0079999999999991])\n(11, 450)\n('CACBExp', 0.1, 0, 0)\n('CACBExpPrime', 0.1, 0, 0)\n(12, 132)\n('CACBExp', 282.5308915379997, 2.2169999999999987, 6.990000000000002)\n('CACBExpPrime', 1370.0603733521182, 1.4740000000000038, 28.944000000000003)\n('NOESY', 0.3707828106958196, [0.05632, 0.0695706437181925, 0.09092111353567416, 0.15397105344195294], [0.013999999999999346, 0.002000000000000668, 0.011000000000001009, 0.270999999999999])\n(13, 454)\n('CACBExp', 0.1, 0, 0)\n('CACBExpPrime', 0.1, 0, 0)\n(14, 81)\n('CACAPrime', 162.5544392137233, -1.213000000000001)\n('CACBExp', 1671.7300970897297, 3.442999999999998, 12.537999999999997)\n('CACBExpPrime', 238.82831717522345, 2.0519999999999996, 12.872999999999998)\n('NOESY', 0.519075849295687, [0.07460562981437795, 0.12558813199962623, 0.13878763203054187, 0.07851722743648826, 0.10157722801465265], [0.01699999999999946, 0.007999999999999119, 0.08000000000000007, 0.04499999999999993, 2.551])\n(15, 159)\n('CACBExp', 0.1, 0, 0)\n('CACBExpPrime', 0.23202733499998296, 2.229999999999997, 0)\n(16, 58)\n('CACAPrime', 6.353176161986583, 0.32800000000000296)\n('CACBExp', 164.26466208444842, 1.483000000000004, 11.873999999999995)\n('CACBExpPrime', 208.7369703846392, 1.4050000000000011, 19.001)\n('NOESY', 0.24149550819806703, [0.07851722743648826, 0.16297828076157878], [0.19799999999999862, 0.48800000000000043])\n(17, 0)\n('CACBExp', 53.5967201154034, 1.0500000000000043, 15.896)\n('CACBExpPrime', 0.1, 1.1550000000000011, 0)\n('NOESY', 0.30255527737243293, [0.039624743246455284, 0.16297828076157878, 0.038100858314364244, 0.0618513950500346], [1.2669999999999995, 1.061, 0.04299999999999926, 0.9270000000000005])\n(18, 414)\n('CACBExp', 0.1, 0, 0)\n('CACBExpPrime', 0.1, 0, 0)\n(19, 243)\n('CACBExp', 25.343647695450073, 2.2349999999999994, 2.328000000000003)\n('CACBExpPrime', 391.468044019906, 1.906000000000006, 17.281999999999996)\n('NOESY', 0.19934708490135203, [0.04073153084410523, 0.0370473946094918, 0.062225396744416184, 0.0593427627033388], [0.6979999999999995, 0.492, 0.3000000000000007, 0.23800000000000043])\n(20, 354)\n('CACBExp', 0.1, 0, 0)\n('CACBExpPrime', 0.1, 0, 0)\n(21, 33)\n('CACBExp', 46.86645116373739, 1.2409999999999997, 8.485)\n('CACBExpPrime', 525.4163534914553, 2.058, 27.305999999999997)\n('NOESY', 0.22285948648612858, [0.0370473946094918, 0.08227512359509166, 0.10353696828154511], [0.19099999999999895, 0.33999999999999986, 0.03500000000000014])\n(22, 419)\n('CACBExp', 0.1, 0, 0)\n('CACBExpPrime', 0.1, 0, 0)\n(23, 37)\n('CBCBPrime', 55.905344488319464, 0.5009999999999977)\n('CACBExp', 5810.52686510656, 18.214999999999996, 3.4740000000000038)\n('CACBExpPrime', 0.1, 0, 0)\n('NOESY', 0.2661683844170931, [0.05644026915593305, 0.1742311108843653, 0.03549700437679477], [0.028999999999999915, 0.01100000000000012, 1.2870000000000008])\n(24, 337)\n('CACBExp', 1640.644606235885, 0, 5.883000000000003)\n('CACBExpPrime', 358.71338227593805, 0, 3.9750000000000014)\n('NOESY', 0.5180814532598664, [0.13287705649477, 0.32595656152315755, 0.05924783524193888], [0.12199999999999989, 0.20099999999999962, 0.8410000000000011])\n(25, 362)\n('CACBExp', 0.1, 0, 0)\n('CACBExpPrime', 0.1, 0, 0)\n(26, 149)\n('CACAPrime', 744.5394743038455, -2.6980000000000004)\n('CBCBPrime', 459.8685798690031, -2.3909999999999982)\n('CACBExp', 110.1344808554646, 1.868000000000002, 6.282000000000004)\n('CACBExpPrime', 417.66662963997555, 2.3499999999999943, 24.665999999999997)\n('NOESY', 0.4558032548501811, [0.03853737735548502, 0.08620716610092014, 0.054758717113665256, 0.13786923951183633, 0.09048286638932693, 0.047947888378947416], [0.16199999999999992, 0.011999999999999567, 0.01499999999999968, 0.014999999999998792, 0.016000000000000014, 0.0129999999999999])\n(27, 188)\n('CACAPrime', 42.154521874876146, 0.6310000000000002)\n('CACBExp', 28.502223820141698, 2.3370000000000033, 0)\n('CACBExpPrime', 328.7145745760434, 0.8299999999999983, 3.8910000000000053)\n('NOESY', 0.7299788625639767, [0.12465535622977297, 0.29542322183606345, 0.12910698458287634, 0.10896735317197088, 0.07182594674329303], [1.2650000000000006, 0.3179999999999996, 1.7650000000000006, 0.012000000000000455, 1.7929999999999993])\n(28, 24)\n('CACAPrime', 0.1, -0.006999999999997897)\n('CBCBPrime', 134.51036200541483, -1.0509999999999984)\n('CACBExp', 24.07676587284049, 1.178999999999995, 7.510999999999999)\n('CACBExpPrime', 1552.6482954528092, 1.706000000000003, 23.94)\n('NOESY', 0.6812771523162895, [0.06421028743441211, 0.1848, 0.21338865949248567, 0.0880051629695609, 0.0800043624162593, 0.05086868000357142], [0.014999999999998792, 0.012000000000000455, 0.009999999999999787, 0.008000000000000007, 0.017999999999998906, 0.02400000000000002])\n(29, 66)\n('CACAPrime', 22.87064370107535, 0.4749999999999943)\n('CBCBPrime', 136.26953003999995, -1.4329999999999998)\n('CACBExp', 762.6174562812516, 1.8179999999999978, 14.767000000000003)\n('CACBExpPrime', 16.72806502619957, 1.171999999999997, 6.460000000000001)\n('NOESY', 1.1975338330492784, [0.17892275171062055, 0.12626912189202794, 0.24639999999999998, 0.28892961080512325, 0.2512026239157031, 0.10580972472580374], [0.013999999999999346, 0.008000000000000007, 0.01100000000000012, 0.012000000000000455, 0.013999999999999346, 0.014000000000000234])\n(30, 11)\n('CACBExp', 1734.9599448944532, 2.7339999999999947, 15.285999999999998)\n('CACBExpPrime', 330.3949507006538, 1.3430000000000035, 16.200000000000003)\n('NOESY', 0.8394652749485497, [0.09048286638932693, 0.1041219112394124, 0.0880051629695609, 0.19479630386637217, 0.19069917033163117, 0.12095152750773186, 0.05040833264451425], [0.009999999999999787, 0.0030000000000001137, 0.01499999999999968, 0.014999999999998792, 0.0129999999999999, 0.03000000000000025, 0.17100000000000026])\n(31, 92)\n('CACBExp', 0.1, 0, 0)\n('CACBExpPrime', 0.1, 0, 0)\n(32, 258)\n('CACBExp', 0.1, 0.015000000000000568, 0)\n('CACBExpPrime', 0.1, 0, 0)\n('NOESY', 0.553721685564629, [0.05687291320683497, 0.0805091287115789, 0.11734021729274786, 0.2043040870858926, 0.09469533926757459], [0.02200000000000024, 0.010999999999999233, 0.009000000000000341, 0.01699999999999946, 0.17300000000000004])\n(33, 461)\n('CACBExp', 0.1, 0, 0)\n('CACBExpPrime', 0.1, 0, 0)\n(34, 456)\n('CACBExp', 0.1, 0, 0)\n('CACBExpPrime', 0.1, 0, 0)\n(35, 30)\n('CACBExp', 352.48086109604895, 1.1839999999999975, 28.028000000000002)\n('CACBExpPrime', 505.06214423098606, 1.206000000000003, 30.062000000000005)\n('NOESY', 0.4596454276214138, [0.06124540799113024, 0.07975170503758099, 0.08535722531917468, 0.09706384610703632, 0.08430452551834178, 0.051922717648149735], [0.15399999999999991, 0.14100000000000001, 0.04800000000000004, 0.02799999999999958, 0.01100000000000012, 0.01499999999999968])\n(36, 416)\n('CACBExp', 0.1, 0, 0)\n('CACBExpPrime', 0.1, 0, 0)\n"
     ]
    }
   ],
   "source": [
    "ls = eval_energy(index_list, peak_list, residue_list, energy_if_false)[1][0:150]\n",
    "for i in ls: \n",
    "    print(i)"
   ]
  },
  {
   "cell_type": "code",
   "execution_count": null,
   "outputs": [],
   "source": [
    "print('hi')"
   ],
   "metadata": {
    "collapsed": false,
    "pycharm": {
     "name": "#%%\n"
    }
   }
  },
  {
   "cell_type": "code",
   "execution_count": null,
   "outputs": [],
   "source": [
    "for i in peak_list:\n",
    "    print(i.get_data('HNCAHShift'))"
   ],
   "metadata": {
    "collapsed": false,
    "pycharm": {
     "name": "#%%\n"
    }
   }
  },
  {
   "cell_type": "code",
   "execution_count": null,
   "metadata": {},
   "outputs": [],
   "source": []
  }
 ],
 "metadata": {
  "kernelspec": {
   "name": "python3",
   "language": "python",
   "display_name": "Python 3"
  },
  "language_info": {
   "codemirror_mode": {
    "name": "ipython",
    "version": 2
   },
   "file_extension": ".py",
   "mimetype": "text/x-python",
   "name": "python",
   "nbconvert_exporter": "python",
   "pygments_lexer": "ipython2",
   "version": "2.7.6"
  }
 },
 "nbformat": 4,
 "nbformat_minor": 0
}