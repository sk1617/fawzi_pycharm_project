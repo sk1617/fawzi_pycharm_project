{
 "cells": [
  {
   "cell_type": "code",
   "execution_count": 3,
   "metadata": {
    "collapsed": true
   },
   "outputs": [
    {
     "name": "stdout",
     "output_type": "stream",
     "text": [
      "  set_iterations    time_taken completed_iterations final_temp  \\\n0      100000000  11913.965294            100000000       None   \n1      100000000  10211.317212            100000000       None   \n2      100000000   8680.950425            100000000       None   \n3      100000000   8079.023462            100000000       None   \n4      100000000   9645.769741            100000000       None   \n\n                                       og_index_list     og_energy  \\\n0  [385, 226, 347, 348, 64, 232, 430, 376, 236, 1...  1.187004e+08   \n1  [259, 97, 443, 118, 83, 216, 417, 108, 416, 38...  9.992624e+07   \n2  [192, 296, 106, 425, 122, 200, 262, 207, 24, 4...  9.499531e+07   \n3  [23, 369, 264, 40, 356, 345, 69, 341, 395, 167...  9.733047e+07   \n4  [74, 363, 175, 91, 51, 463, 6, 325, 137, 327, ...  9.454681e+07   \n\n                                          index_list  final_energy  \n0  [131, 29, 257, 216, 93, 287, 402, 467, 206, 44...  1.750849e+06  \n1  [234, 205, 257, 216, 45, 405, 349, 199, 210, 4...  1.721125e+06  \n2  [234, 205, 58, 1, 55, 307, 305, 471, 259, 119,...  1.734889e+06  \n3  [234, 250, 17, 184, 211, 30, 412, 199, 210, 39...  1.779310e+06  \n4  [170, 205, 8, 34, 9, 347, 211, 370, 206, 403, ...  1.769296e+06  \n"
     ]
    }
   ],
   "source": [
    "import glob\n",
    "import pandas as pd\n",
    "import numpy as np\n",
    "import statistics as st\n",
    "import matplotlib.pyplot as plt\n",
    "import re\n",
    "from DataProcessing import *\n",
    "from DataImporting import sequence_list\n",
    "from venditti_data_importer import venditti_assignment\n",
    "peak_list, residue_list = main_data_processing()\n",
    "\n",
    "acceptance_threshold = .20\n",
    "should_print_unassigned_lists = False\n",
    "should_print_peak_data = True\n",
    "should_export_to_excel = True\n",
    "should_take_best_10 = False\n",
    "\n",
    "\n",
    "# if you want to analyze multiple test conditions, add them here.\n",
    "for random_index in range(1):\n",
    "    # DATA INGESTION\n",
    "    time_taken_list = list()\n",
    "    final_energy_list = list()\n",
    "    filename_list = list()\n",
    "    count_of_assignments = 0\n",
    "\n",
    "    # glob.glob returns a list of paths that match filename NAME.\n",
    "    # add all files for each test condition\n",
    "\n",
    "    NAME = [\"Slurm Trials/slurm-4102660_{}.out\".format(str(x)) for x in range(1, 17)] + \\\n",
    "           [\"Slurm Trials/slurm-4109433_{}.out\".format(str(x)) for x in range(17, 201)] + \\\n",
    "           [\"Slurm Trials/slurm-9199622_{}.out\".format(str(x)) for x in range(1, 81)]\n",
    "\n",
    "    # NAME = [\"40:30.out\", \"40:30_2.out\"]\n",
    "\n",
    "\n",
    "\n",
    "    set_iterations, initial_temperature, exponent, eif = None, None, None, None\n",
    "    time_taken, completed_iterations, final_temp, og_index_list, og_energy, index_list, final_energy = \\\n",
    "        None, None, None, None, None, None, None\n",
    "\n",
    "    initial_data = pd.DataFrame(columns=['set_iterations', 'time_taken', 'completed_iterations', 'final_temp',\n",
    "                                         'og_index_list', 'og_energy', 'index_list', 'final_energy'])\n",
    "\n",
    "    for filename_str in NAME:\n",
    "        # imports each file\n",
    "        # filename = [i[0] for i in glob.glob(filename_str)]\n",
    "        file = open(filename_str, 'r')\n",
    "        filename_list.append(filename_str)\n",
    "\n",
    "        for line in file.readlines():\n",
    "            if \"Done\" in line:\n",
    "                count_of_assignments += 1\n",
    "                df_temp = pd.DataFrame([[set_iterations, time_taken, completed_iterations,\n",
    "                                         final_temp, og_index_list, og_energy,\n",
    "                                         index_list, final_energy]],\n",
    "                                       columns=['set_iterations', 'time_taken', 'completed_iterations',\n",
    "                                                'final_temp', 'og_index_list', 'og_energy',\n",
    "                                                'index_list', 'final_energy'])\n",
    "                initial_data = initial_data.append(df_temp, ignore_index=True)\n",
    "\n",
    "                set_iterations, initial_temperature, exponent, eif = None, None, None, None\n",
    "                time_taken, completed_iterations, final_temp, og_index_list, og_energy, index_list, final_energy = \\\n",
    "                    None, None, None, None, None, None, None\n",
    "\n",
    "            elif 'exponent:' in line:\n",
    "                set_iterations = int(re.search(r\" \\d* \", line)[0][1:-1])\n",
    "            elif 'time taken (sec)' in line:\n",
    "                time_taken = float(re.search(r\"\\d*\\.\\d*\", line)[0])\n",
    "                time_taken_list.append(time_taken)\n",
    "            elif 'number of iterations' in line:\n",
    "                completed_iterations = int(re.search(r\"[0-9].*\", line)[0])\n",
    "            elif 'final temperature' in line:\n",
    "                final_temp = float(re.search(r\"\\d*\\.\\d*\", line)[0])\n",
    "                final_energy_list.append(final_temp)\n",
    "            elif 'og index list:' in line:\n",
    "                og_index_list = list()\n",
    "                [og_index_list.append(int(x)) for x in line[line.index('[') + 1:line.index(']')].split(', ')]\n",
    "            elif 'og index list energy:' in line:\n",
    "                og_energy = float(re.search(r\"\\d*\\.\\d*\", line)[0])\n",
    "            elif 'index list:' in line:\n",
    "                index_list = list()\n",
    "                [index_list.append(int(x)) for x in line[line.index('[') + 1:line.index(']')].split(', ')]\n",
    "            elif 'index list energy:' in line:\n",
    "                final_energy = float(re.search(r\"\\d*\\.\\d*\", line)[0])\n",
    "\n",
    "    print(initial_data.head())\n",
    "        # print(time_taken, completed_iterations, final_temp, og_index_list, og_energy, index_list, final_energy)"
   ]
  },
  {
   "cell_type": "code",
   "execution_count": 5,
   "metadata": {},
   "outputs": [],
   "source": [
    "initial_data = initial_data.sort_values(by='final_energy')"
   ]
  },
  {
   "cell_type": "code",
   "execution_count": 6,
   "metadata": {
    "collapsed": true
   },
   "outputs": [
    {
     "name": "stdout",
     "output_type": "stream",
     "text": [
      "     set_iterations     time_taken completed_iterations final_temp  \\\n3303     5000000000  431399.647103           4787511967    191.581   \n3301     5000000000  427560.215611           5000000000    191.581   \n3335     5000000000  372451.363364           5000000000    191.581   \n3349     5000000000  391068.616322           5000000000    191.581   \n3347     5000000000  390870.787135           5000000000    191.581   \n3288     5000000000  333553.390344           5000000000    191.581   \n3363     5000000000  366911.160029           5000000000    191.581   \n3345     5000000000  383293.910890           5000000000    191.581   \n3291     5000000000  372435.033140           5000000000    191.581   \n3330     5000000000  359109.094401           5000000000    191.581   \n\n                                          og_index_list     og_energy  \\\n3303  [393, 450, 429, 445, 248, 124, 179, 185, 90, 7...  9.101356e+07   \n3301  [159, 152, 41, 213, 8, 341, 363, 345, 267, 94,...  1.195123e+08   \n3335  [215, 410, 346, 251, 235, 272, 451, 178, 308, ...  1.570165e+08   \n3349  [226, 329, 111, 149, 325, 137, 148, 284, 418, ...  1.074017e+08   \n3347  [129, 358, 318, 176, 214, 456, 178, 316, 383, ...  1.459711e+08   \n3288  [18, 47, 447, 237, 145, 86, 317, 423, 189, 181...  9.389370e+07   \n3363  [274, 403, 257, 203, 386, 4, 349, 262, 180, 78...  7.411611e+07   \n3345  [396, 349, 422, 337, 66, 111, 416, 423, 377, 4...  8.792856e+07   \n3291  [118, 225, 60, 37, 81, 127, 95, 268, 74, 281, ...  8.199116e+07   \n3330  [144, 298, 20, 74, 45, 165, 250, 354, 458, 32,...  1.017679e+08   \n\n                                             index_list  final_energy  \n3303  [234, 205, 257, 216, 322, 227, 457, 76, 107, 3...  1.585507e+06  \n3301  [234, 250, 17, 184, 227, 30, 386, 76, 107, 301...  1.585772e+06  \n3335  [234, 205, 257, 216, 227, 30, 379, 76, 107, 30...  1.587146e+06  \n3349  [234, 205, 107, 301, 227, 30, 346, 76, 260, 33...  1.590991e+06  \n3347  [234, 205, 235, 301, 227, 30, 388, 76, 107, 46...  1.591079e+06  \n3288  [234, 205, 249, 419, 27, 441, 207, 200, 210, 4...  1.593265e+06  \n3363  [234, 205, 235, 301, 227, 30, 471, 76, 107, 36...  1.595006e+06  \n3345  [234, 205, 257, 216, 227, 30, 359, 76, 107, 42...  1.596089e+06  \n3291  [170, 205, 17, 184, 211, 101, 340, 417, 206, 3...  1.597671e+06  \n3330  [234, 250, 8, 34, 227, 30, 444, 76, 107, 301, ...  1.598432e+06  \n"
     ]
    }
   ],
   "source": [
    "print(initial_data.iloc[0:10])"
   ]
  },
  {
   "cell_type": "code",
   "execution_count": 24,
   "metadata": {
    "collapsed": true
   },
   "outputs": [
    {
     "name": "stdout",
     "output_type": "stream",
     "text": [
      "  residue number amino acid        N      H      CA CAPrime      CB CBPrime\n0              1          T  122.329  8.622   60.33  49.504    None  63.778\n1              2          P  124.950  8.669    None  59.305    None  57.487\n2              3          K  118.145  7.480  58.599  65.716  57.822    None\n3              4          D  122.497  7.587    None  58.724    None  59.062\n4              5          D  122.893  8.752   54.95  56.258  53.153  54.189\n"
     ]
    }
   ],
   "source": [
    "for j, index_list in enumerate(best_list):\n",
    "    data = pd.DataFrame(columns=['residue number', 'amino acid', 'N', 'H', 'CA', 'CAPrime', 'CB', 'CBPrime', ])\n",
    "    for i, pai in enumerate(index_list):\n",
    "        residue_number = i + 1\n",
    "        amino_acid = sequence_list[i]\n",
    "    \n",
    "        peak = peak_list[pai]\n",
    "        assert pai == peak.get_data('peakNumber')\n",
    "        n_shift = peak.get_data('TROSYNShift')\n",
    "        h_shift = peak.get_data('TROSYHShift')\n",
    "        ca_shift = peak.get_data('CAShift')\n",
    "        ca_prime_shift = peak.get_data('CAPrimeShift')\n",
    "        cb_shift = peak.get_data('CBShift')\n",
    "        cb_prime_shift = peak.get_data('CBPrimeShift')\n",
    "    \n",
    "    \n",
    "        temp_df = pd.DataFrame([[residue_number, amino_acid,\n",
    "                                 n_shift, h_shift, ca_shift, ca_prime_shift, cb_shift, cb_prime_shift]],\n",
    "                               \n",
    "                               columns=['residue number', 'amino acid', \n",
    "                                        'N', 'H', 'CA', 'CAPrime', 'CB', 'CBPrime', ])\n",
    "        data = data.append(temp_df, ignore_index=True)\n",
    "    print(data.head())\n",
    "    data.to_csv('/Volumes/Transcend/Fawzi_pycharm_project/data_{}.csv'.format('40:30'))"
   ]
  },
  {
   "cell_type": "code",
   "execution_count": 16,
   "metadata": {
    "collapsed": false
   },
   "outputs": [
    {
     "name": "stdout",
     "output_type": "stream",
     "text": [
      "1585506.9112085525\n829095.8058876285\n474\n"
     ]
    }
   ],
   "source": [
    "print(initial_data['final_energy'][3303])\n",
    "index_list = initial_data['index_list'][3303]\n",
    "print(eval_energy(index_list, peak_list, residue_list, energy_if_false)[0])\n",
    "print(len(residue_list))"
   ]
  },
  {
   "cell_type": "code",
   "execution_count": 35,
   "metadata": {
    "collapsed": true
   },
   "outputs": [
    {
     "name": "stdout",
     "output_type": "stream",
     "text": [
      "  residue number amino acid        N      H      CA CAPrime      CB CBPrime  \\\n0              1          T  123.833  8.324  63.609    None    None  54.871   \n1              2          P  111.425  7.573  63.643   63.66    None   58.07   \n2              3          K  118.145   7.48  58.599  65.716  57.822    None   \n3              4          D  122.497  7.587    None  58.724    None  59.062   \n4              5          D  121.518  7.953    None  52.002    None  67.677   \n\n    CACAPrime   CBCBPrime      CACBExp  CACBExpPrime       NOESY  \\\n0    0.340683  300.000000     0.100000    300.000000  300.000000   \n1  287.749150  300.000000     0.100000     24.923548  300.000000   \n2    1.325135  102.035136  1522.139938     15.273683    0.510385   \n3  300.000000  300.000000     0.100000   2269.465847    0.588254   \n4  300.000000  300.000000     0.100000   1985.674149    0.635669   \n\n                                     NOESYSubWeights  \\\n0                                                 []   \n1                                                 []   \n2  [0.08264671879734088, 0.24639999999999998, 0.0...   \n3  [0.0731991153161525, 0.22210195856858173, 0.10...   \n4  [0.044000000000000004, 0.1096141581632653, 0.3...   \n\n                                           NOESYDelH  \n0                                                 []  \n1                                                 []  \n2  [0.11299999999999955, 0.012000000000000455, 0....  \n3  [0.09799999999999898, 0.01899999999999924, 0.0...  \n4  [0.0829999999999993, 0.02400000000000002, 0.01...  \n"
     ]
    }
   ],
   "source": [
    "\n",
    "# for j, index_list in enumerate([index_list]):\n",
    "\n",
    "index_list = initial_data['index_list'][3303]\n",
    "info_list = eval_energy(index_list, peak_list, residue_list, energy_if_false)[1]\n",
    "\n",
    "data = pd.DataFrame(columns=['residue number', 'amino acid', 'N', 'H', 'CA', 'CAPrime', 'CB', 'CBPrime', \n",
    "                             'CACAPrime', 'CBCBPrime', 'CACBExp', 'CACBExpPrime', 'NOESY', 'NOESYSubWeights', 'NOESYDelH'])\n",
    "for i, pai in enumerate(index_list):\n",
    "    residue_number = i + 1\n",
    "    amino_acid = sequence_list[i]\n",
    "\n",
    "    peak = peak_list[pai]\n",
    "    assert pai == peak.get_data('peakNumber')\n",
    "    n_shift = peak.get_data('TROSYNShift')\n",
    "    h_shift = peak.get_data('TROSYHShift')\n",
    "    ca_shift = peak.get_data('CAShift')\n",
    "    ca_prime_shift = peak.get_data('CAPrimeShift')\n",
    "    cb_shift = peak.get_data('CBShift')\n",
    "    cb_prime_shift = peak.get_data('CBPrimeShift')\n",
    "\n",
    "    ca_ca_prime, cb_cb_prime, ca_cb_exp, = energy_if_false, energy_if_false, energy_if_false\n",
    "    ca_cb_exp_prime, noesy_energy = energy_if_false, energy_if_false\n",
    "    noesy_subweights, noesy_del_h = [], []\n",
    "    \n",
    "    for k, line in enumerate(info_list): \n",
    "        if len(line) == 2: \n",
    "            if line[0] == i: \n",
    "                assert line[1] == pai\n",
    "                for l in range(1,6):\n",
    "                    if len(info_list[k + l]) == 2: \n",
    "                        break\n",
    "                    elif 'CACAPrime' == info_list[k + l][0]: \n",
    "                        ca_ca_prime = info_list[k + l][1]\n",
    "                    elif 'CBCBPrime' == info_list[k + l][0]: \n",
    "                        cb_cb_prime = info_list[k + l][1]\n",
    "                    elif 'CACBExp' == info_list[k + l][0]: \n",
    "                        ca_cb_exp = info_list[k + l][1]\n",
    "                    elif 'CACBExpPrime' == info_list[k + l][0]: \n",
    "                        ca_cb_exp_prime = info_list[k + l][1]\n",
    "                    elif 'NOESY' == info_list[k + l][0]: \n",
    "                        noesy_energy = info_list[k + l][1]\n",
    "                        noesy_subweights = info_list[k + l][2]\n",
    "                        noesy_del_h = info_list[k + l][3]\n",
    "                        \n",
    "    temp_df = pd.DataFrame([[residue_number, amino_acid, n_shift, h_shift, ca_shift, ca_prime_shift, cb_shift, cb_prime_shift,\n",
    "                             ca_ca_prime, cb_cb_prime, ca_cb_exp, ca_cb_exp_prime, noesy_energy, noesy_subweights, noesy_del_h]],\n",
    "                           columns=['residue number', 'amino acid', 'N', 'H', 'CA', 'CAPrime', 'CB', 'CBPrime', \n",
    "                                    'CACAPrime', 'CBCBPrime', 'CACBExp', 'CACBExpPrime', 'NOESY', 'NOESYSubWeights', 'NOESYDelH'])\n",
    "    data = data.append(temp_df, ignore_index=True)\n",
    "print(data.head())\n",
    "data.to_csv('/Volumes/Transcend/Fawzi_pycharm_project/data_{}.csv'.format('sources_of_energy'))"
   ]
  },
  {
   "cell_type": "code",
   "execution_count": 32,
   "metadata": {
    "collapsed": true
   },
   "outputs": [
    {
     "name": "stdout",
     "output_type": "stream",
     "text": [
      "(0, 234)\n('CACAPrime', 0.3406829118599718, -0.05099999999999483)\n('CACBExp', 0.1, 2.0189999999999984, 0)\n(1, 205)\n('CACAPrime', 287.74914983999815, -2.0729999999999933)\n('CACBExp', 0.1, 0.11299999999999955, 0)\n('CACBExpPrime', 24.923547584994264, 2.069999999999993, 11.68)\n(2, 257)\n('CACAPrime', 1.3251352746394423, -0.125)\n('CBCBPrime', 102.03513599999917, -1.2399999999999949)\n('CACBExp', 1522.1399384338479, 2.198999999999998, 25.252000000000002)\n('CACBExpPrime', 15.2736832080237, 2.185999999999993, 0)\n('NOESY', 0.5103848139139651, [0.08264671879734088, 0.24639999999999998, 0.044000000000000004, 0.031112698372208092, 0.044000000000000004, 0.031112698372208092, 0.031112698372208092], [0.11299999999999955, 0.012000000000000455, 0.0, 0.038000000000000256, 0.06600000000000072, 0.9130000000000003, 0.13600000000000012])\n(3, 216)\n('CACBExp', 0.1, 0, 0)\n('CACBExpPrime', 2269.465846557686, 2.323999999999998, 26.491999999999997)\n('NOESY', 0.5882541897601063, [0.0731991153161525, 0.22210195856858173, 0.1096141581632653, 0.0781224159462939, 0.0655554777357089, 0.03966106403010389], [0.09799999999999898, 0.01899999999999924, 0.006999999999999673, 0.14200000000000035, 0.028999999999999915, 0.2969999999999997])\n(4, 322)\n('CACBExp', 0.1, 0, 0)\n('CACBExpPrime', 1985.6741487316792, 2.088000000000001, 26.91700000000001)\n('NOESY', 0.6356694745316243, [0.044000000000000004, 0.1096141581632653, 0.35386505902674253, 0.07899676183662109, 0.04919349550499538], [0.0829999999999993, 0.02400000000000002, 0.0129999999999999, 0.058999999999999275, 0.49100000000000144])\n(5, 227)\n('CACBExp', 0.1, 0.027999999999998693, 0)\n('CACBExpPrime', 74.4075525417656, 1.2779999999999987, 8.921)\n('NOESY', 0.680299773448981, [0.04666904755831214, 0.061466388164091765, 0.32008298923872847, 0.12609530971300711, 0.06286243523444784, 0.06312360354039362], [0.002000000000000668, 0.013999999999999346, 0.01100000000000012, 0.057000000000000384, 0.014999999999998792, 0.002000000000000668])\n(6, 457)\n('CACBExp', 0.1, 0, 0)\n('CACBExpPrime', 0.1, 0, 0)\n(7, 76)\n('CACAPrime', 0.1, -0.02199999999999136)\n('CBCBPrime', 264.2283993965815, -1.2999999999999972)\n('CACBExp', 6897.945495210009, 4.737000000000002, 15.39)\n('CACBExpPrime', 704.7613986510227, 2.1529999999999987, 15.482000000000006)\n('NOESY', 1.0355541185862882, [0.07155012799653118, 0.031112698372208092, 0.051425947722658, 0.04996193903631777, 0.07133027885910821, 0.4850388850391275, 0.15313592209408478, 0.12199831946625264], [0.0030000000000001137, 0.26899999999999924, 0.16199999999999992, 0.008999999999999453, 0.0039999999999995595, 0.013999999999999346, 0.0030000000000001137, 0.006000000000000227])\n(8, 107)\n('CACAPrime', 400.5428399226722, 0.990000000000002)\n('CACBExp', 299.91504038566546, 1.1480000000000032, 29.099000000000004)\n('CACBExpPrime', 8203.626829925972, 4.758999999999993, 16.689999999999998)\n('NOESY', 1.1352748188432291, [0.036482872693909395, 0.06593067829141198, 0.44845476917967986, 0.32595656152315755, 0.15594598991400088, 0.1025039472410697], [0.19900000000000073, 0.008999999999999453, 0.0259999999999998, 0.009000000000000341, 0.0, 0.018000000000000682])\n(9, 301)\n('CACAPrime', 109.36238027736864, 0.247000000000007)\n('CACBExp', 21.487475320343798, 2.205999999999996, 0)\n('CACBExpPrime', 0.1, 0.15800000000000125, 0)\n(10, 279)\n('CACBExp', 166.7254500074347, 2.429000000000002, 7.3039999999999985)\n('CACBExpPrime', 5923.861330855122, 2.453000000000003, 28.298000000000002)\n('NOESY', 1.7979563072958071, [0.20520233916795397, 0.10234079037238623, 0.12846120643365114, 1.149133099340542, 0.13210531524539726, 0.08071355673587648], [0.008000000000000895, 0.17300000000000004, 0.7230000000000008, 0.008000000000000895, 0.21700000000000053, 1.0079999999999991])\n(11, 450)\n('CACBExp', 0.1, 0, 0)\n('CACBExpPrime', 0.1, 0, 0)\n(12, 132)\n('CACBExp', 282.5308915379997, 2.2169999999999987, 6.990000000000002)\n('CACBExpPrime', 1370.0603733521182, 1.4740000000000038, 28.944000000000003)\n('NOESY', 0.3707828106958196, [0.05632, 0.0695706437181925, 0.09092111353567416, 0.15397105344195294], [0.013999999999999346, 0.002000000000000668, 0.011000000000001009, 0.270999999999999])\n(13, 454)\n('CACBExp', 0.1, 0, 0)\n('CACBExpPrime', 0.1, 0, 0)\n(14, 81)\n('CACAPrime', 162.5544392137233, -1.213000000000001)\n('CACBExp', 1671.7300970897297, 3.442999999999998, 12.537999999999997)\n('CACBExpPrime', 238.82831717522345, 2.0519999999999996, 12.872999999999998)\n('NOESY', 0.519075849295687, [0.07460562981437795, 0.12558813199962623, 0.13878763203054187, 0.07851722743648826, 0.10157722801465265], [0.01699999999999946, 0.007999999999999119, 0.08000000000000007, 0.04499999999999993, 2.551])\n(15, 159)\n('CACBExp', 0.1, 0, 0)\n('CACBExpPrime', 0.23202733499998296, 2.229999999999997, 0)\n(16, 58)\n('CACAPrime', 6.353176161986583, 0.32800000000000296)\n('CACBExp', 164.26466208444842, 1.483000000000004, 11.873999999999995)\n('CACBExpPrime', 208.7369703846392, 1.4050000000000011, 19.001)\n('NOESY', 0.24149550819806703, [0.07851722743648826, 0.16297828076157878], [0.19799999999999862, 0.48800000000000043])\n(17, 0)\n('CACBExp', 53.5967201154034, 1.0500000000000043, 15.896)\n('CACBExpPrime', 0.1, 1.1550000000000011, 0)\n('NOESY', 0.30255527737243293, [0.039624743246455284, 0.16297828076157878, 0.038100858314364244, 0.0618513950500346], [1.2669999999999995, 1.061, 0.04299999999999926, 0.9270000000000005])\n(18, 414)\n('CACBExp', 0.1, 0, 0)\n('CACBExpPrime', 0.1, 0, 0)\n(19, 243)\n('CACBExp', 25.343647695450073, 2.2349999999999994, 2.328000000000003)\n('CACBExpPrime', 391.468044019906, 1.906000000000006, 17.281999999999996)\n('NOESY', 0.19934708490135203, [0.04073153084410523, 0.0370473946094918, 0.062225396744416184, 0.0593427627033388], [0.6979999999999995, 0.492, 0.3000000000000007, 0.23800000000000043])\n(20, 354)\n('CACBExp', 0.1, 0, 0)\n('CACBExpPrime', 0.1, 0, 0)\n(21, 33)\n('CACBExp', 46.86645116373739, 1.2409999999999997, 8.485)\n('CACBExpPrime', 525.4163534914553, 2.058, 27.305999999999997)\n('NOESY', 0.22285948648612858, [0.0370473946094918, 0.08227512359509166, 0.10353696828154511], [0.19099999999999895, 0.33999999999999986, 0.03500000000000014])\n(22, 419)\n('CACBExp', 0.1, 0, 0)\n('CACBExpPrime', 0.1, 0, 0)\n(23, 37)\n('CBCBPrime', 55.905344488319464, 0.5009999999999977)\n('CACBExp', 5810.52686510656, 18.214999999999996, 3.4740000000000038)\n('CACBExpPrime', 0.1, 0, 0)\n('NOESY', 0.2661683844170931, [0.05644026915593305, 0.1742311108843653, 0.03549700437679477], [0.028999999999999915, 0.01100000000000012, 1.2870000000000008])\n(24, 337)\n('CACBExp', 1640.644606235885, 0, 5.883000000000003)\n('CACBExpPrime', 358.71338227593805, 0, 3.9750000000000014)\n('NOESY', 0.5180814532598664, [0.13287705649477, 0.32595656152315755, 0.05924783524193888], [0.12199999999999989, 0.20099999999999962, 0.8410000000000011])\n(25, 362)\n('CACBExp', 0.1, 0, 0)\n('CACBExpPrime', 0.1, 0, 0)\n(26, 149)\n('CACAPrime', 744.5394743038455, -2.6980000000000004)\n('CBCBPrime', 459.8685798690031, -2.3909999999999982)\n('CACBExp', 110.1344808554646, 1.868000000000002, 6.282000000000004)\n('CACBExpPrime', 417.66662963997555, 2.3499999999999943, 24.665999999999997)\n('NOESY', 0.4558032548501811, [0.03853737735548502, 0.08620716610092014, 0.054758717113665256, 0.13786923951183633, 0.09048286638932693, 0.047947888378947416], [0.16199999999999992, 0.011999999999999567, 0.01499999999999968, 0.014999999999998792, 0.016000000000000014, 0.0129999999999999])\n(27, 188)\n('CACAPrime', 42.154521874876146, 0.6310000000000002)\n('CACBExp', 28.502223820141698, 2.3370000000000033, 0)\n('CACBExpPrime', 328.7145745760434, 0.8299999999999983, 3.8910000000000053)\n('NOESY', 0.7299788625639767, [0.12465535622977297, 0.29542322183606345, 0.12910698458287634, 0.10896735317197088, 0.07182594674329303], [1.2650000000000006, 0.3179999999999996, 1.7650000000000006, 0.012000000000000455, 1.7929999999999993])\n(28, 24)\n('CACAPrime', 0.1, -0.006999999999997897)\n('CBCBPrime', 134.51036200541483, -1.0509999999999984)\n('CACBExp', 24.07676587284049, 1.178999999999995, 7.510999999999999)\n('CACBExpPrime', 1552.6482954528092, 1.706000000000003, 23.94)\n('NOESY', 0.6812771523162895, [0.06421028743441211, 0.1848, 0.21338865949248567, 0.0880051629695609, 0.0800043624162593, 0.05086868000357142], [0.014999999999998792, 0.012000000000000455, 0.009999999999999787, 0.008000000000000007, 0.017999999999998906, 0.02400000000000002])\n(29, 66)\n('CACAPrime', 22.87064370107535, 0.4749999999999943)\n('CBCBPrime', 136.26953003999995, -1.4329999999999998)\n('CACBExp', 762.6174562812516, 1.8179999999999978, 14.767000000000003)\n('CACBExpPrime', 16.72806502619957, 1.171999999999997, 6.460000000000001)\n('NOESY', 1.1975338330492784, [0.17892275171062055, 0.12626912189202794, 0.24639999999999998, 0.28892961080512325, 0.2512026239157031, 0.10580972472580374], [0.013999999999999346, 0.008000000000000007, 0.01100000000000012, 0.012000000000000455, 0.013999999999999346, 0.014000000000000234])\n(30, 11)\n('CACBExp', 1734.9599448944532, 2.7339999999999947, 15.285999999999998)\n('CACBExpPrime', 330.3949507006538, 1.3430000000000035, 16.200000000000003)\n('NOESY', 0.8394652749485497, [0.09048286638932693, 0.1041219112394124, 0.0880051629695609, 0.19479630386637217, 0.19069917033163117, 0.12095152750773186, 0.05040833264451425], [0.009999999999999787, 0.0030000000000001137, 0.01499999999999968, 0.014999999999998792, 0.0129999999999999, 0.03000000000000025, 0.17100000000000026])\n(31, 92)\n('CACBExp', 0.1, 0, 0)\n('CACBExpPrime', 0.1, 0, 0)\n(32, 258)\n('CACBExp', 0.1, 0.015000000000000568, 0)\n('CACBExpPrime', 0.1, 0, 0)\n('NOESY', 0.553721685564629, [0.05687291320683497, 0.0805091287115789, 0.11734021729274786, 0.2043040870858926, 0.09469533926757459], [0.02200000000000024, 0.010999999999999233, 0.009000000000000341, 0.01699999999999946, 0.17300000000000004])\n(33, 461)\n('CACBExp', 0.1, 0, 0)\n('CACBExpPrime', 0.1, 0, 0)\n(34, 456)\n('CACBExp', 0.1, 0, 0)\n('CACBExpPrime', 0.1, 0, 0)\n(35, 30)\n('CACBExp', 352.48086109604895, 1.1839999999999975, 28.028000000000002)\n('CACBExpPrime', 505.06214423098606, 1.206000000000003, 30.062000000000005)\n('NOESY', 0.4596454276214138, [0.06124540799113024, 0.07975170503758099, 0.08535722531917468, 0.09706384610703632, 0.08430452551834178, 0.051922717648149735], [0.15399999999999991, 0.14100000000000001, 0.04800000000000004, 0.02799999999999958, 0.01100000000000012, 0.01499999999999968])\n(36, 416)\n('CACBExp', 0.1, 0, 0)\n('CACBExpPrime', 0.1, 0, 0)\n"
     ]
    }
   ],
   "source": [
    "ls = eval_energy(index_list, peak_list, residue_list, energy_if_false)[1][0:150]\n",
    "for i in ls: \n",
    "    print(i)"
   ]
  },
  {
   "cell_type": "code",
   "execution_count": 5,
   "metadata": {},
   "outputs": [
    {
     "name": "stdout",
     "output_type": "stream",
     "text": [
      "hi\n"
     ]
    }
   ],
   "source": [
    "print('hi')"
   ]
  },
  {
   "cell_type": "code",
   "execution_count": 11,
   "metadata": {
    "collapsed": false
   },
   "outputs": [
    {
     "name": "stdout",
     "output_type": "stream",
     "text": [
      "5.774\n5.264\n6.311\n6.407\n6.302\n6.312\n7.019\n7.154\n6.969\n6.668\n6.884\n7.083\n7.12\n7.262\n7.518\n7.483\n7.443\n7.551\n7.492\n7.402\n7.39\n7.368\n7.43\n7.481\n7.407\n7.405\n7.412\n7.318\n7.048\n7.105\n6.923\n6.832\n7.01\n6.954\nNone\n7.053\n6.789\n6.645\n7.646\n7.68\n7.637\n7.701\n7.947\n8.019\n8.046\n8.208\n8.475\n8.74\n8.899\n8.974\n9.156\n9.26\n8.834\n9.134\n8.789\n8.48\n9.906\n9.297\n9.349\n9.51\n9.422\n9.037\n8.712\n8.412\nNone\n8.741\n8.857\n8.916\n8.858\n8.815\n8.701\n8.568\n8.628\n8.494\n8.589\n8.656\n8.71\n8.693\n9.077\n9.401\nNone\n9.552\n9.421\n9.408\n9.18\n9.048\nNone\n8.96\n8.976\n8.884\n8.858\n8.844\nNone\n8.767\n9.031\n8.226\n8.398\n8.207\n8.266\n7.992\n7.858\n7.91\n7.814\n8.57\n8.543\n8.404\n9.188\n9.27\nNone\n8.952\nNone\n8.811\nNone\n8.624\n8.62\n8.664\n8.625\n8.534\nNone\n8.557\nNone\n8.819\n8.781\n8.726\nNone\n9.198\nNone\n9.208\n9.123\n9.051\n8.792\nNone\n8.748\n8.802\n8.836\n8.84\n8.698\n8.661\n8.665\n8.596\n8.602\n8.49\n8.411\n8.374\n8.44\n8.467\n8.487\nNone\n8.414\n8.36\n8.682\n8.618\n8.475\n8.526\n8.523\n8.555\n8.379\n8.404\n8.931\nNone\n8.582\n8.477\n8.614\n8.264\n8.431\n8.203\n8.154\n8.394\n8.003\n7.892\n7.895\nNone\nNone\n8.026\nNone\n7.982\n7.866\n8.407\n8.298\n8.214\n8.341\n7.857\nNone\nNone\nNone\n7.188\n7.134\n7.066\n7.084\n7.034\n7.158\n7.138\n7.054\nNone\n6.59\n6.561\n6.601\n6.656\n6.757\n6.661\n6.689\nNone\n7.001\nNone\nNone\n7.576\n7.381\n7.318\n7.246\nNone\n7.342\n7.528\n7.569\n7.617\n7.647\n7.655\nNone\n7.609\nNone\n7.691\nNone\n7.952\nNone\n7.892\n7.861\n7.827\n7.703\n7.754\n7.802\n8.514\n8.492\nNone\nNone\nNone\n8.332\nNone\nNone\n8.258\n8.151\nNone\n8.079\n8.121\n8.092\n8.236\n8.17\nNone\nNone\nNone\n8.458\n7.358\nNone\n7.653\nNone\nNone\nNone\nNone\nNone\n7.476\n7.728\n7.781\n7.758\n7.963\n8.123\n8.182\n8.23\nNone\n8.05\n7.938\n7.747\nNone\n7.675\n7.817\n7.872\n8.07\n7.66\n2.974\n7.71\n7.739\nNone\n8.316\n8.243\n8.197\n7.806\nNone\nNone\nNone\nNone\n8.261\n8.274\n8.302\n8.289\n8.213\n8.169\n8.045\n8.018\nNone\n8.389\nNone\nNone\nNone\nNone\n8.332\n8.329\nNone\n8.28\nNone\n8.239\nNone\nNone\n8.283\n8.121\nNone\n8.046\n8.208\n8.203\nNone\n8.124\nNone\nNone\nNone\nNone\n8.005\nNone\nNone\nNone\n7.911\n7.919\nNone\nNone\nNone\nNone\nNone\n7.845\n7.827\nNone\n7.875\n6.933\nNone\nNone\nNone\nNone\nNone\nNone\nNone\nNone\nNone\nNone\nNone\nNone\nNone\nNone\nNone\nNone\nNone\nNone\nNone\nNone\nNone\nNone\nNone\nNone\nNone\nNone\nNone\nNone\nNone\nNone\nNone\nNone\nNone\nNone\nNone\nNone\nNone\nNone\nNone\nNone\nNone\nNone\nNone\nNone\nNone\nNone\nNone\nNone\nNone\nNone\nNone\nNone\nNone\nNone\nNone\nNone\nNone\nNone\nNone\nNone\nNone\nNone\nNone\nNone\nNone\nNone\nNone\nNone\nNone\nNone\nNone\nNone\nNone\nNone\nNone\nNone\nNone\nNone\nNone\nNone\nNone\nNone\nNone\nNone\nNone\nNone\nNone\nNone\nNone\nNone\nNone\nNone\nNone\nNone\nNone\nNone\nNone\nNone\nNone\nNone\nNone\nNone\nNone\nNone\nNone\nNone\nNone\nNone\nNone\nNone\nNone\nNone\nNone\nNone\nNone\nNone\nNone\nNone\nNone\nNone\nNone\nNone\nNone\nNone\nNone\nNone\nNone\nNone\nNone\nNone\nNone\nNone\nNone\nNone\nNone\nNone\nNone\n"
     ]
    }
   ],
   "source": [
    "for i in peak_list:\n",
    "    print(i.get_data('HNCAHShift'))"
   ]
  },
  {
   "cell_type": "code",
   "execution_count": null,
   "metadata": {},
   "outputs": [],
   "source": []
  }
 ],
 "metadata": {
  "kernelspec": {
   "display_name": "Python 2",
   "language": "python",
   "name": "python2"
  },
  "language_info": {
   "codemirror_mode": {
    "name": "ipython",
    "version": 2
   },
   "file_extension": ".py",
   "mimetype": "text/x-python",
   "name": "python",
   "nbconvert_exporter": "python",
   "pygments_lexer": "ipython2",
   "version": "2.7.6"
  }
 },
 "nbformat": 4,
 "nbformat_minor": 0
}
