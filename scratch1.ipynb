{
 "cells": [
  {
   "cell_type": "code",
   "execution_count": null,
   "outputs": [],
   "source": [
    "import pandas as pd\n",
    "from DataProcessing import main_data_processing, distance_formula\n",
    "import plotly.graph_objects as go\n",
    "outside_assignment_df = pd.read_table('/Volumes/Transcend/fawzi_pycharm_project/fto_assignment_files/Full_length/Run/assigned_peaks_res.out', sep=' +')\n",
    "outside_peaks_df = pd.read_table('/Volumes/Transcend/fawzi_pycharm_project/fto_assignment_files/Full_length/CS17_FTO', sep=' +', index_col=False)\n",
    "peak_list, residue_list = main_data_processing()\n",
    "\n",
    "outside_peaks_df['N_'] = [float(x)+.23 for x in outside_peaks_df['N']]\n",
    "outside_peaks_df['H_'] = [float(x)+.08 for x in outside_peaks_df['H']]\n",
    "outside_peaks_df['CO-1'] = [float(x) if x != '-' else '-' for x in outside_peaks_df['CO-1']]"
   ],
   "metadata": {
    "collapsed": false,
    "pycharm": {
     "name": "#%%\n"
    }
   }
  },
  {
   "cell_type": "code",
   "execution_count": null,
   "outputs": [],
   "source": [
    "old_match_list = [[] for x in range(len(outside_peaks_df))]\n",
    "H_tolerance = .05\n",
    "N_tolerance = .15\n",
    "C_tolerance = .1\n",
    "total = 0\n",
    "no_match = 0\n",
    "nh_match = 0\n",
    "co_discrim = 0\n",
    "no_co_discrim = 0\n",
    "ambiguous = 0\n",
    "for peak in peak_list:\n",
    "    h_shift = peak.get_data('TROSYHShift')\n",
    "    n_shift = peak.get_data('TROSYNShift')\n",
    "    if h_shift is not None:\n",
    "        total += 1\n",
    "        ca_shift = peak.get_data('CAShift')\n",
    "        cb_shift = peak.get_data('CBShift')\n",
    "        ca_prime_shift = peak.get_data('CAPrimeShift')\n",
    "        cb_prime_shift = peak.get_data('CBPrimeShift')\n",
    "        co_prime_shift = peak.get_data('COPrimeShift')\n",
    "        df = outside_peaks_df[(abs(outside_peaks_df['N_'] - n_shift) < N_tolerance) & (abs(outside_peaks_df['H_'] - h_shift) < H_tolerance)]\n",
    "        # if there are no matches\n",
    "        if len(df) == 0:\n",
    "            # print('no matches for')\n",
    "            no_match += 1\n",
    "        # if there is exactly one match\n",
    "        elif len(df) == 1:\n",
    "            nh_match += 1\n",
    "            old_match_list[df.index[0]].append(peak)\n",
    "        # if it is ambiguous\n",
    "        elif len(df) > 1:\n",
    "            # see if co discrimination works\n",
    "            # checks to see if all the new peak have CO shifts\n",
    "            if co_prime_shift is not None and len(df[df['CO-1'] == '-']) == 0:\n",
    "                df = df[(abs(df['CO-1'] - co_prime_shift) < 1)]\n",
    "                # successful co discrimination case\n",
    "                if len(df) == 1:\n",
    "                    co_discrim += 1\n",
    "                    old_match_list[df.index[0]].append(peak)\n",
    "                # unsuccessful\n",
    "                else:\n",
    "                    ambiguous += 1\n",
    "                    print('h:', h_shift, 'n:', n_shift, 'ca:', ca_shift, 'ca-1', ca_prime_shift,\n",
    "                                          'cb:', cb_shift, 'cb-1:', cb_prime_shift, 'co-1:', co_prime_shift)\n",
    "                    print(df, '\\n\\n')\n",
    "            else:\n",
    "                print('h:', h_shift, 'n:', n_shift, 'ca:', ca_shift, 'ca-1', ca_prime_shift,\n",
    "                      'cb:', cb_shift, 'cb-1:', cb_prime_shift, 'co-1:', co_prime_shift)\n",
    "                print(df, '\\n\\n')\n",
    "                ambiguous += 1\n",
    "print('total:', total, 'NH Match:', nh_match,\n",
    "      'no match:', no_match, 'co discrim:', co_discrim, 'ambiguous:', ambiguous)\n",
    "\n",
    "outside_peaks_df['old match'] = old_match_list"
   ],
   "metadata": {
    "collapsed": false,
    "pycharm": {
     "name": "#%%\n"
    }
   }
  },
  {
   "cell_type": "code",
   "execution_count": null,
   "outputs": [],
   "source": [
    "a, b, c  = 0, 0, 0\n",
    "for index in range(len(outside_peaks_df)):\n",
    "    if len(outside_peaks_df['old match'][index]) == 1:\n",
    "        peak = outside_peaks_df['old match'][index][0]\n",
    "        if peak.get_data('CAShift') is not None and outside_peaks_df['CA'][index] == '-':\n",
    "            # print(outside_peaks_df.iloc[index, :])\n",
    "            # print(peak.peak_properties)\n",
    "            # print('\\n\\n')\n",
    "            a += 1\n",
    "        if peak.get_data('CAPrimeShift') is not None and outside_peaks_df['CA-1'][index] == '-':\n",
    "            # print(outside_peaks_df.iloc[index, :])\n",
    "            # print(peak.peak_properties)\n",
    "            # print('\\n\\n')\n",
    "            b += 1\n",
    "        if len(peak.get_data('NearbyHShift')) != 0:\n",
    "            print(outside_peaks_df.iloc[index, :])\n",
    "            print(peak.get_data('NearbyHShift'))\n",
    "            print('\\n\\n')\n",
    "            c += 1\n",
    "\n",
    "(a,b,c)\n"
   ],
   "metadata": {
    "collapsed": false,
    "pycharm": {
     "name": "#%%\n"
    }
   }
  },
  {
   "cell_type": "code",
   "execution_count": null,
   "outputs": [],
   "source": [
    "d = int()\n",
    "for index in range(len(outside_peaks_df)):\n",
    "    if len(outside_peaks_df['old match'][index]) > 1:\n",
    "        d += 1\n",
    "        print(outside_peaks_df.loc[index, : ])\n",
    "        for peak in outside_peaks_df.loc[index, 'old match']:\n",
    "            print('H:', peak.get_data('TROSYHShift'), 'N:', peak.get_data('TROSYNShift'),\n",
    "                  'CA:', peak.get_data('CAShift'), 'CA-1:', peak.get_data('CAPrimeShift'),\n",
    "                  'CO-1:', peak.get_data('COPrimeShift'), 'NOESY', peak.get_data('NOESYHShift'))\n",
    "        print('\\n\\n')\n",
    "\n"
   ],
   "metadata": {
    "collapsed": false,
    "pycharm": {
     "name": "#%%\n"
    }
   }
  },
  {
   "cell_type": "code",
   "execution_count": null,
   "outputs": [],
   "source": [
    "outside_peaks_df"
   ],
   "metadata": {
    "collapsed": false,
    "pycharm": {
     "name": "#%%\n"
    }
   }
  },
  {
   "cell_type": "code",
   "execution_count": null,
   "outputs": [],
   "source": [
    "\n"
   ],
   "metadata": {
    "collapsed": false,
    "pycharm": {
     "name": "#%%\n"
    }
   }
  }
 ],
 "metadata": {
  "kernelspec": {
   "display_name": "Python 3",
   "language": "python",
   "name": "python3"
  },
  "language_info": {
   "codemirror_mode": {
    "name": "ipython",
    "version": 3
   },
   "file_extension": ".py",
   "mimetype": "text/x-python",
   "name": "python",
   "nbconvert_exporter": "python",
   "pygments_lexer": "ipython3",
   "version": "3.7.6"
  }
 },
 "nbformat": 4,
 "nbformat_minor": 1
}