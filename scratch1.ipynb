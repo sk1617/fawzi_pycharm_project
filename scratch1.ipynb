{
 "cells": [
  {
   "cell_type": "code",
   "execution_count": 8,
   "outputs": [
    {
     "name": "stdout",
     "output_type": "stream",
     "text": [
      "     peaknumber     CA   CA-1     CB   CB-1   CO-1      H      N\n",
      "0             1  43.33  51.69      -  18.63  177.7  2.881  108.0\n",
      "1             2  58.54  60.79  27.00  60.54  179.8  5.667  113.9\n",
      "2             3  55.74  51.59  30.44  23.76  171.9  5.163  126.2\n",
      "3             4  49.92  49.05  15.58  19.64  174.8  6.222  122.4\n",
      "4             5  56.70  58.11  29.35  62.91  173.2  6.312  120.0\n",
      "..          ...    ...    ...    ...    ...    ...    ...    ...\n",
      "428        2036  54.24  55.42  65.85      -  174.8  7.891  119.3\n",
      "429        2037  43.99  56.31      -  44.09  180.2  8.346  111.4\n",
      "430        2038  58.55      -  29.51      -  178.3  7.806  119.3\n",
      "431        2039  70.19      -  25.51      -  171.5  7.233  116.6\n",
      "432        5011  56.60  67.62  38.38  68.01  176.5  7.699  118.3\n",
      "\n",
      "[433 rows x 8 columns]\n"
     ]
    },
    {
     "name": "stderr",
     "output_type": "stream",
     "text": [
      "/Users/sohamkale/miniconda3/envs/Fawzi_pycharm_project/lib/python3.7/site-packages/ipykernel_launcher.py:4: ParserWarning:\n",
      "\n",
      "Falling back to the 'python' engine because the 'c' engine does not support regex separators (separators > 1 char and different from '\\s+' are interpreted as regex); you can avoid this warning by specifying engine='python'.\n",
      "\n"
     ]
    }
   ],
   "source": [
    "import pandas as pd\n",
    "# from DataProcessing import main_data_processing, distance_formula\n",
    "import plotly.graph_objects as go\n",
    "outside_assignment_df = pd.read_table('/Volumes/Transcend/fawzi_pycharm_project/fto_assignment_files/Full_length/Run/assigned_peaks_res.out', sep=' +')\n",
    "outside_peaks_df = pd.read_table('/Volumes/Transcend/fawzi_pycharm_project/fto_assignment_files/Full_length/CS29_FTO', sep='\\t', index_col=False)\n",
    "# peak_list, residue_list = main_data_processing()\n",
    "print(outside_peaks_df)\n",
    "\n",
    "outside_peaks_df['N_'] = [float(x)+.23 for x in outside_peaks_df['N']]\n",
    "outside_peaks_df['H_'] = [float(x)+.08 for x in outside_peaks_df['H']]\n",
    "outside_peaks_df['CO-1'] = [float(x) if x != '-' else '-' for x in outside_peaks_df['CO-1']]"
   ],
   "metadata": {
    "collapsed": false,
    "pycharm": {
     "name": "#%%\n"
    }
   }
  },
  {
   "cell_type": "code",
   "execution_count": 7,
   "outputs": [
    {
     "ename": "NameError",
     "evalue": "name 'peak_list' is not defined",
     "output_type": "error",
     "traceback": [
      "\u001B[0;31m---------------------------------------------------------------------------\u001B[0m",
      "\u001B[0;31mNameError\u001B[0m                                 Traceback (most recent call last)",
      "\u001B[0;32m<ipython-input-7-bcf050850b59>\u001B[0m in \u001B[0;36m<module>\u001B[0;34m\u001B[0m\n\u001B[1;32m      9\u001B[0m \u001B[0mno_co_discrim\u001B[0m \u001B[0;34m=\u001B[0m \u001B[0;36m0\u001B[0m\u001B[0;34m\u001B[0m\u001B[0;34m\u001B[0m\u001B[0m\n\u001B[1;32m     10\u001B[0m \u001B[0mambiguous\u001B[0m \u001B[0;34m=\u001B[0m \u001B[0;36m0\u001B[0m\u001B[0;34m\u001B[0m\u001B[0;34m\u001B[0m\u001B[0m\n\u001B[0;32m---> 11\u001B[0;31m \u001B[0;32mfor\u001B[0m \u001B[0mpeak\u001B[0m \u001B[0;32min\u001B[0m \u001B[0mpeak_list\u001B[0m\u001B[0;34m:\u001B[0m\u001B[0;34m\u001B[0m\u001B[0;34m\u001B[0m\u001B[0m\n\u001B[0m\u001B[1;32m     12\u001B[0m     \u001B[0mh_shift\u001B[0m \u001B[0;34m=\u001B[0m \u001B[0mpeak\u001B[0m\u001B[0;34m.\u001B[0m\u001B[0mget_data\u001B[0m\u001B[0;34m(\u001B[0m\u001B[0;34m'TROSYHShift'\u001B[0m\u001B[0;34m)\u001B[0m\u001B[0;34m\u001B[0m\u001B[0;34m\u001B[0m\u001B[0m\n\u001B[1;32m     13\u001B[0m     \u001B[0mn_shift\u001B[0m \u001B[0;34m=\u001B[0m \u001B[0mpeak\u001B[0m\u001B[0;34m.\u001B[0m\u001B[0mget_data\u001B[0m\u001B[0;34m(\u001B[0m\u001B[0;34m'TROSYNShift'\u001B[0m\u001B[0;34m)\u001B[0m\u001B[0;34m\u001B[0m\u001B[0;34m\u001B[0m\u001B[0m\n",
      "\u001B[0;31mNameError\u001B[0m: name 'peak_list' is not defined"
     ]
    }
   ],
   "source": [
    "old_match_list = [[] for x in range(len(outside_peaks_df))]\n",
    "H_tolerance = .05\n",
    "N_tolerance = .15\n",
    "C_tolerance = .1\n",
    "total = 0\n",
    "no_match = 0\n",
    "nh_match = 0\n",
    "co_discrim = 0\n",
    "no_co_discrim = 0\n",
    "ambiguous = 0\n",
    "for peak in peak_list:\n",
    "    h_shift = peak.get_data('TROSYHShift')\n",
    "    n_shift = peak.get_data('TROSYNShift')\n",
    "    if h_shift is not None:\n",
    "        total += 1\n",
    "        ca_shift = peak.get_data('CAShift')\n",
    "        cb_shift = peak.get_data('CBShift')\n",
    "        ca_prime_shift = peak.get_data('CAPrimeShift')\n",
    "        cb_prime_shift = peak.get_data('CBPrimeShift')\n",
    "        co_prime_shift = peak.get_data('COPrimeShift')\n",
    "        df = outside_peaks_df[(abs(outside_peaks_df['N_'] - n_shift) < N_tolerance) & (abs(outside_peaks_df['H_'] - h_shift) < H_tolerance)]\n",
    "        # if there are no matches\n",
    "        if len(df) == 0:\n",
    "            # print('no matches for')\n",
    "            no_match += 1\n",
    "        # if there is exactly one match\n",
    "        elif len(df) == 1:\n",
    "            nh_match += 1\n",
    "            old_match_list[df.index[0]].append(peak)\n",
    "        # if it is ambiguous\n",
    "        elif len(df) > 1:\n",
    "            # see if co discrimination works\n",
    "            # checks to see if all the new peak have CO shifts\n",
    "            if co_prime_shift is not None and len(df[df['CO-1'] == '-']) == 0:\n",
    "                df = df[(abs(df['CO-1'] - co_prime_shift) < 1)]\n",
    "                # successful co discrimination case\n",
    "                if len(df) == 1:\n",
    "                    co_discrim += 1\n",
    "                    old_match_list[df.index[0]].append(peak)\n",
    "                # unsuccessful\n",
    "                else:\n",
    "                    ambiguous += 1\n",
    "                    print('h:', h_shift, 'n:', n_shift, 'ca:', ca_shift, 'ca-1', ca_prime_shift,\n",
    "                                          'cb:', cb_shift, 'cb-1:', cb_prime_shift, 'co-1:', co_prime_shift)\n",
    "                    print(df, '\\n\\n')\n",
    "            else:\n",
    "                print('h:', h_shift, 'n:', n_shift, 'ca:', ca_shift, 'ca-1', ca_prime_shift,\n",
    "                      'cb:', cb_shift, 'cb-1:', cb_prime_shift, 'co-1:', co_prime_shift)\n",
    "                print(df, '\\n\\n')\n",
    "                ambiguous += 1\n",
    "print('total:', total, 'NH Match:', nh_match,\n",
    "      'no match:', no_match, 'co discrim:', co_discrim, 'ambiguous:', ambiguous)\n",
    "\n",
    "outside_peaks_df['old match'] = old_match_list"
   ],
   "metadata": {
    "collapsed": false,
    "pycharm": {
     "name": "#%%\n"
    }
   }
  },
  {
   "cell_type": "code",
   "execution_count": null,
   "outputs": [],
   "source": [
    "a, b, c  = 0, 0, 0\n",
    "for index in range(len(outside_peaks_df)):\n",
    "    if len(outside_peaks_df['old match'][index]) == 1:\n",
    "        peak = outside_peaks_df['old match'][index][0]\n",
    "        if peak.get_data('CAShift') is not None and outside_peaks_df['CA'][index] == '-':\n",
    "            # print(outside_peaks_df.iloc[index, :])\n",
    "            # print(peak.peak_properties)\n",
    "            # print('\\n\\n')\n",
    "            a += 1\n",
    "        if peak.get_data('CAPrimeShift') is not None and outside_peaks_df['CA-1'][index] == '-':\n",
    "            # print(outside_peaks_df.iloc[index, :])\n",
    "            # print(peak.peak_properties)\n",
    "            # print('\\n\\n')\n",
    "            b += 1\n",
    "        if len(peak.get_data('NearbyHShift')) != 0:\n",
    "            print(outside_peaks_df.iloc[index, :])\n",
    "            print(peak.get_data('NearbyHShift'))\n",
    "            print('\\n\\n')\n",
    "            c += 1\n",
    "\n",
    "(a,b,c)\n"
   ],
   "metadata": {
    "collapsed": false,
    "pycharm": {
     "name": "#%%\n"
    }
   }
  },
  {
   "cell_type": "code",
   "execution_count": null,
   "outputs": [],
   "source": [
    "d = int()\n",
    "for index in range(len(outside_peaks_df)):\n",
    "    if len(outside_peaks_df['old match'][index]) > 1:\n",
    "        d += 1\n",
    "        print(outside_peaks_df.loc[index, : ])\n",
    "        for peak in outside_peaks_df.loc[index, 'old match']:\n",
    "            print('H:', peak.get_data('TROSYHShift'), 'N:', peak.get_data('TROSYNShift'),\n",
    "                  'CA:', peak.get_data('CAShift'), 'CA-1:', peak.get_data('CAPrimeShift'),\n",
    "                  'CO-1:', peak.get_data('COPrimeShift'), 'NOESY', peak.get_data('NOESYHShift'))\n",
    "        print('\\n\\n')\n",
    "\n"
   ],
   "metadata": {
    "collapsed": false,
    "pycharm": {
     "name": "#%%\n"
    }
   }
  },
  {
   "cell_type": "code",
   "execution_count": null,
   "outputs": [],
   "source": [
    "outside_peaks_df"
   ],
   "metadata": {
    "collapsed": false,
    "pycharm": {
     "name": "#%%\n"
    }
   }
  },
  {
   "cell_type": "code",
   "execution_count": null,
   "outputs": [],
   "source": [
    "\n"
   ],
   "metadata": {
    "collapsed": false,
    "pycharm": {
     "name": "#%%\n"
    }
   }
  }
 ],
 "metadata": {
  "kernelspec": {
   "display_name": "Python 3",
   "language": "python",
   "name": "python3"
  },
  "language_info": {
   "codemirror_mode": {
    "name": "ipython",
    "version": 3
   },
   "file_extension": ".py",
   "mimetype": "text/x-python",
   "name": "python",
   "nbconvert_exporter": "python",
   "pygments_lexer": "ipython3",
   "version": "3.7.6"
  }
 },
 "nbformat": 4,
 "nbformat_minor": 1
}