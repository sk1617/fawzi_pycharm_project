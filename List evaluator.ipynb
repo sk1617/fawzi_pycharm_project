{
 "cells": [
  {
   "cell_type": "code",
   "execution_count": 4,
   "metadata": {
    "collapsed": true
   },
   "outputs": [],
   "source": [
    "from tpe_DataProcessing import * \n",
    "from tpe_EnergyFunctions import * \n",
    "peak_list, residue_list = main_data_processing()\n"
   ]
  },
  {
   "cell_type": "code",
   "execution_count": 5,
   "metadata": {},
   "outputs": [],
   "source": [
    "perfect_list = [x for x in range(74)]\n",
    "\n",
    "it = sequence_list.__iter__()\n",
    "w = 80\n",
    "v = 0 \n",
    "for u, thing in enumerate(it): \n",
    "    if thing == 'P': \n",
    "        v += 1\n",
    "        perfect_list.insert(u, w - v)"
   ]
  },
  {
   "cell_type": "code",
   "execution_count": 6,
   "metadata": {
    "collapsed": false
   },
   "outputs": [],
   "source": [
    "list1 = [43, 1, 2, 3, 4, 5, 6, 7, 8, 9, 10, 11, 12, 13, 79, 14, 15, 16, 77, 17, 18, 46, 47, 48, 22, 23, 24, 25, 26, 27, 28, 29, 30, 31, 32, 49, 33, 34, 35, 36, 37, 38, 39, 40, 41, 71, 50, 51, 52, 53, 54, 0, 75, 44, 45, 78, 19, 20, 21, 55, 56, 57, 58, 74, 59, 60, 61, 62, 63, 64, 65, 66, 67, 68, 69, 70, 76, 42, 72, 73]\n"
   ]
  },
  {
   "cell_type": "code",
   "execution_count": 15,
   "metadata": {
    "collapsed": false
   },
   "outputs": [
    {
     "name": "stdout",
     "output_type": "stream",
     "text": [
      "(0, 43)\n('CACAPrime', 3933.3286298609623, 1.0600000000000023)\n('CBCBPrime', 674.3709695595176, -0.6709999999999994)\n('CACBExp', 0.0, 1.3150000000000048, 0.8729999999999976)\n('NOESY', 1083.3071367789184, [1083.1525043620668, 0.0562454258415493, 0.04919349550499538, 0.04919349550499538], [0.1039999999999992, 0.018000000000000682, 0.0, 0.0])\n(1, 1)\n('CACAPrime', 268.9969177606025, 0.32100000000000506)\n('CBCBPrime', 0.1, 0.1039999999999992)\n('CACBExp', 0.0, 0.4540000000000006, 0.009000000000000341)\n('NOESY', 1280.161230674543, [1083.1525043620668, 0.13635730148456685, 0.04919349550499538, 0.04919349550499538, 196.7739820199815], [0.09700000000000042, 0.0, 0.0, 0.0030000000000001137, 0.02099999999999902])\n{'peakNumber': 0, 'TROSYHShift': 8.471, 'TROSYNShift': 120.529, 'TROSYSignalNoise': 845.0, 'HNCAHShift': 8.471, 'HNCANShift': 120.519, 'CAShift': 55.653, 'HNCASignalNoise': 1508.0, 'HNCOCAHShift': None, 'HNCOCANShift': None, 'CAPrimeShift': None, 'HNCOCASignalNoise': None, 'HNCOCACBHShift': None, 'HNCOCACBNShift': None, 'CBPrimeShift': None, 'HNCOCACBSignalNoise': None, 'HNCACBHShift': 8.47, 'HNCACBNShift': 120.573, 'CBShift': 32.875, 'HNCACBSignalNoise': 908.0, 'HNCOHShift': None, 'HNCONShift': None, 'COPrimeShift': None, 'HNCOSignalNoise': None, 'NOESYHShift': [8.471, 8.471, 8.471, 8.471, 8.471, 8.471, 8.471, 8.471, 8.471, 8.471, 8.471, 8.471, 8.471, 8.471, 8.471, 8.471, 8.471], 'NOESYNShift': [120.529, 120.529, 120.529, 120.529, 120.529, 120.529, 120.529, 120.529, 120.529, 120.529, 120.529, 120.529, 120.529, 120.529, 120.529, 120.529, 120.529], 'NearbyHShift': [8.149, 8.277, 8.139, 8.932, 7.864, 9.299, 9.027, 7.625, 8.233, 7.899, 8.547, 8.526, 8.395, 8.045, 7.92, 8.529, 8.594], 'NOESYSignalNoise': [20.0, 20.0, 20.0, 20.0, 20.0, 20.0, 20.0, 20.0, 20.0, 20.0, 20.0, 20.0, 20.0, 20.0, 20.0, 20.0, 20.0]}\n{'residue_name': 'M', 'index': 1, 'secondaryStructure': None, 'CAExpected': 55.12, 'CAExpectedSD': 1.79, 'CBExpected': 32.93, 'CBExpectedSD': 3.05, 'closebyAminoAcids': [2, 3, 23, 24], 'closebyAminoAcidsDist': [4.5208, 6.61295, 7.70281, 7.87407], 'secondary_structure': 'R'}\n"
     ]
    }
   ],
   "source": [
    "c = 0\n",
    "delta_list = eval_energy(list1, peak_list, residue_list, 200.)[1]\n",
    "for line in delta_list:\n",
    "    c += 1\n",
    "    if c > 10: break\n",
    "    print(line)\n",
    "\n",
    "for i in range(1):\n",
    "    print(peak_list[i].peak_properties)\n",
    "    print(residue_list[i].residue_properties)"
   ]
  },
  {
   "cell_type": "code",
   "execution_count": 21,
   "metadata": {},
   "outputs": [
    {
     "name": "stderr",
     "output_type": "stream",
     "text": [
      "/Users/sohamkale/anaconda/lib/python3.6/site-packages/pandas/core/indexes/api.py:77: RuntimeWarning: '<' not supported between instances of 'str' and 'int', sort order is undefined for incomparable objects\n  result = result.union(other)\n"
     ]
    },
    {
     "data": {
      "text/html": [
       "<div>\n",
       "<style>\n",
       "    .dataframe thead tr:only-child th {\n",
       "        text-align: right;\n",
       "    }\n",
       "\n",
       "    .dataframe thead th {\n",
       "        text-align: left;\n",
       "    }\n",
       "\n",
       "    .dataframe tbody tr th {\n",
       "        vertical-align: top;\n",
       "    }\n",
       "</style>\n",
       "<table border=\"1\" class=\"dataframe\">\n",
       "  <thead>\n",
       "    <tr style=\"text-align: right;\">\n",
       "      <th></th>\n",
       "      <th>PAI</th>\n",
       "      <th>Residue</th>\n",
       "      <th>CAShift</th>\n",
       "      <th>CAPrimeShift</th>\n",
       "      <th>CANRG</th>\n",
       "      <th>CADel</th>\n",
       "      <th>CBShift</th>\n",
       "      <th>CBPrimeShift</th>\n",
       "      <th>CBNRG</th>\n",
       "      <th>CBDel</th>\n",
       "      <th>CAExp</th>\n",
       "      <th>CAExpDel</th>\n",
       "      <th>CBExp</th>\n",
       "      <th>CBExpDel</th>\n",
       "      <th>CACBExpNRG</th>\n",
       "      <th>NOESYNRG</th>\n",
       "      <th>closebyAA</th>\n",
       "      <th>CBAA's Hshift</th>\n",
       "      <th>nearbyHShift</th>\n",
       "    </tr>\n",
       "  </thead>\n",
       "  <tbody>\n",
       "  </tbody>\n",
       "</table>\n",
       "</div>"
      ],
      "text/plain": [
       "<div>\n",
       "<style>\n",
       "    .dataframe thead tr:only-child th {\n",
       "        text-align: right;\n",
       "    }\n",
       "\n",
       "    .dataframe thead th {\n",
       "        text-align: left;\n",
       "    }\n",
       "\n",
       "    .dataframe tbody tr th {\n",
       "        vertical-align: top;\n",
       "    }\n",
       "</style>\n",
       "<table border=\"1\" class=\"dataframe\">\n",
       "  <thead>\n",
       "    <tr style=\"text-align: right;\">\n",
       "      <th></th>\n",
       "      <th>PAI</th>\n",
       "      <th>Residue</th>\n",
       "      <th>CAShift</th>\n",
       "      <th>CAPrimeShift</th>\n",
       "      <th>CANRG</th>\n",
       "      <th>CADel</th>\n",
       "      <th>CBShift</th>\n",
       "      <th>CBPrimeShift</th>\n",
       "      <th>CBNRG</th>\n",
       "      <th>CBDel</th>\n",
       "      <th>CAExp</th>\n",
       "      <th>CAExpDel</th>\n",
       "      <th>CBExp</th>\n",
       "      <th>CBExpDel</th>\n",
       "      <th>CACBExpNRG</th>\n",
       "      <th>NOESYNRG</th>\n",
       "      <th>closebyAA</th>\n",
       "      <th>CBAA's Hshift</th>\n",
       "      <th>nearbyHShift</th>\n",
       "    </tr>\n",
       "  </thead>\n",
       "  <tbody>\n",
       "  </tbody>\n",
       "</table>\n",
       "</div>"
      ]
     },
     "execution_count": 21,
     "metadata": {},
     "output_type": "execute_result"
    }
   ],
   "source": [
    "import pandas as pd\n",
    "data_frame = pd.DataFrame(columns=['PAI', 'Residue', \n",
    "                                  'CAShift', 'CAPrimeShift', 'CANRG', 'CADel', 'CBShift', 'CBPrimeShift', 'CBNRG', 'CBDel',\n",
    "                                  'CAExp', 'CAExpDel', 'CBExp', 'CBExpDel', 'CACBExpNRG', \n",
    "                                  'NOESYNRG', 'closebyAA', 'CBAA\\'s Hshift', 'nearbyHShift'])\n",
    "# delta_list_iter, list1, sequence_list, peak list, residue list\n",
    "\n",
    "int_iter = iter([x for x in range(500)])\n",
    "delta_list_iter = iter(delta_list)\n",
    "line = next(delta_list_iter) \n",
    "while True: \n",
    "    try: \n",
    "        if type(line[0]) is int: \n",
    "            assert next(int_iter) == line[0]\n",
    "            pai = line[1]\n",
    "            index = line[0]\n",
    "        # residue\n",
    "        residue_name = sequence_list[index]\n",
    "        residue = residue_list[index]\n",
    "        CAExp = residue.get_data('CAExpected')\n",
    "        CBExp = residue.get_data('CBExpected')\n",
    "        closebyAA = residue.get_data('closebyAminoAcids')\n",
    "        CBAAHShift = []\n",
    "        for i in closebyAA: \n",
    "            CBAAHShift.append(peak_list[list1[i - 1]].get_data('TROSYHShift'))\n",
    "        peak = peak_list[index]\n",
    "        CAShift = peak.get_data('CAShift')\n",
    "        CBShift = peak.get_data('CBShift')\n",
    "        CAPrimeShift = peak.get_data('CAPrimeShift')\n",
    "        CBPrimeShift = peak.get_data('CBPrimeShift')\n",
    "        nearbyHShift = peak.get_data('NearbyHShift')\n",
    "        \n",
    "        line = next(delta_list_iter)\n",
    "        if line[0] == 'CACAPrime': \n",
    "            CANRG = line[1]\n",
    "            CADel = line[2]\n",
    "            line = next(delta_list_iter)\n",
    "        else: \n",
    "            CANRG = 0 \n",
    "            CADel = 0 \n",
    "        \n",
    "        if line[0] == 'CBCBPrime': \n",
    "            CBNRG = line[1]\n",
    "            CBDel = line[2]\n",
    "            line = next(delta_list_iter)\n",
    "        else: \n",
    "            CBNRG = 0 \n",
    "            CBDel = 0 \n",
    "        \n",
    "        if line[0] == 'CACBExp': \n",
    "            CACBExpNRG = line[1]\n",
    "            CAExpDel = line[2]\n",
    "            CBExpDel = line[3] \n",
    "            line = next(delta_list_iter)\n",
    "        else: \n",
    "            CACBExpNRG = 0 \n",
    "            CAExpDel = 0 \n",
    "            CBExpDel = 0\n",
    "            \n",
    "        if line[0] == 'NOESY': \n",
    "            NOESYNRG = line[1]\n",
    "        else: \n",
    "            NOESYNRG = 0 \n",
    "        \n",
    "        df = pd.DataFrame([pai, residue_name, CAShift, CAPrimeShift, CANRG, CADel, CBShift, \n",
    "                           CBPrimeShift, CBNRG, CBDel, \n",
    "                           CAExp, CAExpDel, CBExp, CBExpDel, CACBExpNRG,\n",
    "                           NOESYNRG, closebyAA, CBAAHShift, nearbyHShift])\n",
    "        data_frame.append(df, ignore_index = True)\n",
    "        \n",
    "    except StopIteration: \n",
    "        break        \n",
    "data_frame"
   ]
  },
  {
   "cell_type": "code",
   "execution_count": null,
   "metadata": {},
   "outputs": [],
   "source": [
    ""
   ]
  }
 ],
 "metadata": {
  "kernelspec": {
   "display_name": "Python 2",
   "language": "python",
   "name": "python2"
  },
  "language_info": {
   "codemirror_mode": {
    "name": "ipython",
    "version": 2
   },
   "file_extension": ".py",
   "mimetype": "text/x-python",
   "name": "python",
   "nbconvert_exporter": "python",
   "pygments_lexer": "ipython2",
   "version": "2.7.6"
  }
 },
 "nbformat": 4,
 "nbformat_minor": 0
}
