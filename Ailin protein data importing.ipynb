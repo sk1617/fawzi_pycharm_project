{
 "cells": [
  {
   "cell_type": "code",
   "execution_count": 1,
   "metadata": {
    "collapsed": false
   },
   "outputs": [],
   "source": [
    "tr = open('Full 2np4 peak list/TDP1-80-S48E-HSQC copy.txt', 'r')\n",
    "f1 = open('Full 2np4 peak list/TDP1-80-S48E-HNCACB copy.txt', 'r')\n",
    "f2 = open('Full 2np4 peak list/TDP1-80-S48E-CBCACONH copy.txt', 'r')\n",
    "\n",
    "\n",
    "TROSY = []\n",
    "HNCA = []\n",
    "HNCACB = []\n",
    "HNCOCA = []\n",
    "HNCOCACB = []\n",
    "\n",
    "for line in f1.readlines(): \n",
    "    split = line.split()\n",
    "    if len(split) == 0: \n",
    "        continue\n",
    "    elif split[0][-6:] == 'CB-N-H':\n",
    "        split.insert(4, 1.)\n",
    "        for i in range (1,6):\n",
    "            split[i] = float(split[i])\n",
    "        HNCACB.append(split)\n",
    "    elif split[0][-6:] == 'CA-N-H': \n",
    "        split.insert(4, 1.)\n",
    "        for i in range(1, 6):\n",
    "            split[i] = float(split[i])\n",
    "        HNCA.append(split)   \n",
    "        \n",
    "for line in f2.readlines(): \n",
    "    split = line.split()\n",
    "    if len(split) == 0: \n",
    "        continue\n",
    "    elif 'CA-' in split[0]: \n",
    "        split.insert(4, 1.)\n",
    "        for i in range(1,6):\n",
    "            split[i] = float(split[i])\n",
    "        HNCOCA.append(split)\n",
    "\n",
    "    elif 'CB-' in split[0]: \n",
    "        split.insert(4, 1.)\n",
    "        for i in range(1,6):\n",
    "            split[i] = float(split[i])\n",
    "        HNCOCACB.append(split)\n",
    "        \n",
    "for line in tr.readlines():\n",
    "    split = line.split()\n",
    "    if len(split) == 0:\n",
    "        continue\n",
    "    elif split[0] == 'Assignment':\n",
    "        continue\n",
    "    else:\n",
    "        split.insert(3, 1.)\n",
    "        for i in range(1,5):\n",
    "            split[i] = float(split[i])\n",
    "        TROSY.append(split)"
   ]
  },
  {
   "cell_type": "code",
   "execution_count": 16,
   "metadata": {},
   "outputs": [
    {
     "name": "stdout",
     "output_type": "stream",
     "text": [
      "[[2, 'ALA', 'HN', 3, 'GLY', 'HN', 2.67514], [2, 'ALA', 'HN', 4, 'SER', 'HN', 6.65903], [2, 'ALA', 'HN', 5, 'HIS', 'HN', 9.49167], [2, 'ALA', 'HN', 6, 'HIS', 'HN', 10.5852], [2, 'ALA', 'HN', 7, 'HIS', 'HN', 10.4614], [2, 'ALA', 'HN', 8, 'HIS', 'HN', 13.9199], [2, 'ALA', 'HN', 77, 'ASP', 'HN', 14.8994], [3, 'GLY', 'HN', 2, 'ALA', 'HN', 2.67514], [3, 'GLY', 'HN', 4, 'SER', 'HN', 4.07635], [3, 'GLY', 'HN', 5, 'HIS', 'HN', 7.02451]]\n\n['M1N-H', 120.529, 8.471, 1.0, 845.0]\n['S2N-H', 116.36, 8.149, 1.0, 325.0]\n['E3N-H', 122.327, 8.277, 1.0, 1348.0]\n['Y4N-H', 119.462, 8.139, 1.0, 640.0]\n['I5N-H', 116.235, 8.932, 1.0, 747.0]\n['R6N-H', 123.388, 8.653, 1.0, 588.0]\n['V7N-H', 122.055, 9.014, 1.0, 1029.0]\n['T8N-H', 117.969, 8.676, 1.0, 1280.0]\n['E9N-H', 122.683, 8.739, 1.0, 1222.0]\n['D10N-H', 119.422, 7.973, 1.0, 1483.0]\n['E11N-H', 126.216, 9.252, 1.0, 1195.0]\n['N12N-H', 117.01, 9.07, 1.0, 1625.0]\n['D13N-H', 121.135, 8.049, 1.0, 1792.0]\n['E14N-H', 123.152, 8.609, 1.0, 2241.0]\n['I16N-H', 118.733, 9.209, 1.0, 1057.0]\n['E17N-H', 121.754, 8.26, 1.0, 485.0]\n['I18N-H', 123.861, 9.285, 1.0, 353.0]\n['S20N-H', 114.173, 7.864, 1.0, 849.0]\n['E21N-H', 118.317, 9.299, 1.0, 864.0]\n['D22N-H', 122.358, 9.027, 1.0, 1192.0]\n['D23N-H', 115.547, 7.625, 1.0, 1501.0]\n['G24N-H', 107.938, 8.233, 1.0, 1083.0]\n['T25N-H', 113.583, 7.899, 1.0, 960.0]\n['V26N-H', 117.679, 8.547, 1.0, 848.0]\n['L27N-H', 125.875, 8.526, 1.0, 922.0]\n['L28N-H', 125.478, 8.698, 1.0, 1201.0]\n['S29N-H', 112.601, 8.733, 1.0, 1309.0]\n['T30N-H', 121.491, 7.507, 1.0, 1281.0]\n['V31N-H', 120.932, 7.291, 1.0, 910.0]\n['T32N-H', 112.618, 9.23, 1.0, 606.0]\n['A33N-H', 122.192, 7.304, 1.0, 1419.0]\n['Q34N-H', 112.704, 6.891, 1.0, 715.0]\n['F35N-H', 118.009, 8.314, 1.0, 866.0]\n['G37N-H', 111.101, 8.783, 1.0, 936.0]\n['A38N-H', 122.546, 8.036, 1.0, 1780.0]\n['C39N-H', 112.546, 9.055, 1.0, 1035.0]\n['G40N-H', 107.466, 7.405, 1.0, 898.0]\n['L41N-H', 118.286, 8.923, 1.0, 234.0]\n['R42N-H', 120.039, 9.55, 1.0, 1158.0]\n['Y43N-H', 115.888, 9.033, 1.0, 1247.0]\n['R44N-H', 121.345, 8.978, 1.0, 1326.0]\n['N45N-H', 127.555, 8.819, 1.0, 1114.0]\n['V47N-H', 115.761, 7.645, 1.0, 1619.0]\n['E48N-H', 118.268, 7.722, 1.0, 694.0]\n['Q49N-H', 114.355, 8.295, 1.0, 544.0]\n['C50N-H', 113.187, 7.392, 1.0, 1587.0]\n['M51N-H', 120.5, 8.597, 1.0, 373.0]\n['R52N-H', 123.451, 8.996, 1.0, 1035.0]\n['G53N-H', 106.401, 8.505, 1.0, 535.0]\n['V54N-H', 124.498, 8.316, 1.0, 72.0]\n['R55N-H', 132.095, 9.395, 1.0, 1010.0]\n['L56N-H', 129.481, 8.174, 1.0, 121.0]\n['V57N-H', 127.815, 9.287, 1.0, 920.0]\n['E58N-H', 128.203, 9.548, 1.0, 755.0]\n['G59N-H', 102.621, 8.323, 1.0, 1244.0]\n['I60N-H', 123.891, 8.176, 1.0, 1372.0]\n['L61N-H', 128.833, 9.301, 1.0, 1073.0]\n['H62N-H', 121.045, 8.439, 1.0, 307.0]\n['A63N-H', 125.434, 8.395, 1.0, 1474.0]\n['D65N-H', 122.223, 8.442, 1.0, 489.0]\n['A66N-H', 118.462, 8.045, 1.0, 1167.0]\n['G67N-H', 108.072, 7.92, 1.0, 1420.0]\n['W68N-H', 120.037, 8.529, 1.0, 1384.0]\n['G69N-H', 103.276, 8.594, 1.0, 1181.0]\n['N70N-H', 119.882, 8.726, 1.0, 478.0]\n['L71N-H', 118.121, 6.936, 1.0, 1163.0]\n['V72N-H', 118.262, 7.81, 1.0, 1609.0]\n['Y73N-H', 127.793, 8.934, 1.0, 1070.0]\n['V74N-H', 122.745, 9.476, 1.0, 1021.0]\n['V75N-H', 123.545, 7.939, 1.0, 733.0]\n['N76N-H', 122.469, 7.795, 1.0, 807.0]\n['Y77N-H', 122.067, 8.613, 1.0, 389.0]\n['K79N-H', 121.199, 8.273, 1.0, 494.0]\n['D80N-H', 127.168, 7.95, 1.0, 3206.0]\n"
     ]
    }
   ],
   "source": [
    "FTOList = list()\n",
    "ftolist_file = open('Full 2np4 peak list/2n4p distances copy.txt')\n",
    "for line in ftolist_file.readlines():\n",
    "    split = line.split()\n",
    "    split[0], split[1] = split[1], split[0]\n",
    "    split[3], split[4] = split[4], split[3]\n",
    "    split[0] = int(split[0])\n",
    "    split[3] = int(split[3])\n",
    "    split[6] = float(split[6])\n",
    "    FTOList.append(split)\n",
    "\n",
    "print(FTOList[:10], end='\\n\\n')\n",
    "for i in TROSY:\n",
    "    print(i)"
   ]
  },
  {
   "cell_type": "code",
   "execution_count": 18,
   "metadata": {},
   "outputs": [
    {
     "name": "stdout",
     "output_type": "stream",
     "text": [
      "[('2N-NH', 8.676, 116.36, 8.149, 0.0, 20.0), ('2N-NH', 8.676, 116.36, 8.149, 0.0, 20.0), ('2N-NH', 8.676, 116.36, 8.149, 0.0, 20.0), ('2N-NH', 8.676, 116.36, 8.149, 0.0, 20.0), ('2N-NH', 8.676, 116.36, 8.149, 0.0, 20.0), ('2N-NH', 8.676, 116.36, 8.149, 0.0, 20.0), ('2N-NH', 8.676, 116.36, 8.149, 0.0, 20.0), ('3N-NH', 8.676, 116.36, 8.149, 0.0, 20.0), ('3N-NH', 8.676, 116.36, 8.149, 0.0, 20.0), ('3N-NH', 8.676, 116.36, 8.149, 0.0, 20.0)]\n"
     ]
    }
   ],
   "source": [
    "NOESY = []\n",
    "for closeby_line in FTOList: \n",
    "    pk_num = closeby_line[0] \n",
    "    close_pk_num = closeby_line[3]\n",
    "    for line in TROSY: \n",
    "        x = line[0].index('N')\n",
    "        if line[0][2:x] == pk_num: \n",
    "            pk_H = TROSY[pk_num - 1][2]\n",
    "            pk_N = TROSY[pk_num - 1][1]\n",
    "        elif line[0][2:x] == close_pk_num:\n",
    "            clpk_H = TROSY[close_pk_num - 1][2]\n",
    "    \n",
    "    app = ('{}N-NH'.format(pk_num), clpk_H, pk_N, pk_H, 0.0, 20.0)\n",
    "    NOESY.append(app)\n",
    "print(NOESY[:10])"
   ]
  },
  {
   "cell_type": "code",
   "execution_count": null,
   "metadata": {},
   "outputs": [],
   "source": [
    ""
   ]
  }
 ],
 "metadata": {
  "kernelspec": {
   "display_name": "Python 2",
   "language": "python",
   "name": "python2"
  },
  "language_info": {
   "codemirror_mode": {
    "name": "ipython",
    "version": 2
   },
   "file_extension": ".py",
   "mimetype": "text/x-python",
   "name": "python",
   "nbconvert_exporter": "python",
   "pygments_lexer": "ipython2",
   "version": "2.7.6"
  }
 },
 "nbformat": 4,
 "nbformat_minor": 0
}
