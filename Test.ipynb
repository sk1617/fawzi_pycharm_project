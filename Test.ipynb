{
 "cells": [
  {
   "cell_type": "code",
   "execution_count": 1,
   "metadata": {
    "collapsed": true
   },
   "outputs": [
    {
     "name": "stdout",
     "output_type": "stream",
     "text": [
      "hi\n"
     ]
    }
   ],
   "source": [
    "print('hi')"
   ]
  },
  {
   "cell_type": "code",
   "execution_count": 3,
   "metadata": {},
   "outputs": [
    {
     "name": "stdout",
     "output_type": "stream",
     "text": [
      "<_io.TextIOWrapper name='Fawzi_pycharm_project/slurm-3610927.out' mode='r' encoding='UTF-8'>\n"
     ]
    }
   ],
   "source": [
    "fh = open('Fawzi_pycharm_project/slurm-3610927.out', 'r')\n",
    "print(fh)"
   ]
  },
  {
   "cell_type": "code",
   "execution_count": 19,
   "metadata": {},
   "outputs": [],
   "source": [
    "fh = open('Fawzi_pycharm_project/slurm-3610927.out', 'r')\n",
    "import re\n",
    "for line in fh.readlines(): \n",
    "    if re.match('index list:', line):\n",
    "        ls = line[line.index('[') + 1 : len(line) - 2]\n",
    "        ls = ls.split(',')\n",
    "        if len(ls) != len(set(ls)):\n",
    "            print(ls)"
   ]
  },
  {
   "cell_type": "code",
   "execution_count": null,
   "metadata": {},
   "outputs": [],
   "source": []
  }
 ],
 "metadata": {
  "kernelspec": {
   "display_name": "Python 2",
   "language": "python",
   "name": "python2"
  },
  "language_info": {
   "codemirror_mode": {
    "name": "ipython",
    "version": 2
   },
   "file_extension": ".py",
   "mimetype": "text/x-python",
   "name": "python",
   "nbconvert_exporter": "python",
   "pygments_lexer": "ipython2",
   "version": "2.7.6"
  }
 },
 "nbformat": 4,
 "nbformat_minor": 0
}
