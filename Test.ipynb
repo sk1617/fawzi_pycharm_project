{
 "cells": [
  {
   "cell_type": "code",
   "execution_count": 1,
   "metadata": {},
   "outputs": [
    {
     "name": "stdout",
     "output_type": "stream",
     "text": [
      "working?\n"
     ]
    }
   ],
   "source": [
    "print('working?')\n"
   ]
  },
  {
   "cell_type": "code",
   "execution_count": 2,
   "metadata": {},
   "outputs": [],
   "source": [
    "linear_file = open('linear.txt')\n",
    "exponential_file = open('exponential.txt')"
   ]
  },
  {
   "cell_type": "code",
   "execution_count": 13,
   "metadata": {},
   "outputs": [],
   "source": [
    "import re\n",
    "import statistics as st"
   ]
  },
  {
   "cell_type": "code",
   "execution_count": 14,
   "metadata": {},
   "outputs": [
    {
     "name": "stdout",
     "output_type": "stream",
     "text": [
      "[1910377.2061048439, 1783147.4756271143, 2918554.11627951, 2417735.117987171, 1423623.460101099, 2004768.7686182042, 1928616.8040392264, 1783440.009747167, 2364479.838955894, 988333.6412086041, 2998667.7570643425, 1504289.3587774157, 2944329.1156539475, 2194244.1643425915, 1854502.8768699372, 2804869.4911658964, 2294632.1350891166, 2366684.305378239, 2954170.452791375, 1920724.0544744583, 2319062.2511836938, 1813735.3768766478, 2091054.7991274763, 3153741.3505303315, 3255808.3684676304, 1855604.2748498626, 2669294.9954022593, 2601552.3436543574, 1925903.740550574, 1996632.9357321854, 1792583.8169912177, 3495817.682695164, 2982646.574724363, 2411570.969398179, 2424671.8552284148, 2582827.0514652496, 3615377.0679053525, 2528457.905994523, 2332439.0832371265, 2500804.921498073, 2991330.1935501858, 2202933.8901029136, 2817096.5252932734, 3806575.912549746, 1555626.4612316543, 2222513.349495217, 2029006.7453679186, 2577472.8225561916, 3660131.170211224, 1291481.6100574133]\n2377278.9239240913 628339.0773546722\n"
     ]
    }
   ],
   "source": [
    "linear_file = open('linear.txt')\n",
    "linear_energies_list = []\n",
    "for line in linear_file.readlines(): \n",
    "    if 'index list energy' in line and 'og' not in line: \n",
    "        # print(line)\n",
    "        # print(re.search(r\"\\d*\\.\\d*\", line).group(0))\n",
    "        linear_energies_list.append(float(re.search(r\"\\d*\\.\\d*\", line).group(0)))\n",
    "print(linear_energies_list)\n",
    "print(st.mean(linear_energies_list), st.stdev(linear_energies_list))"
   ]
  },
  {
   "cell_type": "code",
   "execution_count": 15,
   "metadata": {},
   "outputs": [
    {
     "name": "stdout",
     "output_type": "stream",
     "text": [
      "[3918215.455943566, 2626263.410644788, 1195781.9413527807, 2234436.965343137, 1741750.8685681687, 2437048.1820932804, 3348085.30206642, 2493224.2604170395, 1977881.803556434, 2604709.8608447346, 2703617.299972751, 2993709.2222340694, 2250627.5985025717, 2640627.838406867, 3082498.1576015996, 2281108.930470907, 2632933.7055848697, 1631595.7088301135, 2797612.574722017, 2964368.8693031417, 3015789.862440645, 2636569.82202267, 2346295.8305807826, 2700742.194740863, 2694270.592433318, 1847575.0945839982, 2388022.162476639, 1864915.8021746667, 2253794.651743236, 2585713.0285826563, 3196558.854053115, 1429084.1798250726, 2055322.8063505318, 2521790.2009557304, 2483369.71223136, 3791465.5586920525, 2157426.617231136, 2445652.9713070043, 3020227.0027219984, 2868983.967055066, 2666434.3614699226, 2704316.709220012, 2232456.967102363, 1617773.9709537928, 3510073.0369493207, 3380885.3574278196, 2668206.010207941, 1749555.4445723246, 1564002.2707121368, 1632116.839158974]\n2491709.7967287283 597020.080890844\n"
     ]
    }
   ],
   "source": [
    "exponential_file = open('exponential.txt')\n",
    "exponential_energies_list = []\n",
    "for line in exponential_file.readlines(): \n",
    "    if 'index list energy' in line and 'og' not in line: \n",
    "        # print(line)\n",
    "        # print(re.search(r\"\\d*\\.\\d*\", line).group(0))\n",
    "        exponential_energies_list.append(float(re.search(r\"\\d*\\.\\d*\", line).group(0)))\n",
    "print(exponential_energies_list)\n",
    "print(st.mean(exponential_energies_list), st.stdev(exponential_energies_list))"
   ]
  },
  {
   "cell_type": "code",
   "execution_count": 1,
   "metadata": {},
   "outputs": [],
   "source": [
    "import pandas as pd"
   ]
  },
  {
   "cell_type": "code",
   "execution_count": 3,
   "metadata": {},
   "outputs": [],
   "source": [
    "dataframe = pd.DataFrame([], columns=['A'])\n"
   ]
  },
  {
   "cell_type": "code",
   "execution_count": 4,
   "metadata": {},
   "outputs": [
    {
     "data": {
      "text/html": [
       "<div>\n",
       "<style scoped>\n",
       "    .dataframe tbody tr th:only-of-type {\n",
       "        vertical-align: middle;\n",
       "    }\n",
       "\n",
       "    .dataframe tbody tr th {\n",
       "        vertical-align: top;\n",
       "    }\n",
       "\n",
       "    .dataframe thead th {\n",
       "        text-align: right;\n",
       "    }\n",
       "</style>\n",
       "<table border=\"1\" class=\"dataframe\">\n",
       "  <thead>\n",
       "    <tr style=\"text-align: right;\">\n",
       "      <th></th>\n",
       "      <th>A</th>\n",
       "    </tr>\n",
       "  </thead>\n",
       "  <tbody>\n",
       "  </tbody>\n",
       "</table>\n",
       "</div>"
      ],
      "text/plain": [
       "<div>\n",
       "<style scoped>\n",
       "    .dataframe tbody tr th:only-of-type {\n",
       "        vertical-align: middle;\n",
       "    }\n",
       "\n",
       "    .dataframe tbody tr th {\n",
       "        vertical-align: top;\n",
       "    }\n",
       "\n",
       "    .dataframe thead th {\n",
       "        text-align: right;\n",
       "    }\n",
       "</style>\n",
       "<table border=\"1\" class=\"dataframe\">\n",
       "  <thead>\n",
       "    <tr style=\"text-align: right;\">\n",
       "      <th></th>\n",
       "      <th>A</th>\n",
       "    </tr>\n",
       "  </thead>\n",
       "  <tbody>\n",
       "  </tbody>\n",
       "</table>\n",
       "</div>"
      ]
     },
     "execution_count": 4,
     "metadata": {},
     "output_type": "execute_result"
    }
   ],
   "source": [
    "dataframe"
   ]
  },
  {
   "cell_type": "code",
   "execution_count": null,
   "metadata": {},
   "outputs": [],
   "source": []
  }
 ],
 "metadata": {
  "kernelspec": {
   "display_name": "Python 2",
   "language": "python",
   "name": "python2"
  },
  "language_info": {
   "codemirror_mode": {
    "name": "ipython",
    "version": 2
   },
   "file_extension": ".py",
   "mimetype": "text/x-python",
   "name": "python",
   "nbconvert_exporter": "python",
   "pygments_lexer": "ipython2",
   "version": "2.7.6"
  }
 },
 "nbformat": 4,
 "nbformat_minor": 0
}
